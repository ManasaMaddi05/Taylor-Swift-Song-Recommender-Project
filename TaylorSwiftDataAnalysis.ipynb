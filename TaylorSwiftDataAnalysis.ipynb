{
 "cells": [
  {
   "cell_type": "code",
   "execution_count": 1,
   "id": "8dded1f3",
   "metadata": {},
   "outputs": [],
   "source": [
    "import babypandas as bpd\n",
    "import numpy as np\n",
    "from IPython.display import HTML, display, IFrame, YouTubeVideo, Markdown, clear_output\n",
    "import ipywidgets as widgets\n",
    "\n",
    "import matplotlib.pyplot as plt\n",
    "plt.style.use('ggplot')\n",
    "plt.rcParams[\"figure.figsize\"] = (10, 5)"
   ]
  },
  {
   "cell_type": "markdown",
   "id": "ed6f336b",
   "metadata": {},
   "source": [
    "<a id='outline'></a>\n",
    "\n",
    "### Outline \n",
    "\n",
    "- [Section 1: Data Visualization 👀](#section1)\n",
    "- [Section 2:  Song Recommender 🎧](#section2)\n",
    "- [Section 3: Lyric Searcher 🔍](#section3)\n",
    "- [Section 4: Keywords 🔑](#section4)"
   ]
  },
  {
   "cell_type": "markdown",
   "id": "a8c98ee3",
   "metadata": {},
   "source": [
    "<a id='section0'></a>\n",
    "## Welcome to `tswift` 👩‍💻\n"
   ]
  },
  {
   "cell_type": "code",
   "execution_count": 2,
   "id": "d72e3b42",
   "metadata": {
    "scrolled": false
   },
   "outputs": [
    {
     "data": {
      "text/html": [
       "<div>\n",
       "<style scoped>\n",
       "    .dataframe tbody tr th:only-of-type {\n",
       "        vertical-align: middle;\n",
       "    }\n",
       "\n",
       "    .dataframe tbody tr th {\n",
       "        vertical-align: top;\n",
       "    }\n",
       "\n",
       "    .dataframe thead th {\n",
       "        text-align: right;\n",
       "    }\n",
       "</style>\n",
       "<table border=\"1\" class=\"dataframe\">\n",
       "  <thead>\n",
       "    <tr style=\"text-align: right;\">\n",
       "      <th></th>\n",
       "      <th>Album</th>\n",
       "      <th>Song</th>\n",
       "      <th>Lyrics</th>\n",
       "    </tr>\n",
       "  </thead>\n",
       "  <tbody>\n",
       "    <tr>\n",
       "      <th>0</th>\n",
       "      <td>Midnights</td>\n",
       "      <td>Anti-Hero</td>\n",
       "      <td>I have this thing where I get older, but just ...</td>\n",
       "    </tr>\n",
       "    <tr>\n",
       "      <th>1</th>\n",
       "      <td>Midnights</td>\n",
       "      <td>Bejeweled</td>\n",
       "      <td>Baby love, I think I've been a little too kind...</td>\n",
       "    </tr>\n",
       "    <tr>\n",
       "      <th>2</th>\n",
       "      <td>Midnights</td>\n",
       "      <td>Bigger Than The Whole Sky</td>\n",
       "      <td>No words appear before me in the aftermath\\nSa...</td>\n",
       "    </tr>\n",
       "    <tr>\n",
       "      <th>3</th>\n",
       "      <td>Midnights</td>\n",
       "      <td>Dear Reader</td>\n",
       "      <td>Dear reader, if it feels like a trap\\nYou're a...</td>\n",
       "    </tr>\n",
       "    <tr>\n",
       "      <th>4</th>\n",
       "      <td>Midnights</td>\n",
       "      <td>Glitch</td>\n",
       "      <td>We were supposed to be just friends\\nYou don't...</td>\n",
       "    </tr>\n",
       "    <tr>\n",
       "      <th>...</th>\n",
       "      <td>...</td>\n",
       "      <td>...</td>\n",
       "      <td>...</td>\n",
       "    </tr>\n",
       "    <tr>\n",
       "      <th>188</th>\n",
       "      <td>Taylor Swift</td>\n",
       "      <td>Stay Beautiful</td>\n",
       "      <td>Cory's eyes are like a jungle\\nHe smiles, it's...</td>\n",
       "    </tr>\n",
       "    <tr>\n",
       "      <th>189</th>\n",
       "      <td>Taylor Swift</td>\n",
       "      <td>Teardrops On My Guitar</td>\n",
       "      <td>Drew looks at me\\nI fake a smile so he won't s...</td>\n",
       "    </tr>\n",
       "    <tr>\n",
       "      <th>190</th>\n",
       "      <td>Taylor Swift</td>\n",
       "      <td>The Outside</td>\n",
       "      <td>I didn't know what I would find\\nWhen I went l...</td>\n",
       "    </tr>\n",
       "    <tr>\n",
       "      <th>191</th>\n",
       "      <td>Taylor Swift</td>\n",
       "      <td>Tied Together With A Smile</td>\n",
       "      <td>Seems the only one who doesn't see your beauty...</td>\n",
       "    </tr>\n",
       "    <tr>\n",
       "      <th>192</th>\n",
       "      <td>Taylor Swift</td>\n",
       "      <td>Tim McGraw</td>\n",
       "      <td>He said the way my blue eyes shined\\nPut those...</td>\n",
       "    </tr>\n",
       "  </tbody>\n",
       "</table>\n",
       "<p>193 rows × 3 columns</p>\n",
       "</div>"
      ],
      "text/plain": [
       "            Album                        Song  \\\n",
       "0       Midnights                   Anti-Hero   \n",
       "1       Midnights                   Bejeweled   \n",
       "2       Midnights   Bigger Than The Whole Sky   \n",
       "3       Midnights                 Dear Reader   \n",
       "4       Midnights                      Glitch   \n",
       "..            ...                         ...   \n",
       "188  Taylor Swift              Stay Beautiful   \n",
       "189  Taylor Swift      Teardrops On My Guitar   \n",
       "190  Taylor Swift                 The Outside   \n",
       "191  Taylor Swift  Tied Together With A Smile   \n",
       "192  Taylor Swift                  Tim McGraw   \n",
       "\n",
       "                                                Lyrics  \n",
       "0    I have this thing where I get older, but just ...  \n",
       "1    Baby love, I think I've been a little too kind...  \n",
       "2    No words appear before me in the aftermath\\nSa...  \n",
       "3    Dear reader, if it feels like a trap\\nYou're a...  \n",
       "4    We were supposed to be just friends\\nYou don't...  \n",
       "..                                                 ...  \n",
       "188  Cory's eyes are like a jungle\\nHe smiles, it's...  \n",
       "189  Drew looks at me\\nI fake a smile so he won't s...  \n",
       "190  I didn't know what I would find\\nWhen I went l...  \n",
       "191  Seems the only one who doesn't see your beauty...  \n",
       "192  He said the way my blue eyes shined\\nPut those...  \n",
       "\n",
       "[193 rows x 3 columns]"
      ]
     },
     "execution_count": 2,
     "metadata": {},
     "output_type": "execute_result"
    }
   ],
   "source": [
    "lyrics = bpd.read_csv('data/lyrics.csv')\n",
    "lyrics"
   ]
  },
  {
   "cell_type": "code",
   "execution_count": 3,
   "id": "2618d488",
   "metadata": {
    "scrolled": false
   },
   "outputs": [
    {
     "data": {
      "text/html": [
       "<div>\n",
       "<style scoped>\n",
       "    .dataframe tbody tr th:only-of-type {\n",
       "        vertical-align: middle;\n",
       "    }\n",
       "\n",
       "    .dataframe tbody tr th {\n",
       "        vertical-align: top;\n",
       "    }\n",
       "\n",
       "    .dataframe thead th {\n",
       "        text-align: right;\n",
       "    }\n",
       "</style>\n",
       "<table border=\"1\" class=\"dataframe\">\n",
       "  <thead>\n",
       "    <tr style=\"text-align: right;\">\n",
       "      <th></th>\n",
       "      <th>Album</th>\n",
       "      <th>Lyrics</th>\n",
       "    </tr>\n",
       "    <tr>\n",
       "      <th>Song</th>\n",
       "      <th></th>\n",
       "      <th></th>\n",
       "    </tr>\n",
       "  </thead>\n",
       "  <tbody>\n",
       "    <tr>\n",
       "      <th>Anti-Hero</th>\n",
       "      <td>Midnights</td>\n",
       "      <td>I have this thing where I get older, but just ...</td>\n",
       "    </tr>\n",
       "    <tr>\n",
       "      <th>Bejeweled</th>\n",
       "      <td>Midnights</td>\n",
       "      <td>Baby love, I think I've been a little too kind...</td>\n",
       "    </tr>\n",
       "    <tr>\n",
       "      <th>Bigger Than The Whole Sky</th>\n",
       "      <td>Midnights</td>\n",
       "      <td>No words appear before me in the aftermath\\nSa...</td>\n",
       "    </tr>\n",
       "    <tr>\n",
       "      <th>Dear Reader</th>\n",
       "      <td>Midnights</td>\n",
       "      <td>Dear reader, if it feels like a trap\\nYou're a...</td>\n",
       "    </tr>\n",
       "    <tr>\n",
       "      <th>Glitch</th>\n",
       "      <td>Midnights</td>\n",
       "      <td>We were supposed to be just friends\\nYou don't...</td>\n",
       "    </tr>\n",
       "    <tr>\n",
       "      <th>...</th>\n",
       "      <td>...</td>\n",
       "      <td>...</td>\n",
       "    </tr>\n",
       "    <tr>\n",
       "      <th>Stay Beautiful</th>\n",
       "      <td>Taylor Swift</td>\n",
       "      <td>Cory's eyes are like a jungle\\nHe smiles, it's...</td>\n",
       "    </tr>\n",
       "    <tr>\n",
       "      <th>Teardrops On My Guitar</th>\n",
       "      <td>Taylor Swift</td>\n",
       "      <td>Drew looks at me\\nI fake a smile so he won't s...</td>\n",
       "    </tr>\n",
       "    <tr>\n",
       "      <th>The Outside</th>\n",
       "      <td>Taylor Swift</td>\n",
       "      <td>I didn't know what I would find\\nWhen I went l...</td>\n",
       "    </tr>\n",
       "    <tr>\n",
       "      <th>Tied Together With A Smile</th>\n",
       "      <td>Taylor Swift</td>\n",
       "      <td>Seems the only one who doesn't see your beauty...</td>\n",
       "    </tr>\n",
       "    <tr>\n",
       "      <th>Tim McGraw</th>\n",
       "      <td>Taylor Swift</td>\n",
       "      <td>He said the way my blue eyes shined\\nPut those...</td>\n",
       "    </tr>\n",
       "  </tbody>\n",
       "</table>\n",
       "<p>193 rows × 2 columns</p>\n",
       "</div>"
      ],
      "text/plain": [
       "                                   Album  \\\n",
       "Song                                       \n",
       "Anti-Hero                      Midnights   \n",
       "Bejeweled                      Midnights   \n",
       "Bigger Than The Whole Sky      Midnights   \n",
       "Dear Reader                    Midnights   \n",
       "Glitch                         Midnights   \n",
       "...                                  ...   \n",
       "Stay Beautiful              Taylor Swift   \n",
       "Teardrops On My Guitar      Taylor Swift   \n",
       "The Outside                 Taylor Swift   \n",
       "Tied Together With A Smile  Taylor Swift   \n",
       "Tim McGraw                  Taylor Swift   \n",
       "\n",
       "                                                                       Lyrics  \n",
       "Song                                                                           \n",
       "Anti-Hero                   I have this thing where I get older, but just ...  \n",
       "Bejeweled                   Baby love, I think I've been a little too kind...  \n",
       "Bigger Than The Whole Sky   No words appear before me in the aftermath\\nSa...  \n",
       "Dear Reader                 Dear reader, if it feels like a trap\\nYou're a...  \n",
       "Glitch                      We were supposed to be just friends\\nYou don't...  \n",
       "...                                                                       ...  \n",
       "Stay Beautiful              Cory's eyes are like a jungle\\nHe smiles, it's...  \n",
       "Teardrops On My Guitar      Drew looks at me\\nI fake a smile so he won't s...  \n",
       "The Outside                 I didn't know what I would find\\nWhen I went l...  \n",
       "Tied Together With A Smile  Seems the only one who doesn't see your beauty...  \n",
       "Tim McGraw                  He said the way my blue eyes shined\\nPut those...  \n",
       "\n",
       "[193 rows x 2 columns]"
      ]
     },
     "execution_count": 3,
     "metadata": {},
     "output_type": "execute_result"
    }
   ],
   "source": [
    "lyrics = lyrics.set_index('Song')\n",
    "lyrics"
   ]
  },
  {
   "cell_type": "code",
   "execution_count": 5,
   "id": "757afba7",
   "metadata": {
    "scrolled": true
   },
   "outputs": [
    {
     "name": "stdout",
     "output_type": "stream",
     "text": [
      "Once upon a time, the planets and the fates\n",
      "And all the stars aligned\n",
      "You and I ended up in the same room\n",
      "At the same time\n",
      "\n",
      "And the touch of a hand lit the fuse\n",
      "Of a chain reaction of countermoves\n",
      "To assess the equation of you\n",
      "Checkmate, I couldn't lose\n",
      "\n",
      "What if I told you none of it was accidental?\n",
      "And the first night that you saw me\n",
      "Nothing was gonna stop me\n",
      "I laid the groundwork, and then\n",
      "Just like clockwork\n",
      "The dominoes cascaded in a line\n",
      "What if I told you I'm a mastermind?\n",
      "And now you're mine\n",
      "It was all by dеsign\n",
      "'Cause I'm a mastermind\n",
      "\n",
      "You see, all the wisеst women\n",
      "Had to do it this way\n",
      "'Cause we were born to be the pawn\n",
      "In every lover's game\n",
      "\n",
      "If you fail to plan, you plan to fail\n",
      "Strategy sets the scene for the tale\n",
      "I'm the wind in our free-flowing sails\n",
      "And the liquor in our cocktails\n",
      "\n",
      "What if I told you none of it was accidental?\n",
      "And the first night that you saw me\n",
      "I knew I wanted your body\n",
      "I laid the groundwork, and then\n",
      "Just like clockwork\n",
      "The dominoes cascaded in a line\n",
      "What if I told you I'm a mastermind?\n",
      "And now you're mine\n",
      "It was all my design\n",
      "'Cause I'm a mastermind\n",
      "\n",
      "No one wanted to play with me as a little kid\n",
      "So I've been scheming like a criminal ever since\n",
      "To make them love me and make it seem effortless\n",
      "This is the first time I've felt the need to confess\n",
      "And I swear\n",
      "I'm only cryptic and Machiavellian\n",
      "'Cause I care\n",
      "\n",
      "So I told you none of it was accidental\n",
      "And the first night that you saw me\n",
      "Nothing was gonna stop me\n",
      "I laid the groundwork, and then\n",
      "Saw a wide smirk on your face\n",
      "You knew the entire time\n",
      "You knew that I'm a mastermind\n",
      "And now you're mine\n",
      "Yeah, all you did was smile\n",
      "'Cause I'm a mastermind\n"
     ]
    },
    {
     "data": {
      "text/plain": [
       "\"Once upon a time, the planets and the fates\\nAnd all the stars aligned\\nYou and I ended up in the same room\\nAt the same time\\n\\nAnd the touch of a hand lit the fuse\\nOf a chain reaction of countermoves\\nTo assess the equation of you\\nCheckmate, I couldn't lose\\n\\nWhat if I told you none of it was accidental?\\nAnd the first night that you saw me\\nNothing was gonna stop me\\nI laid the groundwork, and then\\nJust like clockwork\\nThe dominoes cascaded in a line\\nWhat if I told you I'm a mastermind?\\nAnd now you're mine\\nIt was all by dеsign\\n'Cause I'm a mastermind\\n\\nYou see, all the wisеst women\\nHad to do it this way\\n'Cause we were born to be the pawn\\nIn every lover's game\\n\\nIf you fail to plan, you plan to fail\\nStrategy sets the scene for the tale\\nI'm the wind in our free-flowing sails\\nAnd the liquor in our cocktails\\n\\nWhat if I told you none of it was accidental?\\nAnd the first night that you saw me\\nI knew I wanted your body\\nI laid the groundwork, and then\\nJust like clockwork\\nThe dominoes cascaded in a line\\nWhat if I told you I'm a mastermind?\\nAnd now you're mine\\nIt was all my design\\n'Cause I'm a mastermind\\n\\nNo one wanted to play with me as a little kid\\nSo I've been scheming like a criminal ever since\\nTo make them love me and make it seem effortless\\nThis is the first time I've felt the need to confess\\nAnd I swear\\nI'm only cryptic and Machiavellian\\n'Cause I care\\n\\nSo I told you none of it was accidental\\nAnd the first night that you saw me\\nNothing was gonna stop me\\nI laid the groundwork, and then\\nSaw a wide smirk on your face\\nYou knew the entire time\\nYou knew that I'm a mastermind\\nAnd now you're mine\\nYeah, all you did was smile\\n'Cause I'm a mastermind\""
      ]
     },
     "execution_count": 5,
     "metadata": {},
     "output_type": "execute_result"
    }
   ],
   "source": [
    "mastermind = lyrics[lyrics.index == 'Mastermind'].get('Lyrics').iloc[0]\n",
    "print(mastermind) # print allows us to read the text better --> escape sequences are removed/executed\n",
    "mastermind"
   ]
  },
  {
   "cell_type": "code",
   "execution_count": 7,
   "id": "cf408883",
   "metadata": {},
   "outputs": [
    {
     "data": {
      "text/html": [
       "<div>\n",
       "<style scoped>\n",
       "    .dataframe tbody tr th:only-of-type {\n",
       "        vertical-align: middle;\n",
       "    }\n",
       "\n",
       "    .dataframe tbody tr th {\n",
       "        vertical-align: top;\n",
       "    }\n",
       "\n",
       "    .dataframe thead th {\n",
       "        text-align: right;\n",
       "    }\n",
       "</style>\n",
       "<table border=\"1\" class=\"dataframe\">\n",
       "  <thead>\n",
       "    <tr style=\"text-align: right;\">\n",
       "      <th></th>\n",
       "      <th>URI</th>\n",
       "      <th>Album</th>\n",
       "      <th>Song Name</th>\n",
       "      <th>Disc Number</th>\n",
       "      <th>Track Number</th>\n",
       "      <th>Popularity</th>\n",
       "      <th>Explicit</th>\n",
       "      <th>Danceability</th>\n",
       "      <th>Energy</th>\n",
       "      <th>Key</th>\n",
       "      <th>Loudness</th>\n",
       "      <th>Mode</th>\n",
       "      <th>Speechiness</th>\n",
       "      <th>Acousticness</th>\n",
       "      <th>Instrumentalness</th>\n",
       "      <th>Liveness</th>\n",
       "      <th>Valence</th>\n",
       "      <th>Tempo</th>\n",
       "      <th>Duration_ms</th>\n",
       "      <th>Time Signature</th>\n",
       "    </tr>\n",
       "  </thead>\n",
       "  <tbody>\n",
       "    <tr>\n",
       "      <th>0</th>\n",
       "      <td>1BxfuPKGuaTgP7aM0Bbdwr</td>\n",
       "      <td>Lover</td>\n",
       "      <td>Cruel Summer</td>\n",
       "      <td>1</td>\n",
       "      <td>2</td>\n",
       "      <td>99</td>\n",
       "      <td>False</td>\n",
       "      <td>0.552</td>\n",
       "      <td>0.702</td>\n",
       "      <td>9</td>\n",
       "      <td>-5.707</td>\n",
       "      <td>1</td>\n",
       "      <td>0.1570</td>\n",
       "      <td>0.11700</td>\n",
       "      <td>0.000021</td>\n",
       "      <td>0.1050</td>\n",
       "      <td>0.564</td>\n",
       "      <td>169.994</td>\n",
       "      <td>178427</td>\n",
       "      <td>4</td>\n",
       "    </tr>\n",
       "    <tr>\n",
       "      <th>1</th>\n",
       "      <td>0V3wPSX9ygBnCm8psDIegu</td>\n",
       "      <td>Midnights</td>\n",
       "      <td>Anti-Hero</td>\n",
       "      <td>1</td>\n",
       "      <td>3</td>\n",
       "      <td>93</td>\n",
       "      <td>False</td>\n",
       "      <td>0.637</td>\n",
       "      <td>0.643</td>\n",
       "      <td>4</td>\n",
       "      <td>-6.571</td>\n",
       "      <td>1</td>\n",
       "      <td>0.0519</td>\n",
       "      <td>0.13000</td>\n",
       "      <td>0.000002</td>\n",
       "      <td>0.1420</td>\n",
       "      <td>0.533</td>\n",
       "      <td>97.008</td>\n",
       "      <td>200690</td>\n",
       "      <td>4</td>\n",
       "    </tr>\n",
       "    <tr>\n",
       "      <th>2</th>\n",
       "      <td>3hUxzQpSfdDqwM3ZTFQY0K</td>\n",
       "      <td>folklore</td>\n",
       "      <td>august</td>\n",
       "      <td>1</td>\n",
       "      <td>8</td>\n",
       "      <td>92</td>\n",
       "      <td>False</td>\n",
       "      <td>0.532</td>\n",
       "      <td>0.623</td>\n",
       "      <td>5</td>\n",
       "      <td>-9.208</td>\n",
       "      <td>1</td>\n",
       "      <td>0.0331</td>\n",
       "      <td>0.53800</td>\n",
       "      <td>0.000073</td>\n",
       "      <td>0.0925</td>\n",
       "      <td>0.403</td>\n",
       "      <td>89.937</td>\n",
       "      <td>261923</td>\n",
       "      <td>4</td>\n",
       "    </tr>\n",
       "    <tr>\n",
       "      <th>3</th>\n",
       "      <td>1R0a2iXumgCiFb7HEZ7gUE</td>\n",
       "      <td>Reputation</td>\n",
       "      <td>Don't Blame Me</td>\n",
       "      <td>1</td>\n",
       "      <td>4</td>\n",
       "      <td>91</td>\n",
       "      <td>False</td>\n",
       "      <td>0.615</td>\n",
       "      <td>0.534</td>\n",
       "      <td>9</td>\n",
       "      <td>-6.719</td>\n",
       "      <td>0</td>\n",
       "      <td>0.0386</td>\n",
       "      <td>0.10600</td>\n",
       "      <td>0.000018</td>\n",
       "      <td>0.0607</td>\n",
       "      <td>0.193</td>\n",
       "      <td>135.917</td>\n",
       "      <td>236413</td>\n",
       "      <td>4</td>\n",
       "    </tr>\n",
       "    <tr>\n",
       "      <th>4</th>\n",
       "      <td>1dGr1c8CrMLDpV6mPbImSI</td>\n",
       "      <td>Lover</td>\n",
       "      <td>Lover</td>\n",
       "      <td>1</td>\n",
       "      <td>3</td>\n",
       "      <td>91</td>\n",
       "      <td>False</td>\n",
       "      <td>0.359</td>\n",
       "      <td>0.543</td>\n",
       "      <td>7</td>\n",
       "      <td>-7.582</td>\n",
       "      <td>1</td>\n",
       "      <td>0.0919</td>\n",
       "      <td>0.49200</td>\n",
       "      <td>0.000016</td>\n",
       "      <td>0.1180</td>\n",
       "      <td>0.453</td>\n",
       "      <td>68.534</td>\n",
       "      <td>221307</td>\n",
       "      <td>4</td>\n",
       "    </tr>\n",
       "    <tr>\n",
       "      <th>...</th>\n",
       "      <td>...</td>\n",
       "      <td>...</td>\n",
       "      <td>...</td>\n",
       "      <td>...</td>\n",
       "      <td>...</td>\n",
       "      <td>...</td>\n",
       "      <td>...</td>\n",
       "      <td>...</td>\n",
       "      <td>...</td>\n",
       "      <td>...</td>\n",
       "      <td>...</td>\n",
       "      <td>...</td>\n",
       "      <td>...</td>\n",
       "      <td>...</td>\n",
       "      <td>...</td>\n",
       "      <td>...</td>\n",
       "      <td>...</td>\n",
       "      <td>...</td>\n",
       "      <td>...</td>\n",
       "      <td>...</td>\n",
       "    </tr>\n",
       "    <tr>\n",
       "      <th>188</th>\n",
       "      <td>2ZoOmCSgj0ypVAmGd1ve4y</td>\n",
       "      <td>Taylor Swift</td>\n",
       "      <td>Stay Beautiful</td>\n",
       "      <td>1</td>\n",
       "      <td>8</td>\n",
       "      <td>59</td>\n",
       "      <td>False</td>\n",
       "      <td>0.594</td>\n",
       "      <td>0.629</td>\n",
       "      <td>8</td>\n",
       "      <td>-4.919</td>\n",
       "      <td>1</td>\n",
       "      <td>0.0246</td>\n",
       "      <td>0.08680</td>\n",
       "      <td>0.000000</td>\n",
       "      <td>0.1370</td>\n",
       "      <td>0.504</td>\n",
       "      <td>131.597</td>\n",
       "      <td>236053</td>\n",
       "      <td>4</td>\n",
       "    </tr>\n",
       "    <tr>\n",
       "      <th>189</th>\n",
       "      <td>6K0CJLVXqbGMeJSmJ4ENKK</td>\n",
       "      <td>Taylor Swift</td>\n",
       "      <td>Tied Together With A Smile</td>\n",
       "      <td>1</td>\n",
       "      <td>7</td>\n",
       "      <td>59</td>\n",
       "      <td>False</td>\n",
       "      <td>0.479</td>\n",
       "      <td>0.578</td>\n",
       "      <td>2</td>\n",
       "      <td>-4.963</td>\n",
       "      <td>1</td>\n",
       "      <td>0.0294</td>\n",
       "      <td>0.52500</td>\n",
       "      <td>0.000000</td>\n",
       "      <td>0.0841</td>\n",
       "      <td>0.192</td>\n",
       "      <td>146.165</td>\n",
       "      <td>248107</td>\n",
       "      <td>4</td>\n",
       "    </tr>\n",
       "    <tr>\n",
       "      <th>190</th>\n",
       "      <td>5OOd01o2YS1QFwdpVLds3r</td>\n",
       "      <td>Taylor Swift</td>\n",
       "      <td>Invisible</td>\n",
       "      <td>1</td>\n",
       "      <td>13</td>\n",
       "      <td>58</td>\n",
       "      <td>False</td>\n",
       "      <td>0.612</td>\n",
       "      <td>0.394</td>\n",
       "      <td>7</td>\n",
       "      <td>-5.723</td>\n",
       "      <td>1</td>\n",
       "      <td>0.0243</td>\n",
       "      <td>0.63700</td>\n",
       "      <td>0.000000</td>\n",
       "      <td>0.1470</td>\n",
       "      <td>0.233</td>\n",
       "      <td>96.001</td>\n",
       "      <td>203227</td>\n",
       "      <td>4</td>\n",
       "    </tr>\n",
       "    <tr>\n",
       "      <th>191</th>\n",
       "      <td>2QA3IixpRcKyOdG7XDzRgv</td>\n",
       "      <td>Taylor Swift</td>\n",
       "      <td>The Outside</td>\n",
       "      <td>1</td>\n",
       "      <td>6</td>\n",
       "      <td>58</td>\n",
       "      <td>False</td>\n",
       "      <td>0.589</td>\n",
       "      <td>0.805</td>\n",
       "      <td>5</td>\n",
       "      <td>-4.055</td>\n",
       "      <td>1</td>\n",
       "      <td>0.0293</td>\n",
       "      <td>0.00491</td>\n",
       "      <td>0.000000</td>\n",
       "      <td>0.2400</td>\n",
       "      <td>0.591</td>\n",
       "      <td>112.982</td>\n",
       "      <td>207107</td>\n",
       "      <td>4</td>\n",
       "    </tr>\n",
       "    <tr>\n",
       "      <th>192</th>\n",
       "      <td>1spLfUJxtyVyiKKTegQ2r4</td>\n",
       "      <td>Taylor Swift</td>\n",
       "      <td>A Perfectly Good Heart</td>\n",
       "      <td>1</td>\n",
       "      <td>14</td>\n",
       "      <td>57</td>\n",
       "      <td>False</td>\n",
       "      <td>0.483</td>\n",
       "      <td>0.751</td>\n",
       "      <td>4</td>\n",
       "      <td>-5.726</td>\n",
       "      <td>1</td>\n",
       "      <td>0.0365</td>\n",
       "      <td>0.00349</td>\n",
       "      <td>0.000000</td>\n",
       "      <td>0.1280</td>\n",
       "      <td>0.268</td>\n",
       "      <td>156.092</td>\n",
       "      <td>220147</td>\n",
       "      <td>4</td>\n",
       "    </tr>\n",
       "  </tbody>\n",
       "</table>\n",
       "<p>193 rows × 20 columns</p>\n",
       "</div>"
      ],
      "text/plain": [
       "                        URI         Album                   Song Name  \\\n",
       "0    1BxfuPKGuaTgP7aM0Bbdwr         Lover                Cruel Summer   \n",
       "1    0V3wPSX9ygBnCm8psDIegu     Midnights                   Anti-Hero   \n",
       "2    3hUxzQpSfdDqwM3ZTFQY0K      folklore                      august   \n",
       "3    1R0a2iXumgCiFb7HEZ7gUE    Reputation              Don't Blame Me   \n",
       "4    1dGr1c8CrMLDpV6mPbImSI         Lover                       Lover   \n",
       "..                      ...           ...                         ...   \n",
       "188  2ZoOmCSgj0ypVAmGd1ve4y  Taylor Swift              Stay Beautiful   \n",
       "189  6K0CJLVXqbGMeJSmJ4ENKK  Taylor Swift  Tied Together With A Smile   \n",
       "190  5OOd01o2YS1QFwdpVLds3r  Taylor Swift                   Invisible   \n",
       "191  2QA3IixpRcKyOdG7XDzRgv  Taylor Swift                 The Outside   \n",
       "192  1spLfUJxtyVyiKKTegQ2r4  Taylor Swift      A Perfectly Good Heart   \n",
       "\n",
       "     Disc Number  Track Number  Popularity  Explicit  Danceability  Energy  \\\n",
       "0              1             2          99     False         0.552   0.702   \n",
       "1              1             3          93     False         0.637   0.643   \n",
       "2              1             8          92     False         0.532   0.623   \n",
       "3              1             4          91     False         0.615   0.534   \n",
       "4              1             3          91     False         0.359   0.543   \n",
       "..           ...           ...         ...       ...           ...     ...   \n",
       "188            1             8          59     False         0.594   0.629   \n",
       "189            1             7          59     False         0.479   0.578   \n",
       "190            1            13          58     False         0.612   0.394   \n",
       "191            1             6          58     False         0.589   0.805   \n",
       "192            1            14          57     False         0.483   0.751   \n",
       "\n",
       "     Key  Loudness  Mode  Speechiness  Acousticness  Instrumentalness  \\\n",
       "0      9    -5.707     1       0.1570       0.11700          0.000021   \n",
       "1      4    -6.571     1       0.0519       0.13000          0.000002   \n",
       "2      5    -9.208     1       0.0331       0.53800          0.000073   \n",
       "3      9    -6.719     0       0.0386       0.10600          0.000018   \n",
       "4      7    -7.582     1       0.0919       0.49200          0.000016   \n",
       "..   ...       ...   ...          ...           ...               ...   \n",
       "188    8    -4.919     1       0.0246       0.08680          0.000000   \n",
       "189    2    -4.963     1       0.0294       0.52500          0.000000   \n",
       "190    7    -5.723     1       0.0243       0.63700          0.000000   \n",
       "191    5    -4.055     1       0.0293       0.00491          0.000000   \n",
       "192    4    -5.726     1       0.0365       0.00349          0.000000   \n",
       "\n",
       "     Liveness  Valence    Tempo  Duration_ms  Time Signature  \n",
       "0      0.1050    0.564  169.994       178427               4  \n",
       "1      0.1420    0.533   97.008       200690               4  \n",
       "2      0.0925    0.403   89.937       261923               4  \n",
       "3      0.0607    0.193  135.917       236413               4  \n",
       "4      0.1180    0.453   68.534       221307               4  \n",
       "..        ...      ...      ...          ...             ...  \n",
       "188    0.1370    0.504  131.597       236053               4  \n",
       "189    0.0841    0.192  146.165       248107               4  \n",
       "190    0.1470    0.233   96.001       203227               4  \n",
       "191    0.2400    0.591  112.982       207107               4  \n",
       "192    0.1280    0.268  156.092       220147               4  \n",
       "\n",
       "[193 rows x 20 columns]"
      ]
     },
     "execution_count": 7,
     "metadata": {},
     "output_type": "execute_result"
    }
   ],
   "source": [
    "tswift = bpd.read_csv('data/tswift.csv')\n",
    "tswift"
   ]
  },
  {
   "cell_type": "markdown",
   "id": "9069d3d0",
   "metadata": {},
   "source": [
    "`tswift` contains a lot of information! We've used the [documentation](https://developer.spotify.com/documentation/web-api/reference/#/operations/get-several-audio-features) provided by Spotify to create the table below, which describes the columns present in `tswift` and what they represent. Note that many of these features (such as `'Valence'`) are defined and determined by Spotify. We have no way of knowing exactly how they determine the values of these audio features for each song, as their algorithms are proprietary.\n",
    "\n",
    "| Variable Name | Data Type | Explanation |\n",
    "| -------- | ------- | ------- |\n",
    "| `'URI'`  | str | Unique identifier for the song in Spotify. |\n",
    "| `'Album'`  | str | Album name. |\n",
    "| `'Song Name'`  | str | Song name. |\n",
    "| `'Disc Number'`  | int | Disc number, usually 1 unless the album contains more than 1 disc. |\n",
    "| `'Track Number'`  | int | The number of the track on the specified disc. |\n",
    "| `'Popularity'`  | int | 0 to 100 scale of the current popularity of the song. |\n",
    "| `'Explicit'`  | bool | True if the song contains explicit words, False otherwise. |\n",
    "| `'Danceability'`  | float | 0 to 1 scale of how suitable a track is for dancing. |\n",
    "| `'Energy'`  | float | 0 to 1 scale of a track's activity and intensity. |\n",
    "| `'Key'`  | int | The average key/pitch of a track, where 0 = C, 1 = C#/Db, 2 = D, and so on. |\n",
    "| `'Loudness'`  | float | The average loudness of a track, measured on a relative scale in decibels. Values typically range between -60 (softer) and 0 (louder). |\n",
    "| `'Mode'`  | int | Either 0 for a minor key, or 1 for a major key.|\n",
    "| `'Speechiness'`  | float | 0 to 1 scale measuring the prevalence of spoken words. |\n",
    "| `'Acousticness'`  | float | 0 to 1 scale measuring how likely a track is to be acoustic. |\n",
    "| `'Instrumentalness'`  | float | 0 to 1 scale measuring how likely a track is to be instrumental (without vocals). |\n",
    "| `'Liveness'`  | float | 0 to 1 scale measuring how likely a track is to have been recorded with a live audience.|\n",
    "| `'Valence'`  | float | 0 to 1 scale of how positive or happy a track is. |\n",
    "| `'Tempo'`  | float | The estimated number of beats per minute. |\n",
    "| `'Duration_ms'`  | int | Length of song in milliseconds. |\n",
    "| `'Time Signature'`  | int | The number of beats in each bar (or measure). |"
   ]
  },
  {
   "cell_type": "code",
   "execution_count": 8,
   "id": "74b03cce",
   "metadata": {},
   "outputs": [
    {
     "data": {
      "text/html": [
       "<div>\n",
       "<style scoped>\n",
       "    .dataframe tbody tr th:only-of-type {\n",
       "        vertical-align: middle;\n",
       "    }\n",
       "\n",
       "    .dataframe tbody tr th {\n",
       "        vertical-align: top;\n",
       "    }\n",
       "\n",
       "    .dataframe thead th {\n",
       "        text-align: right;\n",
       "    }\n",
       "</style>\n",
       "<table border=\"1\" class=\"dataframe\">\n",
       "  <thead>\n",
       "    <tr style=\"text-align: right;\">\n",
       "      <th></th>\n",
       "      <th>Album</th>\n",
       "      <th>Release Date</th>\n",
       "    </tr>\n",
       "  </thead>\n",
       "  <tbody>\n",
       "    <tr>\n",
       "      <th>0</th>\n",
       "      <td>Taylor Swift</td>\n",
       "      <td>October 24, 2006</td>\n",
       "    </tr>\n",
       "    <tr>\n",
       "      <th>1</th>\n",
       "      <td>Fearless</td>\n",
       "      <td>November 11, 2008</td>\n",
       "    </tr>\n",
       "    <tr>\n",
       "      <th>2</th>\n",
       "      <td>Speak Now</td>\n",
       "      <td>October 25, 2010</td>\n",
       "    </tr>\n",
       "    <tr>\n",
       "      <th>3</th>\n",
       "      <td>Red</td>\n",
       "      <td>October 22, 2012</td>\n",
       "    </tr>\n",
       "    <tr>\n",
       "      <th>4</th>\n",
       "      <td>1989</td>\n",
       "      <td>October 27, 2014</td>\n",
       "    </tr>\n",
       "    <tr>\n",
       "      <th>5</th>\n",
       "      <td>Reputation</td>\n",
       "      <td>November 10, 2017</td>\n",
       "    </tr>\n",
       "    <tr>\n",
       "      <th>6</th>\n",
       "      <td>Lover</td>\n",
       "      <td>August 23, 2019</td>\n",
       "    </tr>\n",
       "    <tr>\n",
       "      <th>7</th>\n",
       "      <td>folklore</td>\n",
       "      <td>July 24, 2020</td>\n",
       "    </tr>\n",
       "    <tr>\n",
       "      <th>8</th>\n",
       "      <td>evermore</td>\n",
       "      <td>December 11, 2020</td>\n",
       "    </tr>\n",
       "    <tr>\n",
       "      <th>9</th>\n",
       "      <td>Midnights</td>\n",
       "      <td>October 21, 2022</td>\n",
       "    </tr>\n",
       "  </tbody>\n",
       "</table>\n",
       "</div>"
      ],
      "text/plain": [
       "          Album       Release Date\n",
       "0  Taylor Swift   October 24, 2006\n",
       "1      Fearless  November 11, 2008\n",
       "2     Speak Now   October 25, 2010\n",
       "3           Red   October 22, 2012\n",
       "4          1989   October 27, 2014\n",
       "5    Reputation  November 10, 2017\n",
       "6         Lover    August 23, 2019\n",
       "7      folklore      July 24, 2020\n",
       "8      evermore  December 11, 2020\n",
       "9     Midnights   October 21, 2022"
      ]
     },
     "execution_count": 8,
     "metadata": {},
     "output_type": "execute_result"
    }
   ],
   "source": [
    "albums = bpd.read_csv('data/albums.csv')\n",
    "albums"
   ]
  },
  {
   "cell_type": "code",
   "execution_count": 9,
   "id": "30b6be2d",
   "metadata": {},
   "outputs": [
    {
     "data": {
      "text/html": [
       "<div>\n",
       "<style scoped>\n",
       "    .dataframe tbody tr th:only-of-type {\n",
       "        vertical-align: middle;\n",
       "    }\n",
       "\n",
       "    .dataframe tbody tr th {\n",
       "        vertical-align: top;\n",
       "    }\n",
       "\n",
       "    .dataframe thead th {\n",
       "        text-align: right;\n",
       "    }\n",
       "</style>\n",
       "<table border=\"1\" class=\"dataframe\">\n",
       "  <thead>\n",
       "    <tr style=\"text-align: right;\">\n",
       "      <th></th>\n",
       "      <th>URI</th>\n",
       "      <th>Album</th>\n",
       "      <th>Song Name</th>\n",
       "      <th>Disc Number</th>\n",
       "      <th>Track Number</th>\n",
       "      <th>Popularity</th>\n",
       "      <th>Explicit</th>\n",
       "      <th>Danceability</th>\n",
       "      <th>Energy</th>\n",
       "      <th>Key</th>\n",
       "      <th>...</th>\n",
       "      <th>Mode</th>\n",
       "      <th>Speechiness</th>\n",
       "      <th>Acousticness</th>\n",
       "      <th>Instrumentalness</th>\n",
       "      <th>Liveness</th>\n",
       "      <th>Valence</th>\n",
       "      <th>Tempo</th>\n",
       "      <th>Duration_ms</th>\n",
       "      <th>Time Signature</th>\n",
       "      <th>Year</th>\n",
       "    </tr>\n",
       "  </thead>\n",
       "  <tbody>\n",
       "    <tr>\n",
       "      <th>0</th>\n",
       "      <td>1BxfuPKGuaTgP7aM0Bbdwr</td>\n",
       "      <td>Lover</td>\n",
       "      <td>Cruel Summer</td>\n",
       "      <td>1</td>\n",
       "      <td>2</td>\n",
       "      <td>99</td>\n",
       "      <td>False</td>\n",
       "      <td>0.552</td>\n",
       "      <td>0.702</td>\n",
       "      <td>9</td>\n",
       "      <td>...</td>\n",
       "      <td>1</td>\n",
       "      <td>0.1570</td>\n",
       "      <td>0.11700</td>\n",
       "      <td>0.000021</td>\n",
       "      <td>0.1050</td>\n",
       "      <td>0.564</td>\n",
       "      <td>169.994</td>\n",
       "      <td>178427</td>\n",
       "      <td>4</td>\n",
       "      <td>2019</td>\n",
       "    </tr>\n",
       "    <tr>\n",
       "      <th>1</th>\n",
       "      <td>1dGr1c8CrMLDpV6mPbImSI</td>\n",
       "      <td>Lover</td>\n",
       "      <td>Lover</td>\n",
       "      <td>1</td>\n",
       "      <td>3</td>\n",
       "      <td>91</td>\n",
       "      <td>False</td>\n",
       "      <td>0.359</td>\n",
       "      <td>0.543</td>\n",
       "      <td>7</td>\n",
       "      <td>...</td>\n",
       "      <td>1</td>\n",
       "      <td>0.0919</td>\n",
       "      <td>0.49200</td>\n",
       "      <td>0.000016</td>\n",
       "      <td>0.1180</td>\n",
       "      <td>0.453</td>\n",
       "      <td>68.534</td>\n",
       "      <td>221307</td>\n",
       "      <td>4</td>\n",
       "      <td>2019</td>\n",
       "    </tr>\n",
       "    <tr>\n",
       "      <th>2</th>\n",
       "      <td>4y5bvROuBDPr5fuwXbIBZR</td>\n",
       "      <td>Lover</td>\n",
       "      <td>Paper Rings</td>\n",
       "      <td>1</td>\n",
       "      <td>8</td>\n",
       "      <td>86</td>\n",
       "      <td>False</td>\n",
       "      <td>0.811</td>\n",
       "      <td>0.719</td>\n",
       "      <td>9</td>\n",
       "      <td>...</td>\n",
       "      <td>1</td>\n",
       "      <td>0.0497</td>\n",
       "      <td>0.01290</td>\n",
       "      <td>0.000014</td>\n",
       "      <td>0.0742</td>\n",
       "      <td>0.865</td>\n",
       "      <td>103.979</td>\n",
       "      <td>222400</td>\n",
       "      <td>4</td>\n",
       "      <td>2019</td>\n",
       "    </tr>\n",
       "    <tr>\n",
       "      <th>3</th>\n",
       "      <td>3RauEVgRgj1IuWdJ9fDs70</td>\n",
       "      <td>Lover</td>\n",
       "      <td>The Man</td>\n",
       "      <td>1</td>\n",
       "      <td>4</td>\n",
       "      <td>86</td>\n",
       "      <td>False</td>\n",
       "      <td>0.777</td>\n",
       "      <td>0.658</td>\n",
       "      <td>0</td>\n",
       "      <td>...</td>\n",
       "      <td>1</td>\n",
       "      <td>0.0540</td>\n",
       "      <td>0.07670</td>\n",
       "      <td>0.000000</td>\n",
       "      <td>0.0901</td>\n",
       "      <td>0.633</td>\n",
       "      <td>110.048</td>\n",
       "      <td>190360</td>\n",
       "      <td>4</td>\n",
       "      <td>2019</td>\n",
       "    </tr>\n",
       "    <tr>\n",
       "      <th>4</th>\n",
       "      <td>6RRNNciQGZEXnqk8SQ9yv5</td>\n",
       "      <td>Lover</td>\n",
       "      <td>You Need To Calm Down</td>\n",
       "      <td>1</td>\n",
       "      <td>14</td>\n",
       "      <td>84</td>\n",
       "      <td>False</td>\n",
       "      <td>0.771</td>\n",
       "      <td>0.671</td>\n",
       "      <td>2</td>\n",
       "      <td>...</td>\n",
       "      <td>1</td>\n",
       "      <td>0.0553</td>\n",
       "      <td>0.00929</td>\n",
       "      <td>0.000000</td>\n",
       "      <td>0.0637</td>\n",
       "      <td>0.714</td>\n",
       "      <td>85.026</td>\n",
       "      <td>171360</td>\n",
       "      <td>4</td>\n",
       "      <td>2019</td>\n",
       "    </tr>\n",
       "    <tr>\n",
       "      <th>...</th>\n",
       "      <td>...</td>\n",
       "      <td>...</td>\n",
       "      <td>...</td>\n",
       "      <td>...</td>\n",
       "      <td>...</td>\n",
       "      <td>...</td>\n",
       "      <td>...</td>\n",
       "      <td>...</td>\n",
       "      <td>...</td>\n",
       "      <td>...</td>\n",
       "      <td>...</td>\n",
       "      <td>...</td>\n",
       "      <td>...</td>\n",
       "      <td>...</td>\n",
       "      <td>...</td>\n",
       "      <td>...</td>\n",
       "      <td>...</td>\n",
       "      <td>...</td>\n",
       "      <td>...</td>\n",
       "      <td>...</td>\n",
       "      <td>...</td>\n",
       "    </tr>\n",
       "    <tr>\n",
       "      <th>188</th>\n",
       "      <td>0lmMtDQ2ElasKU2qDAE6NN</td>\n",
       "      <td>1989</td>\n",
       "      <td>All You Had To Do Was Stay</td>\n",
       "      <td>1</td>\n",
       "      <td>5</td>\n",
       "      <td>66</td>\n",
       "      <td>False</td>\n",
       "      <td>0.605</td>\n",
       "      <td>0.725</td>\n",
       "      <td>5</td>\n",
       "      <td>...</td>\n",
       "      <td>1</td>\n",
       "      <td>0.0323</td>\n",
       "      <td>0.00201</td>\n",
       "      <td>0.000020</td>\n",
       "      <td>0.1010</td>\n",
       "      <td>0.539</td>\n",
       "      <td>96.970</td>\n",
       "      <td>193293</td>\n",
       "      <td>4</td>\n",
       "      <td>2014</td>\n",
       "    </tr>\n",
       "    <tr>\n",
       "      <th>189</th>\n",
       "      <td>0yN4fNzmVnmgC0dsOoi9Wh</td>\n",
       "      <td>1989</td>\n",
       "      <td>Bad Blood</td>\n",
       "      <td>1</td>\n",
       "      <td>8</td>\n",
       "      <td>65</td>\n",
       "      <td>False</td>\n",
       "      <td>0.646</td>\n",
       "      <td>0.794</td>\n",
       "      <td>7</td>\n",
       "      <td>...</td>\n",
       "      <td>1</td>\n",
       "      <td>0.1900</td>\n",
       "      <td>0.08850</td>\n",
       "      <td>0.000006</td>\n",
       "      <td>0.2010</td>\n",
       "      <td>0.287</td>\n",
       "      <td>170.216</td>\n",
       "      <td>211933</td>\n",
       "      <td>4</td>\n",
       "      <td>2014</td>\n",
       "    </tr>\n",
       "    <tr>\n",
       "      <th>190</th>\n",
       "      <td>33Kq0AT5rvwyE4azisG08x</td>\n",
       "      <td>1989</td>\n",
       "      <td>Welcome To New York</td>\n",
       "      <td>1</td>\n",
       "      <td>1</td>\n",
       "      <td>65</td>\n",
       "      <td>False</td>\n",
       "      <td>0.789</td>\n",
       "      <td>0.634</td>\n",
       "      <td>7</td>\n",
       "      <td>...</td>\n",
       "      <td>1</td>\n",
       "      <td>0.0323</td>\n",
       "      <td>0.03480</td>\n",
       "      <td>0.000002</td>\n",
       "      <td>0.3020</td>\n",
       "      <td>0.658</td>\n",
       "      <td>116.992</td>\n",
       "      <td>212600</td>\n",
       "      <td>4</td>\n",
       "      <td>2014</td>\n",
       "    </tr>\n",
       "    <tr>\n",
       "      <th>191</th>\n",
       "      <td>106R7Z57WYzBAfrXImV30y</td>\n",
       "      <td>1989</td>\n",
       "      <td>Wildest Dreams</td>\n",
       "      <td>1</td>\n",
       "      <td>9</td>\n",
       "      <td>64</td>\n",
       "      <td>False</td>\n",
       "      <td>0.550</td>\n",
       "      <td>0.688</td>\n",
       "      <td>8</td>\n",
       "      <td>...</td>\n",
       "      <td>1</td>\n",
       "      <td>0.0897</td>\n",
       "      <td>0.06920</td>\n",
       "      <td>0.001440</td>\n",
       "      <td>0.1060</td>\n",
       "      <td>0.465</td>\n",
       "      <td>139.997</td>\n",
       "      <td>220440</td>\n",
       "      <td>4</td>\n",
       "      <td>2014</td>\n",
       "    </tr>\n",
       "    <tr>\n",
       "      <th>192</th>\n",
       "      <td>1kTPQnabROVkW9bUXdCGrB</td>\n",
       "      <td>1989</td>\n",
       "      <td>This Love</td>\n",
       "      <td>1</td>\n",
       "      <td>11</td>\n",
       "      <td>63</td>\n",
       "      <td>False</td>\n",
       "      <td>0.481</td>\n",
       "      <td>0.435</td>\n",
       "      <td>4</td>\n",
       "      <td>...</td>\n",
       "      <td>1</td>\n",
       "      <td>0.0321</td>\n",
       "      <td>0.67800</td>\n",
       "      <td>0.000000</td>\n",
       "      <td>0.0928</td>\n",
       "      <td>0.107</td>\n",
       "      <td>143.950</td>\n",
       "      <td>250093</td>\n",
       "      <td>4</td>\n",
       "      <td>2014</td>\n",
       "    </tr>\n",
       "  </tbody>\n",
       "</table>\n",
       "<p>193 rows × 21 columns</p>\n",
       "</div>"
      ],
      "text/plain": [
       "                        URI  Album                   Song Name  Disc Number  \\\n",
       "0    1BxfuPKGuaTgP7aM0Bbdwr  Lover                Cruel Summer            1   \n",
       "1    1dGr1c8CrMLDpV6mPbImSI  Lover                       Lover            1   \n",
       "2    4y5bvROuBDPr5fuwXbIBZR  Lover                 Paper Rings            1   \n",
       "3    3RauEVgRgj1IuWdJ9fDs70  Lover                     The Man            1   \n",
       "4    6RRNNciQGZEXnqk8SQ9yv5  Lover       You Need To Calm Down            1   \n",
       "..                      ...    ...                         ...          ...   \n",
       "188  0lmMtDQ2ElasKU2qDAE6NN   1989  All You Had To Do Was Stay            1   \n",
       "189  0yN4fNzmVnmgC0dsOoi9Wh   1989                   Bad Blood            1   \n",
       "190  33Kq0AT5rvwyE4azisG08x   1989         Welcome To New York            1   \n",
       "191  106R7Z57WYzBAfrXImV30y   1989              Wildest Dreams            1   \n",
       "192  1kTPQnabROVkW9bUXdCGrB   1989                   This Love            1   \n",
       "\n",
       "     Track Number  Popularity  Explicit  Danceability  Energy  Key  ...  Mode  \\\n",
       "0               2          99     False         0.552   0.702    9  ...     1   \n",
       "1               3          91     False         0.359   0.543    7  ...     1   \n",
       "2               8          86     False         0.811   0.719    9  ...     1   \n",
       "3               4          86     False         0.777   0.658    0  ...     1   \n",
       "4              14          84     False         0.771   0.671    2  ...     1   \n",
       "..            ...         ...       ...           ...     ...  ...  ...   ...   \n",
       "188             5          66     False         0.605   0.725    5  ...     1   \n",
       "189             8          65     False         0.646   0.794    7  ...     1   \n",
       "190             1          65     False         0.789   0.634    7  ...     1   \n",
       "191             9          64     False         0.550   0.688    8  ...     1   \n",
       "192            11          63     False         0.481   0.435    4  ...     1   \n",
       "\n",
       "     Speechiness  Acousticness  Instrumentalness  Liveness  Valence    Tempo  \\\n",
       "0         0.1570       0.11700          0.000021    0.1050    0.564  169.994   \n",
       "1         0.0919       0.49200          0.000016    0.1180    0.453   68.534   \n",
       "2         0.0497       0.01290          0.000014    0.0742    0.865  103.979   \n",
       "3         0.0540       0.07670          0.000000    0.0901    0.633  110.048   \n",
       "4         0.0553       0.00929          0.000000    0.0637    0.714   85.026   \n",
       "..           ...           ...               ...       ...      ...      ...   \n",
       "188       0.0323       0.00201          0.000020    0.1010    0.539   96.970   \n",
       "189       0.1900       0.08850          0.000006    0.2010    0.287  170.216   \n",
       "190       0.0323       0.03480          0.000002    0.3020    0.658  116.992   \n",
       "191       0.0897       0.06920          0.001440    0.1060    0.465  139.997   \n",
       "192       0.0321       0.67800          0.000000    0.0928    0.107  143.950   \n",
       "\n",
       "     Duration_ms  Time Signature  Year  \n",
       "0         178427               4  2019  \n",
       "1         221307               4  2019  \n",
       "2         222400               4  2019  \n",
       "3         190360               4  2019  \n",
       "4         171360               4  2019  \n",
       "..           ...             ...   ...  \n",
       "188       193293               4  2014  \n",
       "189       211933               4  2014  \n",
       "190       212600               4  2014  \n",
       "191       220440               4  2014  \n",
       "192       250093               4  2014  \n",
       "\n",
       "[193 rows x 21 columns]"
      ]
     },
     "execution_count": 9,
     "metadata": {},
     "output_type": "execute_result"
    }
   ],
   "source": [
    "def split_date(date):\n",
    "    return int(date.split(',')[1])\n",
    "\n",
    "albums = albums.assign(Year=albums.get('Release Date').apply(split_date)).drop(columns='Release Date')\n",
    "\n",
    "tswift = tswift.merge(albums, on='Album')\n",
    "tswift"
   ]
  },
  {
   "cell_type": "markdown",
   "id": "4a604336",
   "metadata": {},
   "source": [
    "Now that `tswift` has all of the information we need, we'll set its index to `'URI'`, since we were told in the data description table that `'URI'`s are unique."
   ]
  },
  {
   "cell_type": "code",
   "execution_count": 11,
   "id": "fd16a623",
   "metadata": {},
   "outputs": [
    {
     "data": {
      "text/html": [
       "<div>\n",
       "<style scoped>\n",
       "    .dataframe tbody tr th:only-of-type {\n",
       "        vertical-align: middle;\n",
       "    }\n",
       "\n",
       "    .dataframe tbody tr th {\n",
       "        vertical-align: top;\n",
       "    }\n",
       "\n",
       "    .dataframe thead th {\n",
       "        text-align: right;\n",
       "    }\n",
       "</style>\n",
       "<table border=\"1\" class=\"dataframe\">\n",
       "  <thead>\n",
       "    <tr style=\"text-align: right;\">\n",
       "      <th></th>\n",
       "      <th>Album</th>\n",
       "      <th>Song Name</th>\n",
       "      <th>Disc Number</th>\n",
       "      <th>Track Number</th>\n",
       "      <th>Popularity</th>\n",
       "      <th>Explicit</th>\n",
       "      <th>Danceability</th>\n",
       "      <th>Energy</th>\n",
       "      <th>Key</th>\n",
       "      <th>Loudness</th>\n",
       "      <th>Mode</th>\n",
       "      <th>Speechiness</th>\n",
       "      <th>Acousticness</th>\n",
       "      <th>Instrumentalness</th>\n",
       "      <th>Liveness</th>\n",
       "      <th>Valence</th>\n",
       "      <th>Tempo</th>\n",
       "      <th>Duration_ms</th>\n",
       "      <th>Time Signature</th>\n",
       "      <th>Year</th>\n",
       "    </tr>\n",
       "    <tr>\n",
       "      <th>URI</th>\n",
       "      <th></th>\n",
       "      <th></th>\n",
       "      <th></th>\n",
       "      <th></th>\n",
       "      <th></th>\n",
       "      <th></th>\n",
       "      <th></th>\n",
       "      <th></th>\n",
       "      <th></th>\n",
       "      <th></th>\n",
       "      <th></th>\n",
       "      <th></th>\n",
       "      <th></th>\n",
       "      <th></th>\n",
       "      <th></th>\n",
       "      <th></th>\n",
       "      <th></th>\n",
       "      <th></th>\n",
       "      <th></th>\n",
       "      <th></th>\n",
       "    </tr>\n",
       "  </thead>\n",
       "  <tbody>\n",
       "    <tr>\n",
       "      <th>1BxfuPKGuaTgP7aM0Bbdwr</th>\n",
       "      <td>Lover</td>\n",
       "      <td>Cruel Summer</td>\n",
       "      <td>1</td>\n",
       "      <td>2</td>\n",
       "      <td>99</td>\n",
       "      <td>False</td>\n",
       "      <td>0.552</td>\n",
       "      <td>0.702</td>\n",
       "      <td>9</td>\n",
       "      <td>-5.707</td>\n",
       "      <td>1</td>\n",
       "      <td>0.1570</td>\n",
       "      <td>0.11700</td>\n",
       "      <td>0.000021</td>\n",
       "      <td>0.1050</td>\n",
       "      <td>0.564</td>\n",
       "      <td>169.994</td>\n",
       "      <td>178427</td>\n",
       "      <td>4</td>\n",
       "      <td>2019</td>\n",
       "    </tr>\n",
       "    <tr>\n",
       "      <th>1dGr1c8CrMLDpV6mPbImSI</th>\n",
       "      <td>Lover</td>\n",
       "      <td>Lover</td>\n",
       "      <td>1</td>\n",
       "      <td>3</td>\n",
       "      <td>91</td>\n",
       "      <td>False</td>\n",
       "      <td>0.359</td>\n",
       "      <td>0.543</td>\n",
       "      <td>7</td>\n",
       "      <td>-7.582</td>\n",
       "      <td>1</td>\n",
       "      <td>0.0919</td>\n",
       "      <td>0.49200</td>\n",
       "      <td>0.000016</td>\n",
       "      <td>0.1180</td>\n",
       "      <td>0.453</td>\n",
       "      <td>68.534</td>\n",
       "      <td>221307</td>\n",
       "      <td>4</td>\n",
       "      <td>2019</td>\n",
       "    </tr>\n",
       "    <tr>\n",
       "      <th>4y5bvROuBDPr5fuwXbIBZR</th>\n",
       "      <td>Lover</td>\n",
       "      <td>Paper Rings</td>\n",
       "      <td>1</td>\n",
       "      <td>8</td>\n",
       "      <td>86</td>\n",
       "      <td>False</td>\n",
       "      <td>0.811</td>\n",
       "      <td>0.719</td>\n",
       "      <td>9</td>\n",
       "      <td>-6.553</td>\n",
       "      <td>1</td>\n",
       "      <td>0.0497</td>\n",
       "      <td>0.01290</td>\n",
       "      <td>0.000014</td>\n",
       "      <td>0.0742</td>\n",
       "      <td>0.865</td>\n",
       "      <td>103.979</td>\n",
       "      <td>222400</td>\n",
       "      <td>4</td>\n",
       "      <td>2019</td>\n",
       "    </tr>\n",
       "    <tr>\n",
       "      <th>3RauEVgRgj1IuWdJ9fDs70</th>\n",
       "      <td>Lover</td>\n",
       "      <td>The Man</td>\n",
       "      <td>1</td>\n",
       "      <td>4</td>\n",
       "      <td>86</td>\n",
       "      <td>False</td>\n",
       "      <td>0.777</td>\n",
       "      <td>0.658</td>\n",
       "      <td>0</td>\n",
       "      <td>-5.191</td>\n",
       "      <td>1</td>\n",
       "      <td>0.0540</td>\n",
       "      <td>0.07670</td>\n",
       "      <td>0.000000</td>\n",
       "      <td>0.0901</td>\n",
       "      <td>0.633</td>\n",
       "      <td>110.048</td>\n",
       "      <td>190360</td>\n",
       "      <td>4</td>\n",
       "      <td>2019</td>\n",
       "    </tr>\n",
       "    <tr>\n",
       "      <th>6RRNNciQGZEXnqk8SQ9yv5</th>\n",
       "      <td>Lover</td>\n",
       "      <td>You Need To Calm Down</td>\n",
       "      <td>1</td>\n",
       "      <td>14</td>\n",
       "      <td>84</td>\n",
       "      <td>False</td>\n",
       "      <td>0.771</td>\n",
       "      <td>0.671</td>\n",
       "      <td>2</td>\n",
       "      <td>-5.617</td>\n",
       "      <td>1</td>\n",
       "      <td>0.0553</td>\n",
       "      <td>0.00929</td>\n",
       "      <td>0.000000</td>\n",
       "      <td>0.0637</td>\n",
       "      <td>0.714</td>\n",
       "      <td>85.026</td>\n",
       "      <td>171360</td>\n",
       "      <td>4</td>\n",
       "      <td>2019</td>\n",
       "    </tr>\n",
       "    <tr>\n",
       "      <th>...</th>\n",
       "      <td>...</td>\n",
       "      <td>...</td>\n",
       "      <td>...</td>\n",
       "      <td>...</td>\n",
       "      <td>...</td>\n",
       "      <td>...</td>\n",
       "      <td>...</td>\n",
       "      <td>...</td>\n",
       "      <td>...</td>\n",
       "      <td>...</td>\n",
       "      <td>...</td>\n",
       "      <td>...</td>\n",
       "      <td>...</td>\n",
       "      <td>...</td>\n",
       "      <td>...</td>\n",
       "      <td>...</td>\n",
       "      <td>...</td>\n",
       "      <td>...</td>\n",
       "      <td>...</td>\n",
       "      <td>...</td>\n",
       "    </tr>\n",
       "    <tr>\n",
       "      <th>0lmMtDQ2ElasKU2qDAE6NN</th>\n",
       "      <td>1989</td>\n",
       "      <td>All You Had To Do Was Stay</td>\n",
       "      <td>1</td>\n",
       "      <td>5</td>\n",
       "      <td>66</td>\n",
       "      <td>False</td>\n",
       "      <td>0.605</td>\n",
       "      <td>0.725</td>\n",
       "      <td>5</td>\n",
       "      <td>-5.729</td>\n",
       "      <td>1</td>\n",
       "      <td>0.0323</td>\n",
       "      <td>0.00201</td>\n",
       "      <td>0.000020</td>\n",
       "      <td>0.1010</td>\n",
       "      <td>0.539</td>\n",
       "      <td>96.970</td>\n",
       "      <td>193293</td>\n",
       "      <td>4</td>\n",
       "      <td>2014</td>\n",
       "    </tr>\n",
       "    <tr>\n",
       "      <th>0yN4fNzmVnmgC0dsOoi9Wh</th>\n",
       "      <td>1989</td>\n",
       "      <td>Bad Blood</td>\n",
       "      <td>1</td>\n",
       "      <td>8</td>\n",
       "      <td>65</td>\n",
       "      <td>False</td>\n",
       "      <td>0.646</td>\n",
       "      <td>0.794</td>\n",
       "      <td>7</td>\n",
       "      <td>-6.104</td>\n",
       "      <td>1</td>\n",
       "      <td>0.1900</td>\n",
       "      <td>0.08850</td>\n",
       "      <td>0.000006</td>\n",
       "      <td>0.2010</td>\n",
       "      <td>0.287</td>\n",
       "      <td>170.216</td>\n",
       "      <td>211933</td>\n",
       "      <td>4</td>\n",
       "      <td>2014</td>\n",
       "    </tr>\n",
       "    <tr>\n",
       "      <th>33Kq0AT5rvwyE4azisG08x</th>\n",
       "      <td>1989</td>\n",
       "      <td>Welcome To New York</td>\n",
       "      <td>1</td>\n",
       "      <td>1</td>\n",
       "      <td>65</td>\n",
       "      <td>False</td>\n",
       "      <td>0.789</td>\n",
       "      <td>0.634</td>\n",
       "      <td>7</td>\n",
       "      <td>-4.762</td>\n",
       "      <td>1</td>\n",
       "      <td>0.0323</td>\n",
       "      <td>0.03480</td>\n",
       "      <td>0.000002</td>\n",
       "      <td>0.3020</td>\n",
       "      <td>0.658</td>\n",
       "      <td>116.992</td>\n",
       "      <td>212600</td>\n",
       "      <td>4</td>\n",
       "      <td>2014</td>\n",
       "    </tr>\n",
       "    <tr>\n",
       "      <th>106R7Z57WYzBAfrXImV30y</th>\n",
       "      <td>1989</td>\n",
       "      <td>Wildest Dreams</td>\n",
       "      <td>1</td>\n",
       "      <td>9</td>\n",
       "      <td>64</td>\n",
       "      <td>False</td>\n",
       "      <td>0.550</td>\n",
       "      <td>0.688</td>\n",
       "      <td>8</td>\n",
       "      <td>-7.416</td>\n",
       "      <td>1</td>\n",
       "      <td>0.0897</td>\n",
       "      <td>0.06920</td>\n",
       "      <td>0.001440</td>\n",
       "      <td>0.1060</td>\n",
       "      <td>0.465</td>\n",
       "      <td>139.997</td>\n",
       "      <td>220440</td>\n",
       "      <td>4</td>\n",
       "      <td>2014</td>\n",
       "    </tr>\n",
       "    <tr>\n",
       "      <th>1kTPQnabROVkW9bUXdCGrB</th>\n",
       "      <td>1989</td>\n",
       "      <td>This Love</td>\n",
       "      <td>1</td>\n",
       "      <td>11</td>\n",
       "      <td>63</td>\n",
       "      <td>False</td>\n",
       "      <td>0.481</td>\n",
       "      <td>0.435</td>\n",
       "      <td>4</td>\n",
       "      <td>-8.795</td>\n",
       "      <td>1</td>\n",
       "      <td>0.0321</td>\n",
       "      <td>0.67800</td>\n",
       "      <td>0.000000</td>\n",
       "      <td>0.0928</td>\n",
       "      <td>0.107</td>\n",
       "      <td>143.950</td>\n",
       "      <td>250093</td>\n",
       "      <td>4</td>\n",
       "      <td>2014</td>\n",
       "    </tr>\n",
       "  </tbody>\n",
       "</table>\n",
       "<p>193 rows × 20 columns</p>\n",
       "</div>"
      ],
      "text/plain": [
       "                        Album                   Song Name  Disc Number  \\\n",
       "URI                                                                      \n",
       "1BxfuPKGuaTgP7aM0Bbdwr  Lover                Cruel Summer            1   \n",
       "1dGr1c8CrMLDpV6mPbImSI  Lover                       Lover            1   \n",
       "4y5bvROuBDPr5fuwXbIBZR  Lover                 Paper Rings            1   \n",
       "3RauEVgRgj1IuWdJ9fDs70  Lover                     The Man            1   \n",
       "6RRNNciQGZEXnqk8SQ9yv5  Lover       You Need To Calm Down            1   \n",
       "...                       ...                         ...          ...   \n",
       "0lmMtDQ2ElasKU2qDAE6NN   1989  All You Had To Do Was Stay            1   \n",
       "0yN4fNzmVnmgC0dsOoi9Wh   1989                   Bad Blood            1   \n",
       "33Kq0AT5rvwyE4azisG08x   1989         Welcome To New York            1   \n",
       "106R7Z57WYzBAfrXImV30y   1989              Wildest Dreams            1   \n",
       "1kTPQnabROVkW9bUXdCGrB   1989                   This Love            1   \n",
       "\n",
       "                        Track Number  Popularity  Explicit  Danceability  \\\n",
       "URI                                                                        \n",
       "1BxfuPKGuaTgP7aM0Bbdwr             2          99     False         0.552   \n",
       "1dGr1c8CrMLDpV6mPbImSI             3          91     False         0.359   \n",
       "4y5bvROuBDPr5fuwXbIBZR             8          86     False         0.811   \n",
       "3RauEVgRgj1IuWdJ9fDs70             4          86     False         0.777   \n",
       "6RRNNciQGZEXnqk8SQ9yv5            14          84     False         0.771   \n",
       "...                              ...         ...       ...           ...   \n",
       "0lmMtDQ2ElasKU2qDAE6NN             5          66     False         0.605   \n",
       "0yN4fNzmVnmgC0dsOoi9Wh             8          65     False         0.646   \n",
       "33Kq0AT5rvwyE4azisG08x             1          65     False         0.789   \n",
       "106R7Z57WYzBAfrXImV30y             9          64     False         0.550   \n",
       "1kTPQnabROVkW9bUXdCGrB            11          63     False         0.481   \n",
       "\n",
       "                        Energy  Key  Loudness  Mode  Speechiness  \\\n",
       "URI                                                                \n",
       "1BxfuPKGuaTgP7aM0Bbdwr   0.702    9    -5.707     1       0.1570   \n",
       "1dGr1c8CrMLDpV6mPbImSI   0.543    7    -7.582     1       0.0919   \n",
       "4y5bvROuBDPr5fuwXbIBZR   0.719    9    -6.553     1       0.0497   \n",
       "3RauEVgRgj1IuWdJ9fDs70   0.658    0    -5.191     1       0.0540   \n",
       "6RRNNciQGZEXnqk8SQ9yv5   0.671    2    -5.617     1       0.0553   \n",
       "...                        ...  ...       ...   ...          ...   \n",
       "0lmMtDQ2ElasKU2qDAE6NN   0.725    5    -5.729     1       0.0323   \n",
       "0yN4fNzmVnmgC0dsOoi9Wh   0.794    7    -6.104     1       0.1900   \n",
       "33Kq0AT5rvwyE4azisG08x   0.634    7    -4.762     1       0.0323   \n",
       "106R7Z57WYzBAfrXImV30y   0.688    8    -7.416     1       0.0897   \n",
       "1kTPQnabROVkW9bUXdCGrB   0.435    4    -8.795     1       0.0321   \n",
       "\n",
       "                        Acousticness  Instrumentalness  Liveness  Valence  \\\n",
       "URI                                                                         \n",
       "1BxfuPKGuaTgP7aM0Bbdwr       0.11700          0.000021    0.1050    0.564   \n",
       "1dGr1c8CrMLDpV6mPbImSI       0.49200          0.000016    0.1180    0.453   \n",
       "4y5bvROuBDPr5fuwXbIBZR       0.01290          0.000014    0.0742    0.865   \n",
       "3RauEVgRgj1IuWdJ9fDs70       0.07670          0.000000    0.0901    0.633   \n",
       "6RRNNciQGZEXnqk8SQ9yv5       0.00929          0.000000    0.0637    0.714   \n",
       "...                              ...               ...       ...      ...   \n",
       "0lmMtDQ2ElasKU2qDAE6NN       0.00201          0.000020    0.1010    0.539   \n",
       "0yN4fNzmVnmgC0dsOoi9Wh       0.08850          0.000006    0.2010    0.287   \n",
       "33Kq0AT5rvwyE4azisG08x       0.03480          0.000002    0.3020    0.658   \n",
       "106R7Z57WYzBAfrXImV30y       0.06920          0.001440    0.1060    0.465   \n",
       "1kTPQnabROVkW9bUXdCGrB       0.67800          0.000000    0.0928    0.107   \n",
       "\n",
       "                          Tempo  Duration_ms  Time Signature  Year  \n",
       "URI                                                                 \n",
       "1BxfuPKGuaTgP7aM0Bbdwr  169.994       178427               4  2019  \n",
       "1dGr1c8CrMLDpV6mPbImSI   68.534       221307               4  2019  \n",
       "4y5bvROuBDPr5fuwXbIBZR  103.979       222400               4  2019  \n",
       "3RauEVgRgj1IuWdJ9fDs70  110.048       190360               4  2019  \n",
       "6RRNNciQGZEXnqk8SQ9yv5   85.026       171360               4  2019  \n",
       "...                         ...          ...             ...   ...  \n",
       "0lmMtDQ2ElasKU2qDAE6NN   96.970       193293               4  2014  \n",
       "0yN4fNzmVnmgC0dsOoi9Wh  170.216       211933               4  2014  \n",
       "33Kq0AT5rvwyE4azisG08x  116.992       212600               4  2014  \n",
       "106R7Z57WYzBAfrXImV30y  139.997       220440               4  2014  \n",
       "1kTPQnabROVkW9bUXdCGrB  143.950       250093               4  2014  \n",
       "\n",
       "[193 rows x 20 columns]"
      ]
     },
     "execution_count": 11,
     "metadata": {},
     "output_type": "execute_result"
    }
   ],
   "source": [
    "tswift = tswift.set_index('URI')\n",
    "tswift"
   ]
  },
  {
   "cell_type": "markdown",
   "id": "e73e898d",
   "metadata": {},
   "source": [
    "<a id='section1'></a>\n",
    "## Section 1: Data Visualization 👀\n"
   ]
  },
  {
   "cell_type": "markdown",
   "id": "417e3111",
   "metadata": {},
   "source": [
    "In this section, we'll use the `tswift` DataFrame to create visualizations that will help us answer questions about Taylor Swift's music, including:\n",
    "- How many songs did Taylor Swift release each year?\n",
    "- How do different audio features such as `'Loudness'` and `'Energy'` relate to one another?\n",
    "- Are Taylor Swift's songs generally more positive or more negative?\n",
    "- Which Taylor Swift album has the most songs in a minor key?"
   ]
  },
  {
   "cell_type": "code",
   "execution_count": 14,
   "id": "eacc5952",
   "metadata": {},
   "outputs": [
    {
     "data": {
      "image/png": "[encoded data removed]",
      "text/plain": [
       "<Figure size 1440x720 with 1 Axes>"
      ]
     },
     "metadata": {},
     "output_type": "display_data"
    }
   ],
   "source": [
    "# Create your plot here.\n",
    "tswift.groupby('Year').count().get(['Song Name']).plot(kind='line', y = 'Song Name', figsize=(20,10), legend=False, title='Number of Taylor Swift Songs Released Each Year', ylabel='Number of Released Songs');"
   ]
  },
  {
   "cell_type": "code",
   "execution_count": 15,
   "id": "9c4fb22e",
   "metadata": {},
   "outputs": [
    {
     "data": {
      "text/plain": [
       "2020"
      ]
     },
     "execution_count": 15,
     "metadata": {},
     "output_type": "execute_result"
    }
   ],
   "source": [
    "year_with_most_songs = 2020\n",
    "year_with_most_songs"
   ]
  },
  {
   "cell_type": "code",
   "execution_count": 17,
   "id": "8db74bb5",
   "metadata": {},
   "outputs": [
    {
     "data": {
      "text/plain": [
       "array(['folklore', 'evermore'], dtype=object)"
      ]
     },
     "execution_count": 17,
     "metadata": {},
     "output_type": "execute_result"
    }
   ],
   "source": [
    "sister_albums = tswift[tswift.get('Year') == year_with_most_songs].get('Album').unique()\n",
    "sister_albums"
   ]
  },
  {
   "cell_type": "code",
   "execution_count": 19,
   "id": "dd50c26e",
   "metadata": {},
   "outputs": [
    {
     "data": {
      "text/plain": [
       "'Red'"
      ]
     },
     "execution_count": 19,
     "metadata": {},
     "output_type": "execute_result"
    }
   ],
   "source": [
    "most_songs_album = (tswift\n",
    "                    .groupby('Album')\n",
    "                    .count()\n",
    "                    .reset_index()\n",
    "                    .sort_values(by='Song Name', ascending=False)\n",
    "                    .reset_index()\n",
    "                    .get('Album')\n",
    "                    .loc[0]\n",
    "                   )\n",
    "most_songs_album"
   ]
  },
  {
   "cell_type": "code",
   "execution_count": 21,
   "id": "2125cec7",
   "metadata": {},
   "outputs": [
    {
     "name": "stdout",
     "output_type": "stream",
     "text": [
      "The most popular Taylor Swift song right now is Cruel Summer.\n",
      "The least popular Taylor Swift song right now is A Perfectly Good Heart.\n"
     ]
    }
   ],
   "source": [
    "most_pop = tswift.sort_values('Popularity', ascending=False).get('Song Name').iloc[0]\n",
    "least_pop = tswift.sort_values('Popularity').get('Song Name').iloc[0]\n",
    "\n",
    "print(f'The most popular Taylor Swift song right now is {most_pop}.')\n",
    "print(f'The least popular Taylor Swift song right now is {least_pop}.')"
   ]
  },
  {
   "cell_type": "code",
   "execution_count": 23,
   "id": "17f86bb0",
   "metadata": {
    "scrolled": true
   },
   "outputs": [
    {
     "data": {
      "text/html": [
       "<div>\n",
       "<style scoped>\n",
       "    .dataframe tbody tr th:only-of-type {\n",
       "        vertical-align: middle;\n",
       "    }\n",
       "\n",
       "    .dataframe tbody tr th {\n",
       "        vertical-align: top;\n",
       "    }\n",
       "\n",
       "    .dataframe thead th {\n",
       "        text-align: right;\n",
       "    }\n",
       "</style>\n",
       "<table border=\"1\" class=\"dataframe\">\n",
       "  <thead>\n",
       "    <tr style=\"text-align: right;\">\n",
       "      <th></th>\n",
       "      <th>Max_Popularity</th>\n",
       "      <th>Median_Popularity</th>\n",
       "    </tr>\n",
       "    <tr>\n",
       "      <th>Year</th>\n",
       "      <th></th>\n",
       "      <th></th>\n",
       "    </tr>\n",
       "  </thead>\n",
       "  <tbody>\n",
       "    <tr>\n",
       "      <th>2006</th>\n",
       "      <td>77</td>\n",
       "      <td>61.0</td>\n",
       "    </tr>\n",
       "    <tr>\n",
       "      <th>2008</th>\n",
       "      <td>87</td>\n",
       "      <td>69.0</td>\n",
       "    </tr>\n",
       "    <tr>\n",
       "      <th>2010</th>\n",
       "      <td>88</td>\n",
       "      <td>79.0</td>\n",
       "    </tr>\n",
       "    <tr>\n",
       "      <th>2012</th>\n",
       "      <td>87</td>\n",
       "      <td>73.5</td>\n",
       "    </tr>\n",
       "    <tr>\n",
       "      <th>2014</th>\n",
       "      <td>76</td>\n",
       "      <td>69.0</td>\n",
       "    </tr>\n",
       "    <tr>\n",
       "      <th>2017</th>\n",
       "      <td>91</td>\n",
       "      <td>82.0</td>\n",
       "    </tr>\n",
       "    <tr>\n",
       "      <th>2019</th>\n",
       "      <td>99</td>\n",
       "      <td>81.5</td>\n",
       "    </tr>\n",
       "    <tr>\n",
       "      <th>2020</th>\n",
       "      <td>92</td>\n",
       "      <td>74.0</td>\n",
       "    </tr>\n",
       "    <tr>\n",
       "      <th>2022</th>\n",
       "      <td>93</td>\n",
       "      <td>79.0</td>\n",
       "    </tr>\n",
       "  </tbody>\n",
       "</table>\n",
       "</div>"
      ],
      "text/plain": [
       "      Max_Popularity  Median_Popularity\n",
       "Year                                   \n",
       "2006              77               61.0\n",
       "2008              87               69.0\n",
       "2010              88               79.0\n",
       "2012              87               73.5\n",
       "2014              76               69.0\n",
       "2017              91               82.0\n",
       "2019              99               81.5\n",
       "2020              92               74.0\n",
       "2022              93               79.0"
      ]
     },
     "execution_count": 23,
     "metadata": {},
     "output_type": "execute_result"
    }
   ],
   "source": [
    "max_popularity = tswift.groupby(['Year']).max().reset_index().get(['Year', 'Popularity'])\n",
    "median_popularity = tswift.groupby(['Year']).median().reset_index().get(['Year', 'Popularity'])\n",
    "\n",
    "popularity_by_year = max_popularity.assign(Max_Popularity = max_popularity.get('Popularity')).drop(columns='Popularity')\n",
    "popularity_by_year = popularity_by_year.assign(Median_Popularity = median_popularity.get('Popularity'))\n",
    "\n",
    "popularity_by_year = popularity_by_year.set_index('Year')\n",
    "popularity_by_year"
   ]
  },
  {
   "cell_type": "code",
   "execution_count": 25,
   "id": "02f6fefe",
   "metadata": {},
   "outputs": [
    {
     "data": {
      "image/png": "[encoded data removed]",
      "text/plain": [
       "<Figure size 1440x720 with 1 Axes>"
      ]
     },
     "metadata": {},
     "output_type": "display_data"
    }
   ],
   "source": [
    "# Create your plot here.\n",
    "popularity_by_year.plot(kind='line', ylabel='Popularity', figsize = (20, 10), title='Popularity by Year');"
   ]
  },
  {
   "cell_type": "code",
   "execution_count": 26,
   "id": "369e8160",
   "metadata": {},
   "outputs": [
    {
     "data": {
      "image/png": "[encoded data removed]",
      "text/plain": [
       "<Figure size 1440x720 with 1 Axes>"
      ]
     },
     "metadata": {},
     "output_type": "display_data"
    }
   ],
   "source": [
    "# Create your plot here.\n",
    "tswift.plot(kind='scatter', x='Loudness', y='Energy', figsize =(20,10), title='Energy vs. Loudness in Taylor Swift Songs')\n",
    "# The code below plots the line of best fit; do not alter it!\n",
    "x = tswift.get('Loudness')\n",
    "y = tswift.get('Energy')\n",
    "a, b = np.polyfit(x, y, 1)\n",
    "plt.plot(x, a * x + b, label='Line of Best Fit')        \n",
    "plt.legend()\n",
    "plt.show()"
   ]
  },
  {
   "cell_type": "code",
   "execution_count": 29,
   "id": "9f125a70",
   "metadata": {},
   "outputs": [
    {
     "data": {
      "image/png": "[encoded data removed]",
      "text/plain": [
       "<Figure size 1440x720 with 1 Axes>"
      ]
     },
     "metadata": {},
     "output_type": "display_data"
    }
   ],
   "source": [
    "# Create your plot here.\n",
    "tswift.plot(kind='scatter', x='Valence', y='Popularity', figsize=(20, 10), title='Popularity vs. Valence in Taylor Swift Songs')\n",
    "# The code below plots the line of best fit; do not alter it!\n",
    "x = tswift.get('Valence')\n",
    "y = tswift.get('Popularity')\n",
    "a, b = np.polyfit(x, y, 1)\n",
    "plt.plot(x, a * x + b, label='Line of Best Fit')        \n",
    "plt.legend()\n",
    "plt.show()"
   ]
  },
  {
   "cell_type": "code",
   "execution_count": 32,
   "id": "556d19d5",
   "metadata": {
    "scrolled": false
   },
   "outputs": [
    {
     "data": {
      "image/png": "[encoded data removed]",
      "text/plain": [
       "<Figure size 1440x720 with 1 Axes>"
      ]
     },
     "metadata": {},
     "output_type": "display_data"
    }
   ],
   "source": [
    "# Create your plot here.\n",
    "tswift.get(['Song Name', 'Valence']).plot(kind='hist', y='Valence', title='Distribution of Valence for all Taylor Swift Songs', figsize=(20, 10), density=True, ec='w');"
   ]
  },
  {
   "cell_type": "markdown",
   "id": "d78c794a",
   "metadata": {},
   "source": [
    "In the `tswift` DataFrame, the `'Mode'` of a song is 1 if the song is written in a major key or 0 if it's written in a minor key. Generally, songs in a major key (e.g. G major) sound more upbeat, bright, and fun, while songs in a minor key (e.g. D minor) sound more dark, sad, or serious.\n",
    "\n",
    "For example, the song `'Shake It Off'`, from the album `'1989'`, has a `'Mode'` of 1 because it was written in G major. Run the cell below and press play to hear a snippet of it right here in your notebook."
   ]
  },
  {
   "cell_type": "code",
   "execution_count": 35,
   "id": "076e60a1",
   "metadata": {},
   "outputs": [
    {
     "data": {
      "text/html": [
       "\n",
       "        <iframe\n",
       "            width=\"400\"\n",
       "            height=\"75\"\n",
       "            src=\"https://open.spotify.com/embed/track/3fthfkkvy9av3q3uAGVf7U\"\n",
       "            frameborder=\"0\"\n",
       "            allowfullscreen\n",
       "        ></iframe>\n",
       "        "
      ],
      "text/plain": [
       "<IPython.lib.display.IFrame at 0x7f755495cc40>"
      ]
     },
     "metadata": {},
     "output_type": "display_data"
    }
   ],
   "source": [
    "play_spotify('3fthfkkvy9av3q3uAGVf7U')"
   ]
  },
  {
   "cell_type": "markdown",
   "id": "2a04360c",
   "metadata": {},
   "source": [
    "On the other hand, the song `'Look What You Made Me Do'`, from the album `'Reputation'`, has a `'Mode'` of 0 because it was written in A minor. Again, run the cell below and press play to hear a snippet of it."
   ]
  },
  {
   "cell_type": "code",
   "execution_count": 36,
   "id": "f85a7342",
   "metadata": {},
   "outputs": [
    {
     "data": {
      "text/html": [
       "\n",
       "        <iframe\n",
       "            width=\"400\"\n",
       "            height=\"75\"\n",
       "            src=\"https://open.spotify.com/embed/track/1P17dC1amhFzptugyAO7Il\"\n",
       "            frameborder=\"0\"\n",
       "            allowfullscreen\n",
       "        ></iframe>\n",
       "        "
      ],
      "text/plain": [
       "<IPython.lib.display.IFrame at 0x7f7554853bb0>"
      ]
     },
     "metadata": {},
     "output_type": "display_data"
    }
   ],
   "source": [
    "play_spotify('1P17dC1amhFzptugyAO7Il')"
   ]
  },
  {
   "cell_type": "markdown",
   "id": "af317e76",
   "metadata": {
    "deletable": false,
    "editable": false
   },
   "source": [
    "<!-- BEGIN QUESTION -->\n",
    "\n",
    "<!--\n",
    "BEGIN QUESTION\n",
    "name: q1_11\n",
    "points: 2\n",
    "manual: true\n",
    "-->"
   ]
  },
  {
   "cell_type": "code",
   "execution_count": 37,
   "id": "6c403340",
   "metadata": {},
   "outputs": [
    {
     "data": {
      "image/png": "[encoded data removed]",
      "text/plain": [
       "<Figure size 1440x576 with 1 Axes>"
      ]
     },
     "metadata": {},
     "output_type": "display_data"
    }
   ],
   "source": [
    "# Create your plot here.\n",
    "minor_key_albums = tswift[tswift.get('Mode') == 0].groupby('Album').count()\n",
    "minor_key_albums = minor_key_albums.assign(Number_of_Songs=minor_key_albums.get('Song Name'))\n",
    "minor_key_albums[minor_key_albums.get('Number_of_Songs') >= 2].plot(kind='barh', y='Number_of_Songs', xlabel='Number of Songs', title='Number of Songs from each Album in Minor Key', figsize=(20,8));"
   ]
  },
  {
   "cell_type": "code",
   "execution_count": 38,
   "id": "1189d6fa",
   "metadata": {
    "scrolled": true
   },
   "outputs": [],
   "source": [
    "def sort_albums_by(feature):\n",
    "    return np.array(tswift.groupby(['Album']).mean().reset_index().sort_values(by=feature, ascending=False).get('Album'))"
   ]
  },
  {
   "cell_type": "code",
   "execution_count": 40,
   "id": "2a30c958",
   "metadata": {
    "scrolled": false
   },
   "outputs": [
    {
     "data": {
      "text/markdown": [
       "Taylor Swift albums, in descending order of `'Popularity'`:"
      ],
      "text/plain": [
       "<IPython.core.display.Markdown object>"
      ]
     },
     "metadata": {},
     "output_type": "display_data"
    },
    {
     "data": {
      "text/markdown": [
       "- Reputation, Lover, Speak Now, Midnights, folklore, Red, evermore, Fearless, 1989, Taylor Swift"
      ],
      "text/plain": [
       "<IPython.core.display.Markdown object>"
      ]
     },
     "metadata": {},
     "output_type": "display_data"
    },
    {
     "data": {
      "text/markdown": [
       "Taylor Swift albums, in descending order of `'Explicit'`:"
      ],
      "text/plain": [
       "<IPython.core.display.Markdown object>"
      ]
     },
     "metadata": {},
     "output_type": "display_data"
    },
    {
     "data": {
      "text/markdown": [
       "- evermore, Midnights, folklore, Red, 1989, Fearless, Lover, Reputation, Speak Now, Taylor Swift"
      ],
      "text/plain": [
       "<IPython.core.display.Markdown object>"
      ]
     },
     "metadata": {},
     "output_type": "display_data"
    },
    {
     "data": {
      "text/markdown": [
       "Taylor Swift albums, in descending order of `'Danceability'`:"
      ],
      "text/plain": [
       "<IPython.core.display.Markdown object>"
      ]
     },
     "metadata": {},
     "output_type": "display_data"
    },
    {
     "data": {
      "text/markdown": [
       "- Lover, Reputation, 1989, Midnights, Red, folklore, Taylor Swift, Speak Now, Fearless, evermore"
      ],
      "text/plain": [
       "<IPython.core.display.Markdown object>"
      ]
     },
     "metadata": {},
     "output_type": "display_data"
    },
    {
     "data": {
      "text/markdown": [
       "Taylor Swift albums, in descending order of `'Energy'`:"
      ],
      "text/plain": [
       "<IPython.core.display.Markdown object>"
      ]
     },
     "metadata": {},
     "output_type": "display_data"
    },
    {
     "data": {
      "text/markdown": [
       "- 1989, Taylor Swift, Speak Now, Fearless, Red, Reputation, Lover, evermore, Midnights, folklore"
      ],
      "text/plain": [
       "<IPython.core.display.Markdown object>"
      ]
     },
     "metadata": {},
     "output_type": "display_data"
    },
    {
     "data": {
      "text/markdown": [
       "Taylor Swift albums, in descending order of `'Loudness'`:"
      ],
      "text/plain": [
       "<IPython.core.display.Markdown object>"
      ]
     },
     "metadata": {},
     "output_type": "display_data"
    },
    {
     "data": {
      "text/markdown": [
       "- Speak Now, Taylor Swift, Fearless, 1989, Red, Reputation, Lover, evermore, folklore, Midnights"
      ],
      "text/plain": [
       "<IPython.core.display.Markdown object>"
      ]
     },
     "metadata": {},
     "output_type": "display_data"
    },
    {
     "data": {
      "text/markdown": [
       "Taylor Swift albums, in descending order of `'Speechiness'`:"
      ],
      "text/plain": [
       "<IPython.core.display.Markdown object>"
      ]
     },
     "metadata": {},
     "output_type": "display_data"
    },
    {
     "data": {
      "text/markdown": [
       "- Lover, Midnights, Reputation, 1989, evermore, Red, folklore, Speak Now, Fearless, Taylor Swift"
      ],
      "text/plain": [
       "<IPython.core.display.Markdown object>"
      ]
     },
     "metadata": {},
     "output_type": "display_data"
    },
    {
     "data": {
      "text/markdown": [
       "Taylor Swift albums, in descending order of `'Acousticness'`:"
      ],
      "text/plain": [
       "<IPython.core.display.Markdown object>"
      ]
     },
     "metadata": {},
     "output_type": "display_data"
    },
    {
     "data": {
      "text/markdown": [
       "- evermore, folklore, Midnights, Lover, Taylor Swift, Fearless, Speak Now, Red, 1989, Reputation"
      ],
      "text/plain": [
       "<IPython.core.display.Markdown object>"
      ]
     },
     "metadata": {},
     "output_type": "display_data"
    },
    {
     "data": {
      "text/markdown": [
       "Taylor Swift albums, in descending order of `'Instrumentalness'`:"
      ],
      "text/plain": [
       "<IPython.core.display.Markdown object>"
      ]
     },
     "metadata": {},
     "output_type": "display_data"
    },
    {
     "data": {
      "text/markdown": [
       "- Midnights, evermore, 1989, Lover, folklore, Red, Taylor Swift, Reputation, Fearless, Speak Now"
      ],
      "text/plain": [
       "<IPython.core.display.Markdown object>"
      ]
     },
     "metadata": {},
     "output_type": "display_data"
    },
    {
     "data": {
      "text/markdown": [
       "Taylor Swift albums, in descending order of `'Liveness'`:"
      ],
      "text/plain": [
       "<IPython.core.display.Markdown object>"
      ]
     },
     "metadata": {},
     "output_type": "display_data"
    },
    {
     "data": {
      "text/markdown": [
       "- Taylor Swift, Fearless, 1989, Reputation, Midnights, Speak Now, Red, Lover, evermore, folklore"
      ],
      "text/plain": [
       "<IPython.core.display.Markdown object>"
      ]
     },
     "metadata": {},
     "output_type": "display_data"
    },
    {
     "data": {
      "text/markdown": [
       "Taylor Swift albums, in descending order of `'Valence'`:"
      ],
      "text/plain": [
       "<IPython.core.display.Markdown object>"
      ]
     },
     "metadata": {},
     "output_type": "display_data"
    },
    {
     "data": {
      "text/markdown": [
       "- Lover, 1989, Red, evermore, Fearless, Taylor Swift, Speak Now, folklore, Reputation, Midnights"
      ],
      "text/plain": [
       "<IPython.core.display.Markdown object>"
      ]
     },
     "metadata": {},
     "output_type": "display_data"
    },
    {
     "data": {
      "text/markdown": [
       "Taylor Swift albums, in descending order of `'Duration_ms'`:"
      ],
      "text/plain": [
       "<IPython.core.display.Markdown object>"
      ]
     },
     "metadata": {},
     "output_type": "display_data"
    },
    {
     "data": {
      "text/markdown": [
       "- Speak Now, Red, Fearless, evermore, folklore, 1989, Reputation, Taylor Swift, Midnights, Lover"
      ],
      "text/plain": [
       "<IPython.core.display.Markdown object>"
      ]
     },
     "metadata": {},
     "output_type": "display_data"
    },
    {
     "data": {
      "text/markdown": [
       "Taylor Swift albums, in descending order of `'Tempo'`:"
      ],
      "text/plain": [
       "<IPython.core.display.Markdown object>"
      ]
     },
     "metadata": {},
     "output_type": "display_data"
    },
    {
     "data": {
      "text/markdown": [
       "- Fearless, 1989, Speak Now, Reputation, Taylor Swift, evermore, Lover, folklore, Red, Midnights"
      ],
      "text/plain": [
       "<IPython.core.display.Markdown object>"
      ]
     },
     "metadata": {},
     "output_type": "display_data"
    }
   ],
   "source": [
    "features = ['Popularity', 'Explicit', 'Danceability', 'Energy', 'Loudness',\n",
    "            'Speechiness', 'Acousticness', 'Instrumentalness', 'Liveness',\n",
    "            'Valence', 'Duration_ms', 'Tempo']\n",
    "\n",
    "for feature in features:\n",
    "    # These lines display the output nicely. You don't need to understand how they work.\n",
    "    display(Markdown(f\"Taylor Swift albums, in descending order of `'{feature}'`:\"))\n",
    "    display(Markdown(\"- \" + \", \".join(sort_albums_by(feature))))"
   ]
  },
  {
   "cell_type": "code",
   "execution_count": 41,
   "id": "541478e2",
   "metadata": {},
   "outputs": [
    {
     "data": {
      "text/markdown": [
       "Taylor Swift albums, in descending order of `'Explicit'`:"
      ],
      "text/plain": [
       "<IPython.core.display.Markdown object>"
      ]
     },
     "metadata": {},
     "output_type": "display_data"
    },
    {
     "data": {
      "text/markdown": [
       "- evermore, Midnights, folklore, Red, 1989, Fearless, Lover, Reputation, Speak Now, Taylor Swift"
      ],
      "text/plain": [
       "<IPython.core.display.Markdown object>"
      ]
     },
     "metadata": {},
     "output_type": "display_data"
    }
   ],
   "source": [
    "display(Markdown(f\"Taylor Swift albums, in descending order of `'Explicit'`:\"))\n",
    "display(Markdown(\"- \" + \", \".join(sort_albums_by('Explicit'))))"
   ]
  },
  {
   "cell_type": "markdown",
   "id": "e0f8fecd",
   "metadata": {},
   "source": [
    "While Taylor Swift is primarily a solo artist, she has collaborated with other artists on a number of songs. For example, she featured Lana Del Rey in the song `'Snow On The Beach (Ft. Lana Del Rey)'` and HAIM in `'no body, no crime (Ft. HAIM)'`. All the collaborative songs in `tswift` are indicated by `'Ft.'` in the name of the song, just like in these examples.\n",
    "\n",
    "Overlaid vertical bar chart that allows you to compare the average values of `'Explicit'`, `'Danceability'` and `'Acousticness'` for collaborative songs versus solo songs. "
   ]
  },
  {
   "cell_type": "code",
   "execution_count": 44,
   "id": "78e6e982",
   "metadata": {},
   "outputs": [
    {
     "data": {
      "image/png": "[encoded data removed]",
      "text/plain": [
       "<Figure size 1080x720 with 1 Axes>"
      ]
     },
     "metadata": {},
     "output_type": "display_data"
    }
   ],
   "source": [
    "# Create your plot here.\n",
    "\n",
    "is_it_collab = tswift.assign(is_collab = tswift.get('Song Name').str.contains('Ft.')).groupby('is_collab').mean().get(['Explicit', 'Danceability', 'Acousticness'])\n",
    "is_it_collab.plot(kind='bar', figsize=(15,10), xlabel='Is Collab?', ylabel='Average Values', title='Average Features for Solo vs. Collaborative Songs');"
   ]
  },
  {
   "cell_type": "markdown",
   "id": "145d27af",
   "metadata": {},
   "source": [
    "<a id='section2'></a>\n",
    "## Section 2: Song Recommender 🎧\n",
    "\n"
   ]
  },
  {
   "cell_type": "markdown",
   "id": "ebcc1736",
   "metadata": {},
   "source": [
    "In this section, we'll create a Taylor Swift song recommender tool. The tool will allow you to input a song you like, selected from a collection of popular songs  on Spotify, and it will recommend to you the songs in Taylor Swift's body of work that are most similar to your input song.\n",
    "\n",
    "We are already familiar with the `tswift` DataFrame; this contains the Taylor Swift songs from which we will make our recommendations.  \n",
    "\n",
    "We will also use a separate dataset of allowed input songs. For this, we have a collection of popular songs with more than one billion streams on Spotify. Let's load in this data and store it in the DataFrame `billions_club`. `billions_club` contains all the same columns as `tswift`, except that it doesn't have a `'Year'` column, and it has an additional column named `'Artist'`, because it includes songs by a variety of artists."
   ]
  },
  {
   "cell_type": "code",
   "execution_count": 47,
   "id": "510ea4b1",
   "metadata": {
    "scrolled": false
   },
   "outputs": [
    {
     "data": {
      "text/html": [
       "<div>\n",
       "<style scoped>\n",
       "    .dataframe tbody tr th:only-of-type {\n",
       "        vertical-align: middle;\n",
       "    }\n",
       "\n",
       "    .dataframe tbody tr th {\n",
       "        vertical-align: top;\n",
       "    }\n",
       "\n",
       "    .dataframe thead th {\n",
       "        text-align: right;\n",
       "    }\n",
       "</style>\n",
       "<table border=\"1\" class=\"dataframe\">\n",
       "  <thead>\n",
       "    <tr style=\"text-align: right;\">\n",
       "      <th></th>\n",
       "      <th>Album</th>\n",
       "      <th>Song Name</th>\n",
       "      <th>Artist</th>\n",
       "      <th>Disc Number</th>\n",
       "      <th>Track Number</th>\n",
       "      <th>Popularity</th>\n",
       "      <th>Explicit</th>\n",
       "      <th>Danceability</th>\n",
       "      <th>Energy</th>\n",
       "      <th>Key</th>\n",
       "      <th>Loudness</th>\n",
       "      <th>Mode</th>\n",
       "      <th>Speechiness</th>\n",
       "      <th>Acousticness</th>\n",
       "      <th>Instrumentalness</th>\n",
       "      <th>Liveness</th>\n",
       "      <th>Valence</th>\n",
       "      <th>Tempo</th>\n",
       "      <th>Duration_ms</th>\n",
       "      <th>Time Signature</th>\n",
       "    </tr>\n",
       "    <tr>\n",
       "      <th>URI</th>\n",
       "      <th></th>\n",
       "      <th></th>\n",
       "      <th></th>\n",
       "      <th></th>\n",
       "      <th></th>\n",
       "      <th></th>\n",
       "      <th></th>\n",
       "      <th></th>\n",
       "      <th></th>\n",
       "      <th></th>\n",
       "      <th></th>\n",
       "      <th></th>\n",
       "      <th></th>\n",
       "      <th></th>\n",
       "      <th></th>\n",
       "      <th></th>\n",
       "      <th></th>\n",
       "      <th></th>\n",
       "      <th></th>\n",
       "      <th></th>\n",
       "    </tr>\n",
       "  </thead>\n",
       "  <tbody>\n",
       "    <tr>\n",
       "      <th>1dGr1c8CrMLDpV6mPbImSI</th>\n",
       "      <td>Lover</td>\n",
       "      <td>Lover</td>\n",
       "      <td>Taylor Swift</td>\n",
       "      <td>1</td>\n",
       "      <td>3</td>\n",
       "      <td>91</td>\n",
       "      <td>False</td>\n",
       "      <td>0.359</td>\n",
       "      <td>0.543</td>\n",
       "      <td>7</td>\n",
       "      <td>-7.582</td>\n",
       "      <td>1</td>\n",
       "      <td>0.0919</td>\n",
       "      <td>0.492000</td>\n",
       "      <td>0.000016</td>\n",
       "      <td>0.1180</td>\n",
       "      <td>0.453</td>\n",
       "      <td>68.534</td>\n",
       "      <td>221307</td>\n",
       "      <td>4</td>\n",
       "    </tr>\n",
       "    <tr>\n",
       "      <th>2QfznFotJNZmnIEYFdzE5T</th>\n",
       "      <td>Heartbreak Anniversary</td>\n",
       "      <td>Heartbreak Anniversary</td>\n",
       "      <td>Giveon</td>\n",
       "      <td>1</td>\n",
       "      <td>1</td>\n",
       "      <td>73</td>\n",
       "      <td>False</td>\n",
       "      <td>0.624</td>\n",
       "      <td>0.457</td>\n",
       "      <td>0</td>\n",
       "      <td>-8.876</td>\n",
       "      <td>1</td>\n",
       "      <td>0.0494</td>\n",
       "      <td>0.557000</td>\n",
       "      <td>0.000000</td>\n",
       "      <td>0.1280</td>\n",
       "      <td>0.586</td>\n",
       "      <td>129.758</td>\n",
       "      <td>196795</td>\n",
       "      <td>4</td>\n",
       "    </tr>\n",
       "    <tr>\n",
       "      <th>5XeFesFbtLpXzIVDNQP22n</th>\n",
       "      <td>AM</td>\n",
       "      <td>I Wanna Be Yours</td>\n",
       "      <td>Arctic Monkeys</td>\n",
       "      <td>1</td>\n",
       "      <td>12</td>\n",
       "      <td>95</td>\n",
       "      <td>False</td>\n",
       "      <td>0.464</td>\n",
       "      <td>0.417</td>\n",
       "      <td>0</td>\n",
       "      <td>-9.345</td>\n",
       "      <td>0</td>\n",
       "      <td>0.0256</td>\n",
       "      <td>0.136000</td>\n",
       "      <td>0.022000</td>\n",
       "      <td>0.0974</td>\n",
       "      <td>0.479</td>\n",
       "      <td>67.528</td>\n",
       "      <td>183956</td>\n",
       "      <td>4</td>\n",
       "    </tr>\n",
       "    <tr>\n",
       "      <th>2dHHgzDwk4BJdRwy9uXhTO</th>\n",
       "      <td>HEROES &amp; VILLAINS</td>\n",
       "      <td>Creepin' (with The Weeknd &amp; 21 Savage)</td>\n",
       "      <td>Metro Boomin; The Weeknd; 21 Savage</td>\n",
       "      <td>1</td>\n",
       "      <td>10</td>\n",
       "      <td>92</td>\n",
       "      <td>True</td>\n",
       "      <td>0.715</td>\n",
       "      <td>0.620</td>\n",
       "      <td>1</td>\n",
       "      <td>-6.005</td>\n",
       "      <td>0</td>\n",
       "      <td>0.0484</td>\n",
       "      <td>0.417000</td>\n",
       "      <td>0.000000</td>\n",
       "      <td>0.0822</td>\n",
       "      <td>0.172</td>\n",
       "      <td>97.950</td>\n",
       "      <td>221520</td>\n",
       "      <td>4</td>\n",
       "    </tr>\n",
       "    <tr>\n",
       "      <th>5W8YXBz9MTIDyrpYaCg2Ky</th>\n",
       "      <td>Infest</td>\n",
       "      <td>Last Resort</td>\n",
       "      <td>Papa Roach</td>\n",
       "      <td>1</td>\n",
       "      <td>2</td>\n",
       "      <td>83</td>\n",
       "      <td>True</td>\n",
       "      <td>0.589</td>\n",
       "      <td>0.890</td>\n",
       "      <td>4</td>\n",
       "      <td>-3.719</td>\n",
       "      <td>0</td>\n",
       "      <td>0.0603</td>\n",
       "      <td>0.000481</td>\n",
       "      <td>0.000820</td>\n",
       "      <td>0.2010</td>\n",
       "      <td>0.692</td>\n",
       "      <td>90.598</td>\n",
       "      <td>199907</td>\n",
       "      <td>4</td>\n",
       "    </tr>\n",
       "    <tr>\n",
       "      <th>...</th>\n",
       "      <td>...</td>\n",
       "      <td>...</td>\n",
       "      <td>...</td>\n",
       "      <td>...</td>\n",
       "      <td>...</td>\n",
       "      <td>...</td>\n",
       "      <td>...</td>\n",
       "      <td>...</td>\n",
       "      <td>...</td>\n",
       "      <td>...</td>\n",
       "      <td>...</td>\n",
       "      <td>...</td>\n",
       "      <td>...</td>\n",
       "      <td>...</td>\n",
       "      <td>...</td>\n",
       "      <td>...</td>\n",
       "      <td>...</td>\n",
       "      <td>...</td>\n",
       "      <td>...</td>\n",
       "      <td>...</td>\n",
       "    </tr>\n",
       "    <tr>\n",
       "      <th>3s4U7OHV7gnj42VV72eSZ6</th>\n",
       "      <td>Rather Be (feat. Jess Glynne)</td>\n",
       "      <td>Rather Be (feat. Jess Glynne)</td>\n",
       "      <td>Clean Bandit; Jess Glynne</td>\n",
       "      <td>1</td>\n",
       "      <td>1</td>\n",
       "      <td>75</td>\n",
       "      <td>False</td>\n",
       "      <td>0.799</td>\n",
       "      <td>0.586</td>\n",
       "      <td>11</td>\n",
       "      <td>-6.735</td>\n",
       "      <td>1</td>\n",
       "      <td>0.0377</td>\n",
       "      <td>0.162000</td>\n",
       "      <td>0.000002</td>\n",
       "      <td>0.1930</td>\n",
       "      <td>0.549</td>\n",
       "      <td>120.970</td>\n",
       "      <td>227833</td>\n",
       "      <td>4</td>\n",
       "    </tr>\n",
       "    <tr>\n",
       "      <th>6zeeWid2sgw4lap2jV61PZ</th>\n",
       "      <td>Suncity</td>\n",
       "      <td>Better</td>\n",
       "      <td>Khalid</td>\n",
       "      <td>1</td>\n",
       "      <td>6</td>\n",
       "      <td>75</td>\n",
       "      <td>False</td>\n",
       "      <td>0.596</td>\n",
       "      <td>0.552</td>\n",
       "      <td>0</td>\n",
       "      <td>-10.278</td>\n",
       "      <td>0</td>\n",
       "      <td>0.0970</td>\n",
       "      <td>0.076500</td>\n",
       "      <td>0.334000</td>\n",
       "      <td>0.1040</td>\n",
       "      <td>0.112</td>\n",
       "      <td>97.949</td>\n",
       "      <td>229320</td>\n",
       "      <td>4</td>\n",
       "    </tr>\n",
       "    <tr>\n",
       "      <th>2yPoXCs7BSIUrucMdK5PzV</th>\n",
       "      <td>Good Girl Gone Bad</td>\n",
       "      <td>Umbrella</td>\n",
       "      <td>Rihanna; JAY-Z</td>\n",
       "      <td>1</td>\n",
       "      <td>1</td>\n",
       "      <td>74</td>\n",
       "      <td>False</td>\n",
       "      <td>0.583</td>\n",
       "      <td>0.829</td>\n",
       "      <td>1</td>\n",
       "      <td>-4.603</td>\n",
       "      <td>1</td>\n",
       "      <td>0.1340</td>\n",
       "      <td>0.008640</td>\n",
       "      <td>0.000000</td>\n",
       "      <td>0.0426</td>\n",
       "      <td>0.575</td>\n",
       "      <td>174.028</td>\n",
       "      <td>275987</td>\n",
       "      <td>4</td>\n",
       "    </tr>\n",
       "    <tr>\n",
       "      <th>5CLGzJsGqhCEECcpnFQA8x</th>\n",
       "      <td>These Days (feat. Jess Glynne, Macklemore &amp; Da...</td>\n",
       "      <td>These Days (feat. Jess Glynne, Macklemore &amp; Da...</td>\n",
       "      <td>Rudimental; Jess Glynne; Macklemore; Dan Caplen</td>\n",
       "      <td>1</td>\n",
       "      <td>1</td>\n",
       "      <td>74</td>\n",
       "      <td>False</td>\n",
       "      <td>0.653</td>\n",
       "      <td>0.809</td>\n",
       "      <td>0</td>\n",
       "      <td>-4.057</td>\n",
       "      <td>1</td>\n",
       "      <td>0.0474</td>\n",
       "      <td>0.194000</td>\n",
       "      <td>0.000000</td>\n",
       "      <td>0.1650</td>\n",
       "      <td>0.550</td>\n",
       "      <td>92.213</td>\n",
       "      <td>210773</td>\n",
       "      <td>4</td>\n",
       "    </tr>\n",
       "    <tr>\n",
       "      <th>11IzgLRXV7Cgek3tEgGgjw</th>\n",
       "      <td>Hot Space (Deluxe Remastered Version)</td>\n",
       "      <td>Under Pressure - Remastered 2011</td>\n",
       "      <td>Queen; David Bowie</td>\n",
       "      <td>1</td>\n",
       "      <td>11</td>\n",
       "      <td>74</td>\n",
       "      <td>False</td>\n",
       "      <td>0.671</td>\n",
       "      <td>0.711</td>\n",
       "      <td>2</td>\n",
       "      <td>-7.813</td>\n",
       "      <td>1</td>\n",
       "      <td>0.0478</td>\n",
       "      <td>0.422000</td>\n",
       "      <td>0.000000</td>\n",
       "      <td>0.1040</td>\n",
       "      <td>0.466</td>\n",
       "      <td>113.809</td>\n",
       "      <td>248440</td>\n",
       "      <td>4</td>\n",
       "    </tr>\n",
       "  </tbody>\n",
       "</table>\n",
       "<p>400 rows × 20 columns</p>\n",
       "</div>"
      ],
      "text/plain": [
       "                                                                    Album  \\\n",
       "URI                                                                         \n",
       "1dGr1c8CrMLDpV6mPbImSI                                              Lover   \n",
       "2QfznFotJNZmnIEYFdzE5T                             Heartbreak Anniversary   \n",
       "5XeFesFbtLpXzIVDNQP22n                                                 AM   \n",
       "2dHHgzDwk4BJdRwy9uXhTO                                  HEROES & VILLAINS   \n",
       "5W8YXBz9MTIDyrpYaCg2Ky                                             Infest   \n",
       "...                                                                   ...   \n",
       "3s4U7OHV7gnj42VV72eSZ6                      Rather Be (feat. Jess Glynne)   \n",
       "6zeeWid2sgw4lap2jV61PZ                                            Suncity   \n",
       "2yPoXCs7BSIUrucMdK5PzV                                 Good Girl Gone Bad   \n",
       "5CLGzJsGqhCEECcpnFQA8x  These Days (feat. Jess Glynne, Macklemore & Da...   \n",
       "11IzgLRXV7Cgek3tEgGgjw              Hot Space (Deluxe Remastered Version)   \n",
       "\n",
       "                                                                Song Name  \\\n",
       "URI                                                                         \n",
       "1dGr1c8CrMLDpV6mPbImSI                                              Lover   \n",
       "2QfznFotJNZmnIEYFdzE5T                             Heartbreak Anniversary   \n",
       "5XeFesFbtLpXzIVDNQP22n                                   I Wanna Be Yours   \n",
       "2dHHgzDwk4BJdRwy9uXhTO             Creepin' (with The Weeknd & 21 Savage)   \n",
       "5W8YXBz9MTIDyrpYaCg2Ky                                        Last Resort   \n",
       "...                                                                   ...   \n",
       "3s4U7OHV7gnj42VV72eSZ6                      Rather Be (feat. Jess Glynne)   \n",
       "6zeeWid2sgw4lap2jV61PZ                                             Better   \n",
       "2yPoXCs7BSIUrucMdK5PzV                                           Umbrella   \n",
       "5CLGzJsGqhCEECcpnFQA8x  These Days (feat. Jess Glynne, Macklemore & Da...   \n",
       "11IzgLRXV7Cgek3tEgGgjw                   Under Pressure - Remastered 2011   \n",
       "\n",
       "                                                                 Artist  \\\n",
       "URI                                                                       \n",
       "1dGr1c8CrMLDpV6mPbImSI                                     Taylor Swift   \n",
       "2QfznFotJNZmnIEYFdzE5T                                           Giveon   \n",
       "5XeFesFbtLpXzIVDNQP22n                                   Arctic Monkeys   \n",
       "2dHHgzDwk4BJdRwy9uXhTO              Metro Boomin; The Weeknd; 21 Savage   \n",
       "5W8YXBz9MTIDyrpYaCg2Ky                                       Papa Roach   \n",
       "...                                                                 ...   \n",
       "3s4U7OHV7gnj42VV72eSZ6                        Clean Bandit; Jess Glynne   \n",
       "6zeeWid2sgw4lap2jV61PZ                                           Khalid   \n",
       "2yPoXCs7BSIUrucMdK5PzV                                   Rihanna; JAY-Z   \n",
       "5CLGzJsGqhCEECcpnFQA8x  Rudimental; Jess Glynne; Macklemore; Dan Caplen   \n",
       "11IzgLRXV7Cgek3tEgGgjw                               Queen; David Bowie   \n",
       "\n",
       "                        Disc Number  Track Number  Popularity  Explicit  \\\n",
       "URI                                                                       \n",
       "1dGr1c8CrMLDpV6mPbImSI            1             3          91     False   \n",
       "2QfznFotJNZmnIEYFdzE5T            1             1          73     False   \n",
       "5XeFesFbtLpXzIVDNQP22n            1            12          95     False   \n",
       "2dHHgzDwk4BJdRwy9uXhTO            1            10          92      True   \n",
       "5W8YXBz9MTIDyrpYaCg2Ky            1             2          83      True   \n",
       "...                             ...           ...         ...       ...   \n",
       "3s4U7OHV7gnj42VV72eSZ6            1             1          75     False   \n",
       "6zeeWid2sgw4lap2jV61PZ            1             6          75     False   \n",
       "2yPoXCs7BSIUrucMdK5PzV            1             1          74     False   \n",
       "5CLGzJsGqhCEECcpnFQA8x            1             1          74     False   \n",
       "11IzgLRXV7Cgek3tEgGgjw            1            11          74     False   \n",
       "\n",
       "                        Danceability  Energy  Key  Loudness  Mode  \\\n",
       "URI                                                                 \n",
       "1dGr1c8CrMLDpV6mPbImSI         0.359   0.543    7    -7.582     1   \n",
       "2QfznFotJNZmnIEYFdzE5T         0.624   0.457    0    -8.876     1   \n",
       "5XeFesFbtLpXzIVDNQP22n         0.464   0.417    0    -9.345     0   \n",
       "2dHHgzDwk4BJdRwy9uXhTO         0.715   0.620    1    -6.005     0   \n",
       "5W8YXBz9MTIDyrpYaCg2Ky         0.589   0.890    4    -3.719     0   \n",
       "...                              ...     ...  ...       ...   ...   \n",
       "3s4U7OHV7gnj42VV72eSZ6         0.799   0.586   11    -6.735     1   \n",
       "6zeeWid2sgw4lap2jV61PZ         0.596   0.552    0   -10.278     0   \n",
       "2yPoXCs7BSIUrucMdK5PzV         0.583   0.829    1    -4.603     1   \n",
       "5CLGzJsGqhCEECcpnFQA8x         0.653   0.809    0    -4.057     1   \n",
       "11IzgLRXV7Cgek3tEgGgjw         0.671   0.711    2    -7.813     1   \n",
       "\n",
       "                        Speechiness  Acousticness  Instrumentalness  Liveness  \\\n",
       "URI                                                                             \n",
       "1dGr1c8CrMLDpV6mPbImSI       0.0919      0.492000          0.000016    0.1180   \n",
       "2QfznFotJNZmnIEYFdzE5T       0.0494      0.557000          0.000000    0.1280   \n",
       "5XeFesFbtLpXzIVDNQP22n       0.0256      0.136000          0.022000    0.0974   \n",
       "2dHHgzDwk4BJdRwy9uXhTO       0.0484      0.417000          0.000000    0.0822   \n",
       "5W8YXBz9MTIDyrpYaCg2Ky       0.0603      0.000481          0.000820    0.2010   \n",
       "...                             ...           ...               ...       ...   \n",
       "3s4U7OHV7gnj42VV72eSZ6       0.0377      0.162000          0.000002    0.1930   \n",
       "6zeeWid2sgw4lap2jV61PZ       0.0970      0.076500          0.334000    0.1040   \n",
       "2yPoXCs7BSIUrucMdK5PzV       0.1340      0.008640          0.000000    0.0426   \n",
       "5CLGzJsGqhCEECcpnFQA8x       0.0474      0.194000          0.000000    0.1650   \n",
       "11IzgLRXV7Cgek3tEgGgjw       0.0478      0.422000          0.000000    0.1040   \n",
       "\n",
       "                        Valence    Tempo  Duration_ms  Time Signature  \n",
       "URI                                                                    \n",
       "1dGr1c8CrMLDpV6mPbImSI    0.453   68.534       221307               4  \n",
       "2QfznFotJNZmnIEYFdzE5T    0.586  129.758       196795               4  \n",
       "5XeFesFbtLpXzIVDNQP22n    0.479   67.528       183956               4  \n",
       "2dHHgzDwk4BJdRwy9uXhTO    0.172   97.950       221520               4  \n",
       "5W8YXBz9MTIDyrpYaCg2Ky    0.692   90.598       199907               4  \n",
       "...                         ...      ...          ...             ...  \n",
       "3s4U7OHV7gnj42VV72eSZ6    0.549  120.970       227833               4  \n",
       "6zeeWid2sgw4lap2jV61PZ    0.112   97.949       229320               4  \n",
       "2yPoXCs7BSIUrucMdK5PzV    0.575  174.028       275987               4  \n",
       "5CLGzJsGqhCEECcpnFQA8x    0.550   92.213       210773               4  \n",
       "11IzgLRXV7Cgek3tEgGgjw    0.466  113.809       248440               4  \n",
       "\n",
       "[400 rows x 20 columns]"
      ]
     },
     "execution_count": 47,
     "metadata": {},
     "output_type": "execute_result"
    }
   ],
   "source": [
    "billions_club = bpd.read_csv('data/billions_club.csv').set_index('URI')\n",
    "billions_club"
   ]
  },
  {
   "cell_type": "markdown",
   "id": "56c2ca54",
   "metadata": {},
   "source": [
    "The goal in this section is to find a song in the `billions_club` DataFrame that we like and use it as an input to our recommender tool to find Taylor Swift songs with a similar sound. The problem is, in the preview of the DataFrame above, we can only see the first few rows and the last few rows of `billions_club`, so it's hard to see all of the possible songs we can choose from. Let's browse the DataFrame by randomly selecting ten rows to display. "
   ]
  },
  {
   "cell_type": "code",
   "execution_count": 48,
   "id": "bc85109d",
   "metadata": {
    "scrolled": true
   },
   "outputs": [
    {
     "data": {
      "text/html": [
       "<div>\n",
       "<style scoped>\n",
       "    .dataframe tbody tr th:only-of-type {\n",
       "        vertical-align: middle;\n",
       "    }\n",
       "\n",
       "    .dataframe tbody tr th {\n",
       "        vertical-align: top;\n",
       "    }\n",
       "\n",
       "    .dataframe thead th {\n",
       "        text-align: right;\n",
       "    }\n",
       "</style>\n",
       "<table border=\"1\" class=\"dataframe\">\n",
       "  <thead>\n",
       "    <tr style=\"text-align: right;\">\n",
       "      <th></th>\n",
       "      <th>Song Name</th>\n",
       "      <th>Artist</th>\n",
       "    </tr>\n",
       "    <tr>\n",
       "      <th>URI</th>\n",
       "      <th></th>\n",
       "      <th></th>\n",
       "    </tr>\n",
       "  </thead>\n",
       "  <tbody>\n",
       "    <tr>\n",
       "      <th>6HZILIRieu8S0iqY8kIKhj</th>\n",
       "      <td>DNA.</td>\n",
       "      <td>Kendrick Lamar</td>\n",
       "    </tr>\n",
       "    <tr>\n",
       "      <th>5XeFesFbtLpXzIVDNQP22n</th>\n",
       "      <td>I Wanna Be Yours</td>\n",
       "      <td>Arctic Monkeys</td>\n",
       "    </tr>\n",
       "    <tr>\n",
       "      <th>2kJwzbxV2ppxnQoYw4GLBZ</th>\n",
       "      <td>If the World Was Ending (feat. Julia Michaels)</td>\n",
       "      <td>JP Saxe; Julia Michaels</td>\n",
       "    </tr>\n",
       "    <tr>\n",
       "      <th>3ZCTVFBt2Brf31RLEnCkWJ</th>\n",
       "      <td>everything i wanted</td>\n",
       "      <td>Billie Eilish</td>\n",
       "    </tr>\n",
       "    <tr>\n",
       "      <th>0azC730Exh71aQlOt9Zj3y</th>\n",
       "      <td>This Is What You Came For</td>\n",
       "      <td>Calvin Harris; Rihanna</td>\n",
       "    </tr>\n",
       "    <tr>\n",
       "      <th>2zYzyRzz6pRmhPzyfMEC8s</th>\n",
       "      <td>Highway to Hell</td>\n",
       "      <td>AC/DC</td>\n",
       "    </tr>\n",
       "    <tr>\n",
       "      <th>31AOj9sFz2gM0O3hMARRBx</th>\n",
       "      <td>Losing My Religion</td>\n",
       "      <td>R.E.M.</td>\n",
       "    </tr>\n",
       "    <tr>\n",
       "      <th>0puf9yIluy9W0vpMEUoAnN</th>\n",
       "      <td>Bang Bang</td>\n",
       "      <td>Jessie J; Ariana Grande; Nicki Minaj</td>\n",
       "    </tr>\n",
       "    <tr>\n",
       "      <th>7GgWAITsYJaRM3r50rfh5w</th>\n",
       "      <td>When We Were Young</td>\n",
       "      <td>Adele</td>\n",
       "    </tr>\n",
       "    <tr>\n",
       "      <th>2YpeDb67231RjR0MgVLzsG</th>\n",
       "      <td>Old Town Road - Remix</td>\n",
       "      <td>Lil Nas X; Billy Ray Cyrus</td>\n",
       "    </tr>\n",
       "  </tbody>\n",
       "</table>\n",
       "</div>"
      ],
      "text/plain": [
       "                                                             Song Name  \\\n",
       "URI                                                                      \n",
       "6HZILIRieu8S0iqY8kIKhj                                            DNA.   \n",
       "5XeFesFbtLpXzIVDNQP22n                                I Wanna Be Yours   \n",
       "2kJwzbxV2ppxnQoYw4GLBZ  If the World Was Ending (feat. Julia Michaels)   \n",
       "3ZCTVFBt2Brf31RLEnCkWJ                             everything i wanted   \n",
       "0azC730Exh71aQlOt9Zj3y                       This Is What You Came For   \n",
       "2zYzyRzz6pRmhPzyfMEC8s                                 Highway to Hell   \n",
       "31AOj9sFz2gM0O3hMARRBx                              Losing My Religion   \n",
       "0puf9yIluy9W0vpMEUoAnN                                       Bang Bang   \n",
       "7GgWAITsYJaRM3r50rfh5w                              When We Were Young   \n",
       "2YpeDb67231RjR0MgVLzsG                           Old Town Road - Remix   \n",
       "\n",
       "                                                      Artist  \n",
       "URI                                                           \n",
       "6HZILIRieu8S0iqY8kIKhj                        Kendrick Lamar  \n",
       "5XeFesFbtLpXzIVDNQP22n                        Arctic Monkeys  \n",
       "2kJwzbxV2ppxnQoYw4GLBZ               JP Saxe; Julia Michaels  \n",
       "3ZCTVFBt2Brf31RLEnCkWJ                         Billie Eilish  \n",
       "0azC730Exh71aQlOt9Zj3y                Calvin Harris; Rihanna  \n",
       "2zYzyRzz6pRmhPzyfMEC8s                                 AC/DC  \n",
       "31AOj9sFz2gM0O3hMARRBx                                R.E.M.  \n",
       "0puf9yIluy9W0vpMEUoAnN  Jessie J; Ariana Grande; Nicki Minaj  \n",
       "7GgWAITsYJaRM3r50rfh5w                                 Adele  \n",
       "2YpeDb67231RjR0MgVLzsG            Lil Nas X; Billy Ray Cyrus  "
      ]
     },
     "execution_count": 48,
     "metadata": {},
     "output_type": "execute_result"
    }
   ],
   "source": [
    "# Run this cell a few times!\n",
    "billions_club.sample(10).get(['Song Name', 'Artist'])"
   ]
  },
  {
   "cell_type": "code",
   "execution_count": 49,
   "id": "22652661",
   "metadata": {},
   "outputs": [
    {
     "name": "stdout",
     "output_type": "stream",
     "text": [
      "My favorite song is Dusk Till Dawn (feat. Sia) - Radio Edit. It has a URI of 3e7sxremeOE3wTySiOhGiP.\n"
     ]
    }
   ],
   "source": [
    "favorite_uri = '3e7sxremeOE3wTySiOhGiP'\n",
    "favorite_song_name = 'Dusk Till Dawn (feat. Sia) - Radio Edit'\n",
    "\n",
    "print(f'My favorite song is {favorite_song_name}. It has a URI of {favorite_uri}.')"
   ]
  },
  {
   "cell_type": "markdown",
   "id": "085e87b7",
   "metadata": {},
   "source": [
    "You can also listen to a preview of your favorite song in the notebook by running the cell below and pressing play."
   ]
  },
  {
   "cell_type": "code",
   "execution_count": 51,
   "id": "42e40ab2",
   "metadata": {},
   "outputs": [
    {
     "data": {
      "text/html": [
       "\n",
       "        <iframe\n",
       "            width=\"400\"\n",
       "            height=\"75\"\n",
       "            src=\"https://open.spotify.com/embed/track/3e7sxremeOE3wTySiOhGiP\"\n",
       "            frameborder=\"0\"\n",
       "            allowfullscreen\n",
       "        ></iframe>\n",
       "        "
      ],
      "text/plain": [
       "<IPython.lib.display.IFrame at 0x7f7554a8a880>"
      ]
     },
     "metadata": {},
     "output_type": "display_data"
    }
   ],
   "source": [
    "play_spotify(favorite_uri) "
   ]
  },
  {
   "cell_type": "markdown",
   "id": "4a39a284",
   "metadata": {},
   "source": [
    "We will allow our recommender tool to base its recommendations on a customizable set of audio features. When not specified, the tool will use *all* of the audio features that are measured on a 0 to 1 scale, which we'll store in the variable `default_features`. But you can choose to use only a subset of these features when asking for recommendations, based on whatever is important to you!"
   ]
  },
  {
   "cell_type": "code",
   "execution_count": 52,
   "id": "3b0c6ec4",
   "metadata": {},
   "outputs": [],
   "source": [
    "default_features = [\n",
    "    'Danceability', \n",
    "    'Energy',\n",
    "    'Speechiness',\n",
    "    'Acousticness',\n",
    "    'Instrumentalness',\n",
    "    'Liveness',\n",
    "    'Valence'\n",
    "]"
   ]
  },
  {
   "cell_type": "code",
   "execution_count": 53,
   "id": "745f0217",
   "metadata": {
    "scrolled": false
   },
   "outputs": [
    {
     "data": {
      "text/html": [
       "<div>\n",
       "<style scoped>\n",
       "    .dataframe tbody tr th:only-of-type {\n",
       "        vertical-align: middle;\n",
       "    }\n",
       "\n",
       "    .dataframe tbody tr th {\n",
       "        vertical-align: top;\n",
       "    }\n",
       "\n",
       "    .dataframe thead th {\n",
       "        text-align: right;\n",
       "    }\n",
       "</style>\n",
       "<table border=\"1\" class=\"dataframe\">\n",
       "  <thead>\n",
       "    <tr style=\"text-align: right;\">\n",
       "      <th></th>\n",
       "      <th>x</th>\n",
       "      <th>y</th>\n",
       "      <th>z</th>\n",
       "    </tr>\n",
       "  </thead>\n",
       "  <tbody>\n",
       "    <tr>\n",
       "      <th>0</th>\n",
       "      <td>1</td>\n",
       "      <td>3</td>\n",
       "      <td>5</td>\n",
       "    </tr>\n",
       "    <tr>\n",
       "      <th>1</th>\n",
       "      <td>2</td>\n",
       "      <td>4</td>\n",
       "      <td>6</td>\n",
       "    </tr>\n",
       "  </tbody>\n",
       "</table>\n",
       "</div>"
      ],
      "text/plain": [
       "   x  y  z\n",
       "0  1  3  5\n",
       "1  2  4  6"
      ]
     },
     "execution_count": 53,
     "metadata": {},
     "output_type": "execute_result"
    }
   ],
   "source": [
    "example_df = bpd.DataFrame().assign(x=[1, 2], y=[3, 4], z=[5, 6])\n",
    "example_df"
   ]
  },
  {
   "cell_type": "markdown",
   "id": "ff52a97d",
   "metadata": {},
   "source": [
    "We can extract the values from the second row of `example_df` as follows."
   ]
  },
  {
   "cell_type": "code",
   "execution_count": 54,
   "id": "ecc32d4a",
   "metadata": {},
   "outputs": [
    {
     "data": {
      "text/plain": [
       "x    2\n",
       "y    4\n",
       "z    6\n",
       "Name: 1, dtype: int64"
      ]
     },
     "execution_count": 54,
     "metadata": {},
     "output_type": "execute_result"
    }
   ],
   "source": [
    "example_df.loc[1]"
   ]
  },
  {
   "cell_type": "code",
   "execution_count": 55,
   "id": "265433f0",
   "metadata": {},
   "outputs": [
    {
     "data": {
      "text/plain": [
       "array([2, 4, 6])"
      ]
     },
     "execution_count": 55,
     "metadata": {},
     "output_type": "execute_result"
    }
   ],
   "source": [
    "np.array(example_df.loc[1])"
   ]
  },
  {
   "cell_type": "code",
   "execution_count": 56,
   "id": "7b6d9cd4",
   "metadata": {
    "scrolled": true
   },
   "outputs": [
    {
     "data": {
      "text/plain": [
       "array([0.259, 0.437])"
      ]
     },
     "execution_count": 56,
     "metadata": {},
     "output_type": "execute_result"
    }
   ],
   "source": [
    "def get_feature_values(input_uri, song_df, feature_list):\n",
    "    if input_uri in song_df.index:\n",
    "        return np.array(song_df.get(feature_list).loc[input_uri])\n",
    "    else:\n",
    "        print('This URI was not found.')\n",
    "        return None\n",
    "\n",
    "# Now call your function to extract some audio features of your favorite song.\n",
    "get_feature_values(favorite_uri, billions_club, ['Danceability', 'Energy'])"
   ]
  },
  {
   "cell_type": "markdown",
   "id": "62615288",
   "metadata": {
    "deletable": false,
    "editable": false
   },
   "source": [
    "Now, let's apply the concept of Euclidean distance to calculate the similarity between two songs. Implementation of the function `calculate_similarity` below. This function takes in two arrays of the same length, which we can think of as two points in $n$-dimensional space, where $n$ is the length of each array. The function should output the Euclidean distance between these two points, as a float, with no rounding.\n",
    "\n",
    "\n"
   ]
  },
  {
   "cell_type": "code",
   "execution_count": 58,
   "id": "3bbc0c49",
   "metadata": {},
   "outputs": [
    {
     "data": {
      "text/plain": [
       "0.4254400075216246"
      ]
     },
     "execution_count": 58,
     "metadata": {},
     "output_type": "execute_result"
    }
   ],
   "source": [
    "def calculate_similarity(features_1, features_2):\n",
    "    dist = np.sum((features_1 - features_2) ** 2) ** 0.5\n",
    "    return dist\n",
    "\n",
    "karma = (np.array(tswift[tswift.get('Song Name') == 'Karma']\n",
    "                  .reset_index()\n",
    "                  .get(['Danceability', 'Energy', 'Valence', 'Acousticness'])\n",
    "                  .loc[0]))\n",
    "\n",
    "fav_song = (np.array(billions_club[billions_club.get('Song Name') == favorite_song_name]\n",
    "                     .reset_index()\n",
    "                     .get(['Danceability', 'Energy', 'Valence', 'Acousticness'])\n",
    "                     .loc[0]))\n",
    "\n",
    "favorite_vs_karma = calculate_similarity(karma, fav_song)\n",
    "favorite_vs_karma"
   ]
  },
  {
   "cell_type": "markdown",
   "id": "d3b5d12c",
   "metadata": {
    "deletable": false,
    "editable": false
   },
   "source": [
    " So far, we know how to compute the similarity between two particular songs. Now, let's compute the similarity between a given song and *each* of the Taylor Swift songs in `tswift`. \n",
    "\n",
    "This function should calculate the similarity scores between the input song and each of the Taylor Swift songs in `tswift`, one by one, and output an array of similarity scores.  The inputs to `calculate_similarity_for_all` are:\n",
    "\n",
    "- `input_uri`, the `'URI'` of a song whose features you will compare to each song in `tswift`.\n",
    "- `song_df`, a DataFrame that has a row corresponding to the song with the given `input_uri` and columns containing audio features.\n",
    "- `feature_list`, a list of features to include in the similarity score.\n",
    "\n"
   ]
  },
  {
   "cell_type": "code",
   "execution_count": 60,
   "id": "b1f3a21f",
   "metadata": {
    "scrolled": true
   },
   "outputs": [
    {
     "data": {
      "text/plain": [
       "array([0.6133239 , 0.54902496, 0.99242774, 0.77919285, 0.84174364,\n",
       "       0.64619704, 0.78713849, 0.15877283, 0.5833457 , 0.82642205,\n",
       "       0.69567763, 0.91575838, 0.6808953 , 0.84352226, 0.72369281,\n",
       "       0.64490992, 1.12013348, 0.92170321, 0.61470351, 0.42544001,\n",
       "       0.60267654, 0.7189395 , 0.49901829, 0.56713795, 0.55894294,\n",
       "       0.38695268, 0.57076476, 0.64443014, 0.72970433, 0.61077427,\n",
       "       0.95658508, 0.7260186 , 0.5059761 , 0.71132455, 0.76959951,\n",
       "       0.51206934, 0.9896171 , 0.49186808, 0.55175321, 0.62771284,\n",
       "       0.73696798, 0.68189707, 0.84241475, 0.75163409, 0.71402816,\n",
       "       0.91984891, 0.46089761, 0.90725466, 0.72713658, 0.92482972,\n",
       "       0.85987081, 0.78259275, 0.80881445, 0.95032216, 1.04207975,\n",
       "       0.65870055, 0.38176617, 0.4798696 , 0.50715781, 0.71433592,\n",
       "       0.58163141, 0.65566173, 0.46636768, 0.38869475, 0.51323953,\n",
       "       0.43252793, 0.54809828, 0.58635601, 0.48492759, 0.96558739,\n",
       "       0.45534515, 0.30373971, 0.90668008, 0.34156425, 0.65950661,\n",
       "       0.25939362, 0.76933936, 0.54991019, 0.1851269 , 0.67490874,\n",
       "       0.77056292, 0.6476249 , 0.51556805, 0.54765589, 0.8114089 ,\n",
       "       0.41739527, 0.57735935, 0.70869388, 0.46147482, 0.51297603,\n",
       "       0.98997687, 0.31304346, 0.49593449, 0.63021131, 0.55564202,\n",
       "       0.50918494, 0.6037955 , 0.83176812, 0.77625422, 0.41409445,\n",
       "       0.42186705, 0.88908752, 0.29097775, 0.71453833, 0.66685408,\n",
       "       0.56841658, 0.59957819, 0.38817111, 0.47829662, 0.82814432,\n",
       "       0.2246028 , 0.7278323 , 0.63918355, 0.67439396, 0.52230286,\n",
       "       0.86463924, 0.26862161, 0.24644433, 0.43198034, 0.73981342,\n",
       "       0.53827526, 0.72295673, 0.7611921 , 0.87084144, 0.71375523,\n",
       "       0.49167206, 0.50909352, 0.6528631 , 0.27550394, 0.79073071,\n",
       "       0.32260194, 0.42215122, 0.50297177, 0.63801772, 0.46848369,\n",
       "       0.32554356, 0.33021584, 0.87066722, 0.75544573, 0.66968952,\n",
       "       0.63066743, 0.39858145, 0.68367869, 0.50990883, 0.74280389,\n",
       "       0.74236717, 0.94025901, 0.89427178, 0.87125668, 0.83856771,\n",
       "       0.75134041, 0.79186603, 0.63774055, 0.81309926, 0.915271  ,\n",
       "       0.89042406, 0.83896711, 0.85290891, 0.84140978, 0.80008913,\n",
       "       0.73633023, 0.86136741, 1.21405849, 0.6477918 , 0.94062363,\n",
       "       0.4512618 , 0.55959941, 0.66220843, 0.72647902, 0.3764674 ,\n",
       "       0.57403172, 0.26087125, 0.56260044, 0.50655662, 0.65703836,\n",
       "       0.70687147, 0.43401685, 0.76985981, 0.68134441, 0.63012127,\n",
       "       0.32365862, 0.73840561, 0.58572076, 0.71838827, 0.56471709,\n",
       "       0.73978917, 0.63177687, 1.00047184, 0.64008219, 0.56055853,\n",
       "       0.8006755 , 0.53440046, 0.6174185 ])"
      ]
     },
     "execution_count": 60,
     "metadata": {},
     "output_type": "execute_result"
    }
   ],
   "source": [
    "def calculate_similarity_for_all(input_uri, song_df, feature_list):\n",
    "    similarity_scores = np.array([])\n",
    "    \n",
    "    for i in range(tswift.shape[0]):\n",
    "        similarity_array = calculate_similarity(get_feature_values(tswift.index[i], tswift, feature_list),\n",
    "                                                get_feature_values(input_uri, song_df, feature_list))\n",
    "        similarity_scores = np.append(similarity_scores, similarity_array)\n",
    "\n",
    "    return similarity_scores\n",
    "\n",
    "# Feel free to comment this line out or change the arguments!\n",
    "calculate_similarity_for_all(favorite_uri, billions_club, ['Danceability', 'Energy', 'Valence', 'Acousticness'])"
   ]
  },
  {
   "cell_type": "markdown",
   "id": "4f78a564",
   "metadata": {
    "deletable": false,
    "editable": false
   },
   "source": [
    "Now that we have the similarity scores between our input song and every single Taylor Swift song, let's use them to find the Taylor Swift songs that are most similar to our input song. Complete the implementation of the function `select_top_recommendations`, which takes in an array `similarity_scores`, like the one  just created, and a positive integer `n`. The function should return a DataFrame of the `n` songs from `tswift` that correspond to the `n` **lowest** values in `similarity_scores`, sorted in increasing order of similarity score.\n",
    "- Remember, the most similar songs are the ones whose similarity scores are lowest, because songs are more similar when they have a lower Euclidean distance.\n",
    "- The DataFrame returned by `select_top_recommendations` should have all the same columns as `tswift`, though as mentioned above, it should only have `n` rows.\n",
    "\n"
   ]
  },
  {
   "cell_type": "code",
   "execution_count": 62,
   "id": "8ff18a57",
   "metadata": {},
   "outputs": [],
   "source": [
    "def select_top_recommendations(similarity_scores, n):\n",
    "    similarity_scores = (tswift\n",
    "                         .assign(Similarity_Scores=similarity_scores)\n",
    "                         .sort_values('Similarity_Scores')\n",
    "                         .take(np.arange(n))\n",
    "                         .drop(columns='Similarity_Scores'))\n",
    "    return similarity_scores"
   ]
  },
  {
   "cell_type": "markdown",
   "id": "be12cd38",
   "metadata": {
    "deletable": false,
    "editable": false
   },
   "source": [
    "It's time to combine everything we've implemented so far into a single function. Below, complete the \n",
    "implementation of the function `song_recommender`. The inputs to `song_recommender` are:\n",
    "\n",
    "- `input_uri`, the `'URI'` of a song which you want to find recommendations similar to.\n",
    "- `song_df`, a DataFrame that has a row corresponding to the song with the given `input_uri` and columns containing audio features.\n",
    "- `n`, the number of top-matching songs to be shown.\n",
    "- `feature_list`, a list of features to include in the similarity computation. This is an optional parameter; if not included, the similarity should be based on all features in `default_features`.\n",
    " \n"
   ]
  },
  {
   "cell_type": "code",
   "execution_count": 64,
   "id": "d61ae78f",
   "metadata": {},
   "outputs": [
    {
     "name": "stdout",
     "output_type": "stream",
     "text": [
      "Taylor Swift songs that are most similar to Dusk Till Dawn (feat. Sia) - Radio Edit:\n"
     ]
    },
    {
     "data": {
      "text/html": [
       "<div>\n",
       "<style scoped>\n",
       "    .dataframe tbody tr th:only-of-type {\n",
       "        vertical-align: middle;\n",
       "    }\n",
       "\n",
       "    .dataframe tbody tr th {\n",
       "        vertical-align: top;\n",
       "    }\n",
       "\n",
       "    .dataframe thead th {\n",
       "        text-align: right;\n",
       "    }\n",
       "</style>\n",
       "<table border=\"1\" class=\"dataframe\">\n",
       "  <thead>\n",
       "    <tr style=\"text-align: right;\">\n",
       "      <th></th>\n",
       "      <th>Album</th>\n",
       "      <th>Song Name</th>\n",
       "      <th>Danceability</th>\n",
       "      <th>Energy</th>\n",
       "    </tr>\n",
       "    <tr>\n",
       "      <th>URI</th>\n",
       "      <th></th>\n",
       "      <th></th>\n",
       "      <th></th>\n",
       "      <th></th>\n",
       "    </tr>\n",
       "  </thead>\n",
       "  <tbody>\n",
       "    <tr>\n",
       "      <th>4pvb0WLRcMtbPGmtejJJ6y</th>\n",
       "      <td>folklore</td>\n",
       "      <td>exile (Ft. Bon Iver)</td>\n",
       "      <td>0.298</td>\n",
       "      <td>0.380</td>\n",
       "    </tr>\n",
       "    <tr>\n",
       "      <th>6lCvK2AR2uOKkVFCVlAzzm</th>\n",
       "      <td>evermore</td>\n",
       "      <td>tolerate it</td>\n",
       "      <td>0.316</td>\n",
       "      <td>0.361</td>\n",
       "    </tr>\n",
       "    <tr>\n",
       "      <th>3pHkh7d0lzM2AldUtz2x37</th>\n",
       "      <td>Lover</td>\n",
       "      <td>The Archer</td>\n",
       "      <td>0.292</td>\n",
       "      <td>0.574</td>\n",
       "    </tr>\n",
       "    <tr>\n",
       "      <th>1dGr1c8CrMLDpV6mPbImSI</th>\n",
       "      <td>Lover</td>\n",
       "      <td>Lover</td>\n",
       "      <td>0.359</td>\n",
       "      <td>0.543</td>\n",
       "    </tr>\n",
       "    <tr>\n",
       "      <th>1zU8j1x3yi9xalMF96pzKp</th>\n",
       "      <td>Speak Now</td>\n",
       "      <td>Dear John</td>\n",
       "      <td>0.419</td>\n",
       "      <td>0.470</td>\n",
       "    </tr>\n",
       "  </tbody>\n",
       "</table>\n",
       "</div>"
      ],
      "text/plain": [
       "                            Album             Song Name  Danceability  Energy\n",
       "URI                                                                          \n",
       "4pvb0WLRcMtbPGmtejJJ6y   folklore  exile (Ft. Bon Iver)         0.298   0.380\n",
       "6lCvK2AR2uOKkVFCVlAzzm   evermore           tolerate it         0.316   0.361\n",
       "3pHkh7d0lzM2AldUtz2x37      Lover            The Archer         0.292   0.574\n",
       "1dGr1c8CrMLDpV6mPbImSI      Lover                 Lover         0.359   0.543\n",
       "1zU8j1x3yi9xalMF96pzKp  Speak Now             Dear John         0.419   0.470"
      ]
     },
     "execution_count": 64,
     "metadata": {},
     "output_type": "execute_result"
    }
   ],
   "source": [
    "def song_recommender(input_uri, song_df, n, feature_list=default_features):\n",
    "    similarity_scores = np.array([])\n",
    "    \n",
    "    for i in range(tswift.shape[0]):\n",
    "        similarity_array = calculate_similarity(get_feature_values(tswift.index[i], tswift, feature_list),\n",
    "                                                get_feature_values(input_uri, song_df, feature_list))\n",
    "        similarity_scores = np.append(similarity_scores, similarity_array)\n",
    "        \n",
    "    similarity_scores = (tswift\n",
    "                         .assign(Similarity_Scores=similarity_scores)\n",
    "                         .sort_values('Similarity_Scores')\n",
    "                         .take(np.arange(n))\n",
    "                         .drop(columns='Similarity_Scores')\n",
    "                         .get(['Album', 'Song Name'] + feature_list))\n",
    "    \n",
    "    return similarity_scores\n",
    "    \n",
    "# The following call to song_recommender finds the 5 Taylor Swift songs\n",
    "# that are most similar to your chosen song, in terms of 'Danceability' and 'Energy'.\n",
    "# We've also include a print statement to help you interpet the output.\n",
    "print(f'Taylor Swift songs that are most similar to {favorite_song_name}:')\n",
    "song_recommender(favorite_uri, billions_club, 5, ['Danceability', 'Energy'])"
   ]
  },
  {
   "cell_type": "markdown",
   "id": "c4efaf94",
   "metadata": {},
   "source": [
    "You now have the ability to pick a song you like and audio features that are important to you and use your function to get back recommendations of Taylor Swift songs that are similar to the song you chose.\n",
    "\n"
   ]
  },
  {
   "cell_type": "code",
   "execution_count": 66,
   "id": "623974e2",
   "metadata": {
    "scrolled": false
   },
   "outputs": [
    {
     "data": {
      "application/vnd.jupyter.widget-view+json": {
       "model_id": "8c9e3705251b4ef6a2532569d3567aee",
       "version_major": 2,
       "version_minor": 0
      },
      "text/plain": [
       "Dropdown(description='Song', index=26, layout=Layout(width='525px'), options=('1-800-273-8255 by Logic; Alessi…"
      ]
     },
     "metadata": {},
     "output_type": "display_data"
    },
    {
     "data": {
      "text/html": [
       "<h3>The song you chose was Bank Account by 21 Savage.</h3>"
      ],
      "text/plain": [
       "<IPython.core.display.HTML object>"
      ]
     },
     "metadata": {},
     "output_type": "display_data"
    },
    {
     "data": {
      "text/html": [
       "\n",
       "        <iframe\n",
       "            width=\"400\"\n",
       "            height=\"75\"\n",
       "            src=\"https://open.spotify.com/embed/track/5eqK0tbzUPo2SoeZsov04s\"\n",
       "            frameborder=\"0\"\n",
       "            allowfullscreen\n",
       "        ></iframe>\n",
       "        "
      ],
      "text/plain": [
       "<IPython.lib.display.IFrame at 0x7f7554070970>"
      ]
     },
     "metadata": {},
     "output_type": "display_data"
    },
    {
     "data": {
      "text/html": [
       "<h4>Here are the 5 most similar Taylor Swift songs we found.</h4>"
      ],
      "text/plain": [
       "<IPython.core.display.HTML object>"
      ]
     },
     "metadata": {},
     "output_type": "display_data"
    },
    {
     "data": {
      "text/html": [
       "\n",
       "        <iframe\n",
       "            width=\"400\"\n",
       "            height=\"75\"\n",
       "            src=\"https://open.spotify.com/embed/track/1xwAWUI6Dj0WGC3KiUPN0O\"\n",
       "            frameborder=\"0\"\n",
       "            allowfullscreen\n",
       "        ></iframe>\n",
       "        "
      ],
      "text/plain": [
       "<IPython.lib.display.IFrame at 0x7f755408c700>"
      ]
     },
     "metadata": {},
     "output_type": "display_data"
    },
    {
     "data": {
      "text/html": [
       "\n",
       "        <iframe\n",
       "            width=\"400\"\n",
       "            height=\"75\"\n",
       "            src=\"https://open.spotify.com/embed/track/2YWtcWi3a83pdEg3Gif4Pd\"\n",
       "            frameborder=\"0\"\n",
       "            allowfullscreen\n",
       "        ></iframe>\n",
       "        "
      ],
      "text/plain": [
       "<IPython.lib.display.IFrame at 0x7f7554070a30>"
      ]
     },
     "metadata": {},
     "output_type": "display_data"
    },
    {
     "data": {
      "text/html": [
       "\n",
       "        <iframe\n",
       "            width=\"400\"\n",
       "            height=\"75\"\n",
       "            src=\"https://open.spotify.com/embed/track/1ZY1PqizIl78geGM4xWlEA\"\n",
       "            frameborder=\"0\"\n",
       "            allowfullscreen\n",
       "        ></iframe>\n",
       "        "
      ],
      "text/plain": [
       "<IPython.lib.display.IFrame at 0x7f7554060490>"
      ]
     },
     "metadata": {},
     "output_type": "display_data"
    },
    {
     "data": {
      "text/html": [
       "\n",
       "        <iframe\n",
       "            width=\"400\"\n",
       "            height=\"75\"\n",
       "            src=\"https://open.spotify.com/embed/track/1SymEzIT3H8UZfibCs3TYi\"\n",
       "            frameborder=\"0\"\n",
       "            allowfullscreen\n",
       "        ></iframe>\n",
       "        "
      ],
      "text/plain": [
       "<IPython.lib.display.IFrame at 0x7f7554070a00>"
      ]
     },
     "metadata": {},
     "output_type": "display_data"
    },
    {
     "data": {
      "text/html": [
       "\n",
       "        <iframe\n",
       "            width=\"400\"\n",
       "            height=\"75\"\n",
       "            src=\"https://open.spotify.com/embed/track/4svZDCRz4cJoneBpjpx8DJ\"\n",
       "            frameborder=\"0\"\n",
       "            allowfullscreen\n",
       "        ></iframe>\n",
       "        "
      ],
      "text/plain": [
       "<IPython.lib.display.IFrame at 0x7f7554060490>"
      ]
     },
     "metadata": {},
     "output_type": "display_data"
    }
   ],
   "source": [
    "# Run this cell. Don't change any of the code.\n",
    "default = 'Bank Account by 21 Savage'\n",
    "\n",
    "def get_and_format_recommendations(song_name):\n",
    "    song, artist = song_name.split(' by ')\n",
    "    row = billions_club[(billions_club.get('Song Name') == song) & (billions_club.get('Artist') == artist)]\n",
    "    uri = row.index[0]\n",
    "    recommendations_df = song_recommender(uri, billions_club, 5, default_features)\n",
    "    display(HTML(f'<h3>The song you chose was {billions_club.get(\"Song Name\").loc[uri]} by {billions_club.get(\"Artist\").loc[uri]}.</h3>'))\n",
    "    play_spotify(uri)\n",
    "    display(HTML('<h4>Here are the 5 most similar Taylor Swift songs we found.</h4>'))\n",
    "    for recommended_uri in recommendations_df.index:\n",
    "        play_spotify(recommended_uri)\n",
    "\n",
    "song_options = np.sort(billions_club.get('Song Name') + ' by ' + billions_club.get('Artist'))\n",
    "song_widget = widgets.Dropdown(options=song_options, description='Song', layout={'width': '525px'}, value=default)\n",
    "   \n",
    "def change_rec(change):\n",
    "    if change['name'] == 'value' and change['new'] != change['old']:\n",
    "        clear_output()\n",
    "        display(song_widget)\n",
    "        get_and_format_recommendations(song_widget.value)\n",
    "\n",
    "display(song_widget)\n",
    "get_and_format_recommendations(default)\n",
    "song_widget.observe(change_rec)"
   ]
  },
  {
   "cell_type": "markdown",
   "id": "1b927a34",
   "metadata": {},
   "source": [
    "You did all of the calculations behind-the-scenes to make this widget work – nice job!"
   ]
  },
  {
   "cell_type": "markdown",
   "id": "136c41b7",
   "metadata": {},
   "source": [
    "\n",
    "\n",
    "Implementation of the function `most_similar_pair`, which takes in a single argument, a `feature_list`, and returns **an array of length two containing the names of the two songs in `tswift` that are the most similar to one another**, according to the features in `feature_list`. The returned array can have these two songs in either order.\n",
    "\n"
   ]
  },
  {
   "cell_type": "code",
   "execution_count": 67,
   "id": "4f04d9d4",
   "metadata": {
    "scrolled": false
   },
   "outputs": [
    {
     "data": {
      "text/plain": [
       "array(['Getaway Car', \"I'm Only Me When I'm With You\"], dtype='<U29')"
      ]
     },
     "execution_count": 67,
     "metadata": {},
     "output_type": "execute_result"
    }
   ],
   "source": [
    "def most_similar_pair(feature_list=default_features):\n",
    "    # Initialize an empty array to store the most similar pair of songs.\n",
    "    # This is NOT an accumulator pattern question, where you append to pair_of_songs in a loop.\n",
    "    # Instead, when you find a pair of songs that's more similar than the \"most similar pair\" \n",
    "    # you've ever seen, you'll update this array to contain those two songs instead.\n",
    "    pair_of_songs = np.array([])\n",
    "    \n",
    "    # Any time you find a pair of songs that's more similar than any pair you've ever seen,\n",
    "    # you should update this variable. We initialize it to 1.01 because the maximum possible\n",
    "    # similarity score is 1, so we know that this variable will be updated in the first iteration\n",
    "    # of the for-loop, corresponding to the most similar pair of songs we've seen so far.\n",
    "    lowest_similarity_score_seen = 1.01\n",
    "    \n",
    "    # Loop over the URIs of Taylor Swift's songs.\n",
    "    for uri in tswift.index:\n",
    "        # Calculate similarities between this song and all other Taylor Swift songs.\n",
    "        similarities = calculate_similarity_for_all(uri, tswift, feature_list)\n",
    "\n",
    "        # Add the array of similarity scores as a column to tswift.\n",
    "        # Sort the rows so that the most similar songs are at the top.\n",
    "        with_similarities = tswift.assign(Similarity_Scores=similarities).sort_values('Similarity_Scores')\n",
    "        \n",
    "        # Every song will have a similarity score (distance) of 0 with itself,\n",
    "        # so if we just take the smallest similarity score, we'll end up with two of the same song. \n",
    "        # Take the second-smallest similarity to account for this.\n",
    "        current_lowest_similarity_score = with_similarities.iloc[1].get('Similarity_Scores')\n",
    "        \n",
    "        if current_lowest_similarity_score < lowest_similarity_score_seen: \n",
    "            # Update the lowest_similarity_score_seen and pair_of_songs variables.\n",
    "            # Make sure to get the names of the songs from the with_similarities DataFrame.\n",
    "            \n",
    "            lowest_similarity_score_seen = current_lowest_similarity_score\n",
    "            pair_of_songs = np.array([with_similarities.loc[uri].get('Song Name'), with_similarities.loc[with_similarities.reset_index().get('URI').loc[1]].get('Song Name')])\n",
    "            \n",
    "    return pair_of_songs\n",
    "\n",
    "# Once you've implemented the function, run this cell to try out an example function call.\n",
    "# DON'T CHANGE the function call below, but you can make other function calls in new cells.\n",
    "# It's totally fine if it takes up to a minute to run each function call.\n",
    "most_similar_dance_acoustic = most_similar_pair(['Danceability', 'Acousticness'])\n",
    "most_similar_dance_acoustic"
   ]
  },
  {
   "cell_type": "code",
   "execution_count": 123,
   "id": "fa2c26c7",
   "metadata": {},
   "outputs": [
    {
     "data": {
      "text/html": [
       "\n",
       "        <iframe\n",
       "            width=\"400\"\n",
       "            height=\"75\"\n",
       "            src=\"https://open.spotify.com/embed/track/73qMN9bXy7MSPwwGfH3wQr\"\n",
       "            frameborder=\"0\"\n",
       "            allowfullscreen\n",
       "        ></iframe>\n",
       "        "
      ],
      "text/plain": [
       "<IPython.lib.display.IFrame at 0x7f755cb29790>"
      ]
     },
     "metadata": {},
     "output_type": "display_data"
    },
    {
     "data": {
      "text/html": [
       "\n",
       "        <iframe\n",
       "            width=\"400\"\n",
       "            height=\"75\"\n",
       "            src=\"https://open.spotify.com/embed/track/5OOd01o2YS1QFwdpVLds3r\"\n",
       "            frameborder=\"0\"\n",
       "            allowfullscreen\n",
       "        ></iframe>\n",
       "        "
      ],
      "text/plain": [
       "<IPython.lib.display.IFrame at 0x7f7554862c10>"
      ]
     },
     "metadata": {},
     "output_type": "display_data"
    }
   ],
   "source": [
    "name_1, name_2 = most_similar_pair()\n",
    "uri_1 = tswift[tswift.get('Song Name') == name_1].index[0]\n",
    "uri_2 = tswift[tswift.get('Song Name') == name_2].index[0]\n",
    "play_spotify(uri_1)\n",
    "play_spotify(uri_2)"
   ]
  },
  {
   "cell_type": "markdown",
   "id": "e4814983",
   "metadata": {},
   "source": [
    "What do you think – do they sound similar? \n",
    "\n"
   ]
  },
  {
   "cell_type": "code",
   "execution_count": 124,
   "id": "55bcca70",
   "metadata": {},
   "outputs": [
    {
     "data": {
      "application/vnd.jupyter.widget-view+json": {
       "model_id": "9f448f196d824774bbb238b511723ede",
       "version_major": 2,
       "version_minor": 0
      },
      "text/plain": [
       "Dropdown(description='Song', index=131, layout=Layout(width='525px'), options=('Welcome To New York, from the …"
      ]
     },
     "metadata": {},
     "output_type": "display_data"
    },
    {
     "data": {
      "text/html": [
       "<h3>The song you chose was Enchanted, from the album Speak Now.</h3>"
      ],
      "text/plain": [
       "<IPython.core.display.HTML object>"
      ]
     },
     "metadata": {},
     "output_type": "display_data"
    },
    {
     "data": {
      "text/html": [
       "\n",
       "        <iframe\n",
       "            width=\"400\"\n",
       "            height=\"75\"\n",
       "            src=\"https://open.spotify.com/embed/track/3sW3oSbzsfecv9XoUdGs7h\"\n",
       "            frameborder=\"0\"\n",
       "            allowfullscreen\n",
       "        ></iframe>\n",
       "        "
      ],
      "text/plain": [
       "<IPython.lib.display.IFrame at 0x7f7554a8a910>"
      ]
     },
     "metadata": {},
     "output_type": "display_data"
    },
    {
     "data": {
      "text/html": [
       "<h4>Here are the 5 most similar <b>other</b> Taylor Swift songs we found.</h4>"
      ],
      "text/plain": [
       "<IPython.core.display.HTML object>"
      ]
     },
     "metadata": {},
     "output_type": "display_data"
    },
    {
     "data": {
      "text/html": [
       "\n",
       "        <iframe\n",
       "            width=\"400\"\n",
       "            height=\"75\"\n",
       "            src=\"https://open.spotify.com/embed/track/2r9CbjYgFhtAmcFv1cSquB\"\n",
       "            frameborder=\"0\"\n",
       "            allowfullscreen\n",
       "        ></iframe>\n",
       "        "
      ],
      "text/plain": [
       "<IPython.lib.display.IFrame at 0x7f755487ef10>"
      ]
     },
     "metadata": {},
     "output_type": "display_data"
    },
    {
     "data": {
      "text/html": [
       "\n",
       "        <iframe\n",
       "            width=\"400\"\n",
       "            height=\"75\"\n",
       "            src=\"https://open.spotify.com/embed/track/05GsNucq8Bngd9fnd4fRa0\"\n",
       "            frameborder=\"0\"\n",
       "            allowfullscreen\n",
       "        ></iframe>\n",
       "        "
      ],
      "text/plain": [
       "<IPython.lib.display.IFrame at 0x7f755487ef10>"
      ]
     },
     "metadata": {},
     "output_type": "display_data"
    },
    {
     "data": {
      "text/html": [
       "\n",
       "        <iframe\n",
       "            width=\"400\"\n",
       "            height=\"75\"\n",
       "            src=\"https://open.spotify.com/embed/track/0y6kdSRCVQhSsHSpWvTUm7\"\n",
       "            frameborder=\"0\"\n",
       "            allowfullscreen\n",
       "        ></iframe>\n",
       "        "
      ],
      "text/plain": [
       "<IPython.lib.display.IFrame at 0x7f755487ef10>"
      ]
     },
     "metadata": {},
     "output_type": "display_data"
    },
    {
     "data": {
      "text/html": [
       "\n",
       "        <iframe\n",
       "            width=\"400\"\n",
       "            height=\"75\"\n",
       "            src=\"https://open.spotify.com/embed/track/1n2wszmJyVkw6FHqyLnQsY\"\n",
       "            frameborder=\"0\"\n",
       "            allowfullscreen\n",
       "        ></iframe>\n",
       "        "
      ],
      "text/plain": [
       "<IPython.lib.display.IFrame at 0x7f755487ef10>"
      ]
     },
     "metadata": {},
     "output_type": "display_data"
    },
    {
     "data": {
      "text/html": [
       "\n",
       "        <iframe\n",
       "            width=\"400\"\n",
       "            height=\"75\"\n",
       "            src=\"https://open.spotify.com/embed/track/6iiAfo4wTA2CVC3Uwx9uh8\"\n",
       "            frameborder=\"0\"\n",
       "            allowfullscreen\n",
       "        ></iframe>\n",
       "        "
      ],
      "text/plain": [
       "<IPython.lib.display.IFrame at 0x7f755487ef10>"
      ]
     },
     "metadata": {},
     "output_type": "display_data"
    }
   ],
   "source": [
    "# Run this cell. Don't change any of the code.\n",
    "default_tswift = 'Enchanted, from the album Speak Now'\n",
    "\n",
    "def get_and_format_recommendations_tswift(song_name):\n",
    "    song, album = song_name.split(', from the album ')\n",
    "    \n",
    "    row = tswift[(tswift.get('Song Name') == song)]\n",
    "    uri = row.index[0]\n",
    "    recommendations_df = song_recommender(uri, tswift, 6, default_features)\n",
    "    display(HTML(f'<h3>The song you chose was {tswift.get(\"Song Name\").loc[uri]}, from the album {tswift.get(\"Album\").loc[uri]}.</h3>'))\n",
    "    play_spotify(recommendations_df.index[0])\n",
    "    display(HTML('<h4>Here are the 5 most similar <b>other</b> Taylor Swift songs we found.</h4>'))\n",
    "    for recommended_uri in recommendations_df.index[1:]:\n",
    "        play_spotify(recommended_uri)\n",
    "\n",
    "by_album = tswift.sort_values(['Album', 'Disc Number', 'Track Number'])\n",
    "song_options_tswift = np.array(by_album.get('Song Name') + ', from the album ' + by_album.get('Album'))\n",
    "song_widget_tswift = widgets.Dropdown(options=song_options_tswift, description='Song', layout={'width': '525px'}, value=default_tswift)\n",
    "   \n",
    "def change_rec_tswift(change):\n",
    "    if change['name'] == 'value' and change['new'] != change['old']:\n",
    "        clear_output()\n",
    "        display(song_widget_tswift)\n",
    "        get_and_format_recommendations_tswift(song_widget_tswift.value)\n",
    "\n",
    "display(song_widget_tswift)\n",
    "get_and_format_recommendations_tswift(default_tswift)\n",
    "song_widget_tswift.observe(change_rec_tswift)"
   ]
  },
  {
   "cell_type": "markdown",
   "id": "803df07b",
   "metadata": {},
   "source": [
    "<a id='section3'></a>\n",
    "## Section 3: Lyric Searcher 🔍"
   ]
  },
  {
   "cell_type": "markdown",
   "id": "2442e772",
   "metadata": {},
   "source": [
    "In this section, we'll create a Taylor Swift lyric searcher similar to [this online tool](https://shaynak.github.io/taylor-swift/) created by Shayna Kothari, a software engineer at Facebook. Run the next cell and try inputting some search terms to explore what it does!"
   ]
  },
  {
   "cell_type": "code",
   "execution_count": 71,
   "id": "5b9c8ceb",
   "metadata": {},
   "outputs": [
    {
     "data": {
      "text/html": [
       "\n",
       "        <iframe\n",
       "            width=\"800\"\n",
       "            height=\"600\"\n",
       "            src=\"https://shaynak.github.io/taylor-swift\"\n",
       "            frameborder=\"0\"\n",
       "            allowfullscreen\n",
       "        ></iframe>\n",
       "        "
      ],
      "text/plain": [
       "<IPython.lib.display.IFrame at 0x7f7554ab2550>"
      ]
     },
     "metadata": {},
     "output_type": "display_data"
    }
   ],
   "source": [
    "display(IFrame(src=\"https://shaynak.github.io/taylor-swift\", width=800, height=600))"
   ]
  },
  {
   "cell_type": "markdown",
   "id": "dfba83df",
   "metadata": {},
   "source": [
    "Creating our own version of this search tool will involve multiple steps, but we'll start simple and gradually increase the complexity of our search. Our search tool will have some differences from the online tool, but it will be similar.\n",
    "\n",
    "To implement our lyric searcher, we won't need any of the musical data in `tswift`, just lyrics of the songs themselves. At this point in the project, we'll switch our attention to the `lyrics` DataFrame."
   ]
  },
  {
   "cell_type": "code",
   "execution_count": 72,
   "id": "601c1554",
   "metadata": {},
   "outputs": [
    {
     "data": {
      "text/html": [
       "<div>\n",
       "<style scoped>\n",
       "    .dataframe tbody tr th:only-of-type {\n",
       "        vertical-align: middle;\n",
       "    }\n",
       "\n",
       "    .dataframe tbody tr th {\n",
       "        vertical-align: top;\n",
       "    }\n",
       "\n",
       "    .dataframe thead th {\n",
       "        text-align: right;\n",
       "    }\n",
       "</style>\n",
       "<table border=\"1\" class=\"dataframe\">\n",
       "  <thead>\n",
       "    <tr style=\"text-align: right;\">\n",
       "      <th></th>\n",
       "      <th>Album</th>\n",
       "      <th>Lyrics</th>\n",
       "    </tr>\n",
       "    <tr>\n",
       "      <th>Song</th>\n",
       "      <th></th>\n",
       "      <th></th>\n",
       "    </tr>\n",
       "  </thead>\n",
       "  <tbody>\n",
       "    <tr>\n",
       "      <th>Anti-Hero</th>\n",
       "      <td>Midnights</td>\n",
       "      <td>I have this thing where I get older, but just ...</td>\n",
       "    </tr>\n",
       "    <tr>\n",
       "      <th>Bejeweled</th>\n",
       "      <td>Midnights</td>\n",
       "      <td>Baby love, I think I've been a little too kind...</td>\n",
       "    </tr>\n",
       "    <tr>\n",
       "      <th>Bigger Than The Whole Sky</th>\n",
       "      <td>Midnights</td>\n",
       "      <td>No words appear before me in the aftermath\\nSa...</td>\n",
       "    </tr>\n",
       "    <tr>\n",
       "      <th>Dear Reader</th>\n",
       "      <td>Midnights</td>\n",
       "      <td>Dear reader, if it feels like a trap\\nYou're a...</td>\n",
       "    </tr>\n",
       "    <tr>\n",
       "      <th>Glitch</th>\n",
       "      <td>Midnights</td>\n",
       "      <td>We were supposed to be just friends\\nYou don't...</td>\n",
       "    </tr>\n",
       "    <tr>\n",
       "      <th>...</th>\n",
       "      <td>...</td>\n",
       "      <td>...</td>\n",
       "    </tr>\n",
       "    <tr>\n",
       "      <th>Stay Beautiful</th>\n",
       "      <td>Taylor Swift</td>\n",
       "      <td>Cory's eyes are like a jungle\\nHe smiles, it's...</td>\n",
       "    </tr>\n",
       "    <tr>\n",
       "      <th>Teardrops On My Guitar</th>\n",
       "      <td>Taylor Swift</td>\n",
       "      <td>Drew looks at me\\nI fake a smile so he won't s...</td>\n",
       "    </tr>\n",
       "    <tr>\n",
       "      <th>The Outside</th>\n",
       "      <td>Taylor Swift</td>\n",
       "      <td>I didn't know what I would find\\nWhen I went l...</td>\n",
       "    </tr>\n",
       "    <tr>\n",
       "      <th>Tied Together With A Smile</th>\n",
       "      <td>Taylor Swift</td>\n",
       "      <td>Seems the only one who doesn't see your beauty...</td>\n",
       "    </tr>\n",
       "    <tr>\n",
       "      <th>Tim McGraw</th>\n",
       "      <td>Taylor Swift</td>\n",
       "      <td>He said the way my blue eyes shined\\nPut those...</td>\n",
       "    </tr>\n",
       "  </tbody>\n",
       "</table>\n",
       "<p>193 rows × 2 columns</p>\n",
       "</div>"
      ],
      "text/plain": [
       "                                   Album  \\\n",
       "Song                                       \n",
       "Anti-Hero                      Midnights   \n",
       "Bejeweled                      Midnights   \n",
       "Bigger Than The Whole Sky      Midnights   \n",
       "Dear Reader                    Midnights   \n",
       "Glitch                         Midnights   \n",
       "...                                  ...   \n",
       "Stay Beautiful              Taylor Swift   \n",
       "Teardrops On My Guitar      Taylor Swift   \n",
       "The Outside                 Taylor Swift   \n",
       "Tied Together With A Smile  Taylor Swift   \n",
       "Tim McGraw                  Taylor Swift   \n",
       "\n",
       "                                                                       Lyrics  \n",
       "Song                                                                           \n",
       "Anti-Hero                   I have this thing where I get older, but just ...  \n",
       "Bejeweled                   Baby love, I think I've been a little too kind...  \n",
       "Bigger Than The Whole Sky   No words appear before me in the aftermath\\nSa...  \n",
       "Dear Reader                 Dear reader, if it feels like a trap\\nYou're a...  \n",
       "Glitch                      We were supposed to be just friends\\nYou don't...  \n",
       "...                                                                       ...  \n",
       "Stay Beautiful              Cory's eyes are like a jungle\\nHe smiles, it's...  \n",
       "Teardrops On My Guitar      Drew looks at me\\nI fake a smile so he won't s...  \n",
       "The Outside                 I didn't know what I would find\\nWhen I went l...  \n",
       "Tied Together With A Smile  Seems the only one who doesn't see your beauty...  \n",
       "Tim McGraw                  He said the way my blue eyes shined\\nPut those...  \n",
       "\n",
       "[193 rows x 2 columns]"
      ]
     },
     "execution_count": 72,
     "metadata": {},
     "output_type": "execute_result"
    }
   ],
   "source": [
    "lyrics"
   ]
  },
  {
   "cell_type": "markdown",
   "id": "d29e3607",
   "metadata": {},
   "source": [
    "DataFrame named `casually_cruel` that has the same index and columns as `lyrics` and a row for each song that has the exact string `'casually cruel'` in the lyrics."
   ]
  },
  {
   "cell_type": "code",
   "execution_count": 73,
   "id": "034d7e95",
   "metadata": {
    "scrolled": false
   },
   "outputs": [
    {
     "data": {
      "text/html": [
       "<div>\n",
       "<style scoped>\n",
       "    .dataframe tbody tr th:only-of-type {\n",
       "        vertical-align: middle;\n",
       "    }\n",
       "\n",
       "    .dataframe tbody tr th {\n",
       "        vertical-align: top;\n",
       "    }\n",
       "\n",
       "    .dataframe thead th {\n",
       "        text-align: right;\n",
       "    }\n",
       "</style>\n",
       "<table border=\"1\" class=\"dataframe\">\n",
       "  <thead>\n",
       "    <tr style=\"text-align: right;\">\n",
       "      <th></th>\n",
       "      <th>Album</th>\n",
       "      <th>Lyrics</th>\n",
       "    </tr>\n",
       "    <tr>\n",
       "      <th>Song</th>\n",
       "      <th></th>\n",
       "      <th></th>\n",
       "    </tr>\n",
       "  </thead>\n",
       "  <tbody>\n",
       "    <tr>\n",
       "      <th>All Too Well (10 Minute Version)</th>\n",
       "      <td>Red</td>\n",
       "      <td>I walked through the door with you, the air wa...</td>\n",
       "    </tr>\n",
       "  </tbody>\n",
       "</table>\n",
       "</div>"
      ],
      "text/plain": [
       "                                 Album  \\\n",
       "Song                                     \n",
       "All Too Well (10 Minute Version)   Red   \n",
       "\n",
       "                                                                             Lyrics  \n",
       "Song                                                                                 \n",
       "All Too Well (10 Minute Version)  I walked through the door with you, the air wa...  "
      ]
     },
     "execution_count": 73,
     "metadata": {},
     "output_type": "execute_result"
    }
   ],
   "source": [
    "casually_cruel = lyrics[lyrics.get('Lyrics').str.contains('casually cruel')]\n",
    "casually_cruel"
   ]
  },
  {
   "cell_type": "markdown",
   "id": "3ba878c4",
   "metadata": {},
   "source": [
    "If you search the phrase `'casually cruel'` on the lyric searcher website, or if you're a big Swiftie, you'll recognize that there's another song, `'Mr. Perfectly Fine'`, that uses this same phrase, but for some reason, it's not appearing among our search results. Try printing out the lyrics to `'Mr. Perfectly Fine'` and see if you can figure out why it doesn't appear in our `casually_cruel` DataFrame. "
   ]
  },
  {
   "cell_type": "code",
   "execution_count": 75,
   "id": "c9f9f9ff",
   "metadata": {},
   "outputs": [
    {
     "name": "stdout",
     "output_type": "stream",
     "text": [
      "Mr. \"Perfect face\"\n",
      "Mr. \"Here to stay\"\n",
      "Mr. \"Looked me in the eye and told me you would never go away\"\n",
      "Everything was right\n",
      "Mr. \"I've been waitin' for you all my life\"\n",
      "Mr. \"Every single day until the end, I will be by your side\"\n",
      "\n",
      "But that was when I got to know Mr. \"Change of heart\"\n",
      "Mr. \"Leaves me all alone,\" I fall apart\n",
      "It takes everything in me just to get up each day\n",
      "But it's wonderful to see that you're okay\n",
      "\n",
      "Hello, Mr. \"Perfectly fine\"\n",
      "How's your heart after breakin' mine?\n",
      "Mr. \"Always at the right place at the right time,\" baby\n",
      "Hello, Mr. \"Casually cruel\"\n",
      "Mr. \"Everything revolves around you\"\n",
      "I've been Miss Misery since your goodbye\n",
      "And you're Mr. \"Perfectly fine\"\n",
      "\n",
      "Mr. \"Never told me why\"\n",
      "Mr. \"Never had to see me cry\"\n",
      "Mr. \"Insincere apology so he doesn't look like the bad guy\"\n",
      "He goes about his day\n",
      "Forgets he ever even heard my name\n",
      "Well, I thought you might be different than the rest, I guess you're all the same\n",
      "\n",
      "'Cause I hear he's got his arm 'round a brand-new girl\n",
      "I've been pickin' up my heart, he's been pickin' up her\n",
      "And I never got past what you put me through\n",
      "But it's wonderful to see that it never phased you\n",
      "\n",
      "Hello, Mr. \"Perfectly fine\"\n",
      "How's your heart after breakin' mine?\n",
      "Mr. \"Always at the right place at the right time,\" baby\n",
      "Hello, Mr. \"Casually cruel\"\n",
      "Mr. \"Everything revolves around you\"\n",
      "I've been Miss Misery since your goodbye\n",
      "And you're Mr. \"Perfectly fine\"\n",
      "\n",
      "So dignified in your well-pressed suit\n",
      "So strategized, all the eyes on you\n",
      "Sashay your way to your seat\n",
      "It's the best seat, in the best room\n",
      "Oh, he's so smug, Mr. \"Always wins\"\n",
      "So far above me in every sense\n",
      "So far above feeling anything\n",
      "\n",
      "And it's really such a shame\n",
      "It's such a shame\n",
      "'Cause I was Miss \"Here to stay\"\n",
      "Now I'm Miss \"Gonna be alright someday\"\n",
      "And someday maybe you'll miss me\n",
      "But by then, you'll be Mr. \"Too late\"\n",
      "\n",
      "Goodbye, Mr. \"Perfectly fine\"\n",
      "How's your heart after breakin' mine?\n",
      "Mr. \"Always at the right place at the right time,\" baby\n",
      "Goodbye, Mr. \"Casually cruel\"\n",
      "Mr. \"Everything revolves around you\"\n",
      "I've been Miss Misery for the last time\n",
      "And you're Mr. \"Perfectly fine\"\n",
      "\n",
      "You're perfectly fine\n",
      "Mr. \"Looked me in the eye and told me you would never go away\"\n",
      "You said you'd never go away\n"
     ]
    }
   ],
   "source": [
    "# Why is Mr. Perfectly Fine not included? \n",
    "print(lyrics[lyrics.index == 'Mr. Perfectly Fine'].get('Lyrics').iloc[0])"
   ]
  },
  {
   "cell_type": "code",
   "execution_count": 76,
   "id": "df05e8d4",
   "metadata": {},
   "outputs": [
    {
     "data": {
      "text/html": [
       "<div>\n",
       "<style scoped>\n",
       "    .dataframe tbody tr th:only-of-type {\n",
       "        vertical-align: middle;\n",
       "    }\n",
       "\n",
       "    .dataframe tbody tr th {\n",
       "        vertical-align: top;\n",
       "    }\n",
       "\n",
       "    .dataframe thead th {\n",
       "        text-align: right;\n",
       "    }\n",
       "</style>\n",
       "<table border=\"1\" class=\"dataframe\">\n",
       "  <thead>\n",
       "    <tr style=\"text-align: right;\">\n",
       "      <th></th>\n",
       "      <th>Album</th>\n",
       "      <th>Lyrics</th>\n",
       "    </tr>\n",
       "    <tr>\n",
       "      <th>Song</th>\n",
       "      <th></th>\n",
       "      <th></th>\n",
       "    </tr>\n",
       "  </thead>\n",
       "  <tbody>\n",
       "    <tr>\n",
       "      <th>All Too Well (10 Minute Version)</th>\n",
       "      <td>Red</td>\n",
       "      <td>I walked through the door with you, the air wa...</td>\n",
       "    </tr>\n",
       "    <tr>\n",
       "      <th>Mr. Perfectly Fine</th>\n",
       "      <td>Fearless</td>\n",
       "      <td>Mr. \"Perfect face\"\\nMr. \"Here to stay\"\\nMr. \"L...</td>\n",
       "    </tr>\n",
       "  </tbody>\n",
       "</table>\n",
       "</div>"
      ],
      "text/plain": [
       "                                     Album  \\\n",
       "Song                                         \n",
       "All Too Well (10 Minute Version)       Red   \n",
       "Mr. Perfectly Fine                Fearless   \n",
       "\n",
       "                                                                             Lyrics  \n",
       "Song                                                                                 \n",
       "All Too Well (10 Minute Version)  I walked through the door with you, the air wa...  \n",
       "Mr. Perfectly Fine                Mr. \"Perfect face\"\\nMr. \"Here to stay\"\\nMr. \"L...  "
      ]
     },
     "execution_count": 76,
     "metadata": {},
     "output_type": "execute_result"
    }
   ],
   "source": [
    "def phrase_match_df(phrase):\n",
    "    return lyrics[lyrics.get('Lyrics').str.lower().str.contains(phrase)]\n",
    "\n",
    "# Feel free to the argument in the function call below to experiment!\n",
    "phrase_match_df('casually cruel')"
   ]
  },
  {
   "cell_type": "markdown",
   "id": "21a10f8f",
   "metadata": {},
   "source": [
    "Let's try to figure out exactly where in a song a certain phrase appears. For example, we know the phrase `'casually cruel'` appears in `'All Too Well (10 Minute Version)'` but what line(s) is it a part of? Does it appear several times or just once?\n",
    "\n"
   ]
  },
  {
   "cell_type": "code",
   "execution_count": 78,
   "id": "e236078f",
   "metadata": {
    "scrolled": false
   },
   "outputs": [
    {
     "name": "stdout",
     "output_type": "stream",
     "text": [
      "Once upon a time, the planets and the fates\n",
      "And all the stars aligned\n",
      "You and I ended up in the same room\n",
      "At the same time\n",
      "\n",
      "And the touch of a hand lit the fuse\n",
      "Of a chain reaction of countermoves\n",
      "To assess the equation of you\n",
      "Checkmate, I couldn't lose\n",
      "\n",
      "What if I told you none of it was accidental?\n",
      "And the first night that you saw me\n",
      "Nothing was gonna stop me\n",
      "I laid the groundwork, and then\n",
      "Just like clockwork\n",
      "The dominoes cascaded in a line\n",
      "What if I told you I'm a mastermind?\n",
      "And now you're mine\n",
      "It was all by dеsign\n",
      "'Cause I'm a mastermind\n",
      "\n",
      "You see, all the wisеst women\n",
      "Had to do it this way\n",
      "'Cause we were born to be the pawn\n",
      "In every lover's game\n",
      "\n",
      "If you fail to plan, you plan to fail\n",
      "Strategy sets the scene for the tale\n",
      "I'm the wind in our free-flowing sails\n",
      "And the liquor in our cocktails\n",
      "\n",
      "What if I told you none of it was accidental?\n",
      "And the first night that you saw me\n",
      "I knew I wanted your body\n",
      "I laid the groundwork, and then\n",
      "Just like clockwork\n",
      "The dominoes cascaded in a line\n",
      "What if I told you I'm a mastermind?\n",
      "And now you're mine\n",
      "It was all my design\n",
      "'Cause I'm a mastermind\n",
      "\n",
      "No one wanted to play with me as a little kid\n",
      "So I've been scheming like a criminal ever since\n",
      "To make them love me and make it seem effortless\n",
      "This is the first time I've felt the need to confess\n",
      "And I swear\n",
      "I'm only cryptic and Machiavellian\n",
      "'Cause I care\n",
      "\n",
      "So I told you none of it was accidental\n",
      "And the first night that you saw me\n",
      "Nothing was gonna stop me\n",
      "I laid the groundwork, and then\n",
      "Saw a wide smirk on your face\n",
      "You knew the entire time\n",
      "You knew that I'm a mastermind\n",
      "And now you're mine\n",
      "Yeah, all you did was smile\n",
      "'Cause I'm a mastermind\n"
     ]
    }
   ],
   "source": [
    "print(mastermind)"
   ]
  },
  {
   "cell_type": "code",
   "execution_count": 79,
   "id": "19028b29",
   "metadata": {},
   "outputs": [
    {
     "data": {
      "text/plain": [
       "['Mr. \"Perfect face\"',\n",
       " 'Mr. \"Here to stay\"',\n",
       " 'Mr. \"Looked me in the eye and told me you would never go away\"',\n",
       " 'Everything was right',\n",
       " 'Mr. \"I\\'ve been waitin\\' for you all my life\"',\n",
       " 'Mr. \"Every single day until the end, I will be by your side\"',\n",
       " '',\n",
       " 'But that was when I got to know Mr. \"Change of heart\"',\n",
       " 'Mr. \"Leaves me all alone,\" I fall apart',\n",
       " 'It takes everything in me just to get up each day',\n",
       " \"But it's wonderful to see that you're okay\",\n",
       " '',\n",
       " 'Hello, Mr. \"Perfectly fine\"',\n",
       " \"How's your heart after breakin' mine?\",\n",
       " 'Mr. \"Always at the right place at the right time,\" baby',\n",
       " 'Hello, Mr. \"Casually cruel\"',\n",
       " 'Mr. \"Everything revolves around you\"',\n",
       " \"I've been Miss Misery since your goodbye\",\n",
       " 'And you\\'re Mr. \"Perfectly fine\"',\n",
       " '',\n",
       " 'Mr. \"Never told me why\"',\n",
       " 'Mr. \"Never had to see me cry\"',\n",
       " 'Mr. \"Insincere apology so he doesn\\'t look like the bad guy\"',\n",
       " 'He goes about his day',\n",
       " 'Forgets he ever even heard my name',\n",
       " \"Well, I thought you might be different than the rest, I guess you're all the same\",\n",
       " '',\n",
       " \"'Cause I hear he's got his arm 'round a brand-new girl\",\n",
       " \"I've been pickin' up my heart, he's been pickin' up her\",\n",
       " 'And I never got past what you put me through',\n",
       " \"But it's wonderful to see that it never phased you\",\n",
       " '',\n",
       " 'Hello, Mr. \"Perfectly fine\"',\n",
       " \"How's your heart after breakin' mine?\",\n",
       " 'Mr. \"Always at the right place at the right time,\" baby',\n",
       " 'Hello, Mr. \"Casually cruel\"',\n",
       " 'Mr. \"Everything revolves around you\"',\n",
       " \"I've been Miss Misery since your goodbye\",\n",
       " 'And you\\'re Mr. \"Perfectly fine\"',\n",
       " '',\n",
       " 'So dignified in your well-pressed suit',\n",
       " 'So strategized, all the eyes on you',\n",
       " 'Sashay your way to your seat',\n",
       " \"It's the best seat, in the best room\",\n",
       " 'Oh, he\\'s so smug, Mr. \"Always wins\"',\n",
       " 'So far above me in every sense',\n",
       " 'So far above feeling anything',\n",
       " '',\n",
       " \"And it's really such a shame\",\n",
       " \"It's such a shame\",\n",
       " '\\'Cause I was Miss \"Here to stay\"',\n",
       " 'Now I\\'m Miss \"Gonna be alright someday\"',\n",
       " \"And someday maybe you'll miss me\",\n",
       " 'But by then, you\\'ll be Mr. \"Too late\"',\n",
       " '',\n",
       " 'Goodbye, Mr. \"Perfectly fine\"',\n",
       " \"How's your heart after breakin' mine?\",\n",
       " 'Mr. \"Always at the right place at the right time,\" baby',\n",
       " 'Goodbye, Mr. \"Casually cruel\"',\n",
       " 'Mr. \"Everything revolves around you\"',\n",
       " \"I've been Miss Misery for the last time\",\n",
       " 'And you\\'re Mr. \"Perfectly fine\"',\n",
       " '',\n",
       " \"You're perfectly fine\",\n",
       " 'Mr. \"Looked me in the eye and told me you would never go away\"',\n",
       " \"You said you'd never go away\"]"
      ]
     },
     "execution_count": 79,
     "metadata": {},
     "output_type": "execute_result"
    }
   ],
   "source": [
    "fine_lines = lyrics.get('Lyrics').loc['Mr. Perfectly Fine'].split('\\n')\n",
    "fine_lines"
   ]
  },
  {
   "cell_type": "markdown",
   "id": "67c4a51f",
   "metadata": {},
   "source": [
    "Loop through the list `fine_lines`, and when you encounter a line that contains the phrase `'casually cruel'` (with any capitalization), append that line to the array `cruel_fine_lines`, which we have already initialized to be empty.\n",
    "\n"
   ]
  },
  {
   "cell_type": "code",
   "execution_count": 81,
   "id": "ca4cdc81",
   "metadata": {},
   "outputs": [
    {
     "data": {
      "text/plain": [
       "array(['Hello, Mr. \"Casually cruel\"', 'Hello, Mr. \"Casually cruel\"',\n",
       "       'Goodbye, Mr. \"Casually cruel\"'], dtype='<U32')"
      ]
     },
     "execution_count": 81,
     "metadata": {},
     "output_type": "execute_result"
    }
   ],
   "source": [
    "phrase = 'casually cruel'\n",
    "cruel_fine_lines = np.array([])\n",
    "\n",
    "for line in fine_lines:\n",
    "    if phrase in line.lower():\n",
    "        cruel_fine_lines = np.append(cruel_fine_lines, line)\n",
    "cruel_fine_lines"
   ]
  },
  {
   "cell_type": "markdown",
   "id": "7107c61c",
   "metadata": {},
   "source": [
    "Now, we're ready to generalize our work so that we can search for *any* phrase in *any* song. Complete the implementation of the function `isolate_phrase`, which takes as input the name of a song in the `lyrics` DataFrame and a phrase to search for, and returns an array of all lines in the song containing the phrase. \n"
   ]
  },
  {
   "cell_type": "code",
   "execution_count": 83,
   "id": "d0fda5d3",
   "metadata": {
    "scrolled": true
   },
   "outputs": [
    {
     "data": {
      "text/plain": [
       "array(['Once upon a time, the planets and the fates',\n",
       "       'If you fail to plan, you plan to fail'], dtype='<U43')"
      ]
     },
     "execution_count": 83,
     "metadata": {},
     "output_type": "execute_result"
    }
   ],
   "source": [
    "def isolate_phrase(song_title, phrase):\n",
    "    phrase_occurences_array = np.array([])\n",
    "\n",
    "    song_lines = lyrics.get('Lyrics').loc[song_title].split('\\n')\n",
    "\n",
    "    for line in song_lines:\n",
    "        if phrase in line.lower():\n",
    "            phrase_occurences_array = np.append(phrase_occurences_array, line)\n",
    "    \n",
    "    return phrase_occurences_array\n",
    "isolate_phrase('Mastermind', 'plan')"
   ]
  },
  {
   "cell_type": "markdown",
   "id": "8ea900a5",
   "metadata": {},
   "source": [
    "When we search the lyric searcher website for a specific phrase, notice that it displays not only the line where the search term was found, but also the lines immediately before and after, if they exist. \n",
    "\n",
    "Let's look closely at the four instances of the word `'time'` in the song `'Mastermind'` and see how these search results are displayed on the website.\n",
    "\n"
   ]
  },
  {
   "cell_type": "markdown",
   "id": "a190f873",
   "metadata": {},
   "source": [
    "If there is a match for `'time'` in the first line, like `'Once upon a time'`, there is no previous line of the song. As a result, this line and the next are the only two lines in the output.\n",
    "\n",
    "If there is a match anywhere besides the first and last lines, there is a previous line and a next line, so all three lines should get added to the output. It's possible that the previous line or next line is blank; for instance, this happens in the second match in the example above, `'At the same time'`, which is followed by a blank line because it is at the end of the first verse.\n",
    "\n",
    "If there is a match in the last line, the previous line and the matching line should be output, but there is no next line."
   ]
  },
  {
   "cell_type": "markdown",
   "id": "a080297d",
   "metadata": {},
   "source": [
    "Function, `surround_phrase`, that works similarly to `isolate_phrase` except instead of only appending to the output array the lines where a match occurs, it should also append the previous and next lines, if they exist (even if they are blank lines). \n",
    "\n"
   ]
  },
  {
   "cell_type": "code",
   "execution_count": 85,
   "id": "2016c850",
   "metadata": {
    "scrolled": true
   },
   "outputs": [
    {
     "data": {
      "text/plain": [
       "array(['Once upon a time, the planets and the fates',\n",
       "       'And all the stars aligned', 'You and I ended up in the same room',\n",
       "       'At the same time', '',\n",
       "       'To make them love me and make it seem effortless',\n",
       "       \"This is the first time I've felt the need to confess\",\n",
       "       'And I swear', 'Saw a wide smirk on your face',\n",
       "       'You knew the entire time', \"You knew that I'm a mastermind\"],\n",
       "      dtype='<U52')"
      ]
     },
     "execution_count": 85,
     "metadata": {},
     "output_type": "execute_result"
    }
   ],
   "source": [
    "def surround_phrase(song_title, phrase):\n",
    "    phrase_occurences_array = np.array([])\n",
    "    song_lines = lyrics.get('Lyrics').loc[song_title].split('\\n')\n",
    "    \n",
    "    index = 0\n",
    "    for line in song_lines:\n",
    "        if phrase in line.lower():\n",
    "            if index - 1 >= 0:\n",
    "                phrase_occurences_array = np.append(phrase_occurences_array, song_lines[index - 1])\n",
    "            phrase_occurences_array = np.append(phrase_occurences_array, song_lines[index])\n",
    "            if index + 1 <= len(song_lines):\n",
    "                phrase_occurences_array = np.append(phrase_occurences_array, song_lines[index + 1])\n",
    "        index = index + 1\n",
    "    return phrase_occurences_array\n",
    "\n",
    "surround_phrase('Mastermind', 'time')"
   ]
  },
  {
   "cell_type": "markdown",
   "id": "52dbbb44",
   "metadata": {},
   "source": [
    "Function called `one_song_search` that works similarly to `surround_phrase`, except it should also append to the array a string that includes the song name and album name, after each match. Format this string like this: `'Song Name, Album Name'`, where the capitalization and spelling of song and album names are exactly as the appear in `lyrics`.\n",
    "\n"
   ]
  },
  {
   "cell_type": "code",
   "execution_count": 87,
   "id": "1aa56733",
   "metadata": {},
   "outputs": [
    {
     "data": {
      "text/plain": [
       "array(['Once upon a time, the planets and the fates',\n",
       "       'And all the stars aligned', 'You and I ended up in the same room',\n",
       "       'At the same time', '',\n",
       "       'To make them love me and make it seem effortless',\n",
       "       \"This is the first time I've felt the need to confess\",\n",
       "       'And I swear', 'Saw a wide smirk on your face',\n",
       "       'You knew the entire time', \"You knew that I'm a mastermind\",\n",
       "       'Mastermind, Midnights'], dtype='<U52')"
      ]
     },
     "execution_count": 87,
     "metadata": {},
     "output_type": "execute_result"
    }
   ],
   "source": [
    "def one_song_search(song_title, phrase):\n",
    "    surrounding_lines = surround_phrase(song_title, phrase)\n",
    "    surrounding_lines = np.append(surrounding_lines, song_title + \", \" + (lyrics[lyrics.index == song_title].get('Album').iloc[0]))\n",
    "    return surrounding_lines\n",
    "one_song_search('Mastermind', 'time')"
   ]
  },
  {
   "cell_type": "markdown",
   "id": "13043cd2",
   "metadata": {},
   "source": [
    "We've initialized an empty array called `fifteen_array`, where you should store all of your matches from all songs. "
   ]
  },
  {
   "cell_type": "code",
   "execution_count": 89,
   "id": "e4db31dd",
   "metadata": {},
   "outputs": [
    {
     "data": {
      "text/plain": [
       "array([\"And every single one of your friends was makin' fun of you\",\n",
       "       \"But fifteen seconds later, thеy were clappin' too?\",\n",
       "       'Then what did you do?',\n",
       "       \"And every single one of your friends was makin' fun of you\",\n",
       "       \"But fifteen seconds later, they were clappin' too?\",\n",
       "       'Then what did you do?',\n",
       "       \"And every single one of your friends was makin' fun of you (Makin' fun of you)\",\n",
       "       \"But fifteen seconds later, they were clappin' too?\",\n",
       "       'Then what did you do? (Do)', 'Question...?, Midnights', '',\n",
       "       'Fifteen years, fifteen million tears',\n",
       "       \"Begging 'til my knees bled\", \"it's time to go, evermore\", '',\n",
       "       'Good thing my daddy made me get a boating license when I was fifteen',\n",
       "       \"And I've cleaned enough houses to know how to cover up a scene\",\n",
       "       'no body, no crime (Ft. HAIM), evermore', '',\n",
       "       'In the fifteen hundreds off in a foreign land',\n",
       "       'And I was forced to marry another man', 'Timeless, Speak Now', '',\n",
       "       \"'Cause when you're fifteen and somebody tells you they love you\",\n",
       "       \"You're gonna believe them\", \"You're gonna believe them\",\n",
       "       \"And when you're fifteen, feelin' like there's nothin' to figure out\",\n",
       "       'Well, count to ten, take it in',\n",
       "       \"This is life before you know who you're gonna be\", 'At fifteen',\n",
       "       '', '',\n",
       "       \"'Cause when you're fifteen and somebody tells you they love you\",\n",
       "       \"You're gonna believe them\", \"You're gonna believe them\",\n",
       "       \"And when you're fifteen and your first kiss\",\n",
       "       'Makes your head spin around, well',\n",
       "       \"Datin' the boy on the football team\",\n",
       "       \"I didn't know it at fifteen\", '', '',\n",
       "       \"'Cause when you're fifteen and somebody tells you they love you\",\n",
       "       \"You're gonna believe them\", \"You're gonna believe them\",\n",
       "       \"And when you're fifteen, don't forget to look before you fall\",\n",
       "       \"But I've found time can heal most anything\",\n",
       "       \"I didn't know who I was supposed to be\", 'At fifteen', '',\n",
       "       'Fifteen, Fearless'], dtype='<U78')"
      ]
     },
     "execution_count": 89,
     "metadata": {},
     "output_type": "execute_result"
    }
   ],
   "source": [
    "fifteen_songs = phrase_match_df('fifteen')\n",
    "fifteen_array = np.array([])\n",
    "\n",
    "for song in fifteen_songs.index:\n",
    "    fifteen_songs.get('Lyrics').loc[song].split('\\n')\n",
    "    fifteen_array = np.append(fifteen_array, one_song_search(song, 'fifteen'))\n",
    "\n",
    "fifteen_array"
   ]
  },
  {
   "cell_type": "markdown",
   "id": "ccceff08",
   "metadata": {},
   "source": [
    "Generalize the previous example by writing a function `search_for` that takes a phrase as input and searches all of Taylor Swift's songs for that phrase, returning an output array as we've discussed. For example, `search_for('fifteen')` should return an array with the same contents as `fifteen_array` above."
   ]
  },
  {
   "cell_type": "code",
   "execution_count": 91,
   "id": "aea79f82",
   "metadata": {},
   "outputs": [
    {
     "data": {
      "text/plain": [
       "array([\"And every single one of your friends was makin' fun of you\",\n",
       "       \"But fifteen seconds later, thеy were clappin' too?\",\n",
       "       'Then what did you do?',\n",
       "       \"And every single one of your friends was makin' fun of you\",\n",
       "       \"But fifteen seconds later, they were clappin' too?\",\n",
       "       'Then what did you do?',\n",
       "       \"And every single one of your friends was makin' fun of you (Makin' fun of you)\",\n",
       "       \"But fifteen seconds later, they were clappin' too?\",\n",
       "       'Then what did you do? (Do)', 'Question...?, Midnights', '',\n",
       "       'Fifteen years, fifteen million tears',\n",
       "       \"Begging 'til my knees bled\", \"it's time to go, evermore\", '',\n",
       "       'Good thing my daddy made me get a boating license when I was fifteen',\n",
       "       \"And I've cleaned enough houses to know how to cover up a scene\",\n",
       "       'no body, no crime (Ft. HAIM), evermore', '',\n",
       "       'In the fifteen hundreds off in a foreign land',\n",
       "       'And I was forced to marry another man', 'Timeless, Speak Now', '',\n",
       "       \"'Cause when you're fifteen and somebody tells you they love you\",\n",
       "       \"You're gonna believe them\", \"You're gonna believe them\",\n",
       "       \"And when you're fifteen, feelin' like there's nothin' to figure out\",\n",
       "       'Well, count to ten, take it in',\n",
       "       \"This is life before you know who you're gonna be\", 'At fifteen',\n",
       "       '', '',\n",
       "       \"'Cause when you're fifteen and somebody tells you they love you\",\n",
       "       \"You're gonna believe them\", \"You're gonna believe them\",\n",
       "       \"And when you're fifteen and your first kiss\",\n",
       "       'Makes your head spin around, well',\n",
       "       \"Datin' the boy on the football team\",\n",
       "       \"I didn't know it at fifteen\", '', '',\n",
       "       \"'Cause when you're fifteen and somebody tells you they love you\",\n",
       "       \"You're gonna believe them\", \"You're gonna believe them\",\n",
       "       \"And when you're fifteen, don't forget to look before you fall\",\n",
       "       \"But I've found time can heal most anything\",\n",
       "       \"I didn't know who I was supposed to be\", 'At fifteen', '',\n",
       "       'Fifteen, Fearless'], dtype='<U78')"
      ]
     },
     "execution_count": 91,
     "metadata": {},
     "output_type": "execute_result"
    }
   ],
   "source": [
    "def search_for(phrase):\n",
    "    phrase_songs = phrase_match_df(phrase)\n",
    "    phrase_array = np.array([])\n",
    "\n",
    "    for song in phrase_songs.index:\n",
    "        phrase_songs.get('Lyrics').loc[song].split('\\n')\n",
    "        phrase_array = np.append(phrase_array, one_song_search(song, phrase))\n",
    "    \n",
    "    return phrase_array\n",
    "# Feel free to change the function call below.\n",
    "# Make sure to try some other words and phrases.\n",
    "search_for('fifteen')"
   ]
  },
  {
   "cell_type": "markdown",
   "id": "0e7116c1",
   "metadata": {},
   "source": [
    "<img src=\"data/images/fifteen.jpg\" width=60%>"
   ]
  },
  {
   "cell_type": "markdown",
   "id": "a1bfe9cf",
   "metadata": {},
   "source": [
    "Function `search_and_display`, which takes as input a phrase to search for, calls the function `search_for` on that input phrase, and then nicely displays the output. In addition, the `search_and_display` function should calculate the total number of usages of the input phrase across all songs, as well as the number of songs in which the input phrase appears, and return both of these values in a list whose first element is the number of usages and whose second element is the number of songs.\n"
   ]
  },
  {
   "cell_type": "code",
   "execution_count": 93,
   "id": "98d2bb7b",
   "metadata": {
    "scrolled": false
   },
   "outputs": [
    {
     "data": {
      "text/html": [
       "<center>And every single one of your friends was makin' fun of you</center>"
      ],
      "text/plain": [
       "<IPython.core.display.HTML object>"
      ]
     },
     "metadata": {},
     "output_type": "display_data"
    },
    {
     "data": {
      "text/html": [
       "<center>But fifteen seconds later, thеy were clappin' too?</center>"
      ],
      "text/plain": [
       "<IPython.core.display.HTML object>"
      ]
     },
     "metadata": {},
     "output_type": "display_data"
    },
    {
     "data": {
      "text/html": [
       "<center>Then what did you do?</center>"
      ],
      "text/plain": [
       "<IPython.core.display.HTML object>"
      ]
     },
     "metadata": {},
     "output_type": "display_data"
    },
    {
     "data": {
      "text/html": [
       "<center>And every single one of your friends was makin' fun of you</center>"
      ],
      "text/plain": [
       "<IPython.core.display.HTML object>"
      ]
     },
     "metadata": {},
     "output_type": "display_data"
    },
    {
     "data": {
      "text/html": [
       "<center>But fifteen seconds later, they were clappin' too?</center>"
      ],
      "text/plain": [
       "<IPython.core.display.HTML object>"
      ]
     },
     "metadata": {},
     "output_type": "display_data"
    },
    {
     "data": {
      "text/html": [
       "<center>Then what did you do?</center>"
      ],
      "text/plain": [
       "<IPython.core.display.HTML object>"
      ]
     },
     "metadata": {},
     "output_type": "display_data"
    },
    {
     "data": {
      "text/html": [
       "<center>And every single one of your friends was makin' fun of you (Makin' fun of you)</center>"
      ],
      "text/plain": [
       "<IPython.core.display.HTML object>"
      ]
     },
     "metadata": {},
     "output_type": "display_data"
    },
    {
     "data": {
      "text/html": [
       "<center>But fifteen seconds later, they were clappin' too?</center>"
      ],
      "text/plain": [
       "<IPython.core.display.HTML object>"
      ]
     },
     "metadata": {},
     "output_type": "display_data"
    },
    {
     "data": {
      "text/html": [
       "<center>Then what did you do? (Do)</center>"
      ],
      "text/plain": [
       "<IPython.core.display.HTML object>"
      ]
     },
     "metadata": {},
     "output_type": "display_data"
    },
    {
     "data": {
      "text/html": [
       "<center><b><i>Question...?, Midnights</i></b></center>"
      ],
      "text/plain": [
       "<IPython.core.display.HTML object>"
      ]
     },
     "metadata": {},
     "output_type": "display_data"
    },
    {
     "data": {
      "text/markdown": [
       "___"
      ],
      "text/plain": [
       "<IPython.core.display.Markdown object>"
      ]
     },
     "metadata": {},
     "output_type": "display_data"
    },
    {
     "data": {
      "text/html": [
       "<center>Fifteen years, fifteen million tears</center>"
      ],
      "text/plain": [
       "<IPython.core.display.HTML object>"
      ]
     },
     "metadata": {},
     "output_type": "display_data"
    },
    {
     "data": {
      "text/html": [
       "<center>Begging 'til my knees bled</center>"
      ],
      "text/plain": [
       "<IPython.core.display.HTML object>"
      ]
     },
     "metadata": {},
     "output_type": "display_data"
    },
    {
     "data": {
      "text/html": [
       "<center><b><i>it's time to go, evermore</i></b></center>"
      ],
      "text/plain": [
       "<IPython.core.display.HTML object>"
      ]
     },
     "metadata": {},
     "output_type": "display_data"
    },
    {
     "data": {
      "text/markdown": [
       "___"
      ],
      "text/plain": [
       "<IPython.core.display.Markdown object>"
      ]
     },
     "metadata": {},
     "output_type": "display_data"
    },
    {
     "data": {
      "text/html": [
       "<center>Good thing my daddy made me get a boating license when I was fifteen</center>"
      ],
      "text/plain": [
       "<IPython.core.display.HTML object>"
      ]
     },
     "metadata": {},
     "output_type": "display_data"
    },
    {
     "data": {
      "text/html": [
       "<center>And I've cleaned enough houses to know how to cover up a scene</center>"
      ],
      "text/plain": [
       "<IPython.core.display.HTML object>"
      ]
     },
     "metadata": {},
     "output_type": "display_data"
    },
    {
     "data": {
      "text/html": [
       "<center><b><i>no body, no crime (Ft. HAIM), evermore</i></b></center>"
      ],
      "text/plain": [
       "<IPython.core.display.HTML object>"
      ]
     },
     "metadata": {},
     "output_type": "display_data"
    },
    {
     "data": {
      "text/markdown": [
       "___"
      ],
      "text/plain": [
       "<IPython.core.display.Markdown object>"
      ]
     },
     "metadata": {},
     "output_type": "display_data"
    },
    {
     "data": {
      "text/html": [
       "<center>In the fifteen hundreds off in a foreign land</center>"
      ],
      "text/plain": [
       "<IPython.core.display.HTML object>"
      ]
     },
     "metadata": {},
     "output_type": "display_data"
    },
    {
     "data": {
      "text/html": [
       "<center>And I was forced to marry another man</center>"
      ],
      "text/plain": [
       "<IPython.core.display.HTML object>"
      ]
     },
     "metadata": {},
     "output_type": "display_data"
    },
    {
     "data": {
      "text/html": [
       "<center><b><i>Timeless, Speak Now</i></b></center>"
      ],
      "text/plain": [
       "<IPython.core.display.HTML object>"
      ]
     },
     "metadata": {},
     "output_type": "display_data"
    },
    {
     "data": {
      "text/markdown": [
       "___"
      ],
      "text/plain": [
       "<IPython.core.display.Markdown object>"
      ]
     },
     "metadata": {},
     "output_type": "display_data"
    },
    {
     "data": {
      "text/html": [
       "<center>'Cause when you're fifteen and somebody tells you they love you</center>"
      ],
      "text/plain": [
       "<IPython.core.display.HTML object>"
      ]
     },
     "metadata": {},
     "output_type": "display_data"
    },
    {
     "data": {
      "text/html": [
       "<center>You're gonna believe them</center>"
      ],
      "text/plain": [
       "<IPython.core.display.HTML object>"
      ]
     },
     "metadata": {},
     "output_type": "display_data"
    },
    {
     "data": {
      "text/html": [
       "<center>You're gonna believe them</center>"
      ],
      "text/plain": [
       "<IPython.core.display.HTML object>"
      ]
     },
     "metadata": {},
     "output_type": "display_data"
    },
    {
     "data": {
      "text/html": [
       "<center>And when you're fifteen, feelin' like there's nothin' to figure out</center>"
      ],
      "text/plain": [
       "<IPython.core.display.HTML object>"
      ]
     },
     "metadata": {},
     "output_type": "display_data"
    },
    {
     "data": {
      "text/html": [
       "<center>Well, count to ten, take it in</center>"
      ],
      "text/plain": [
       "<IPython.core.display.HTML object>"
      ]
     },
     "metadata": {},
     "output_type": "display_data"
    },
    {
     "data": {
      "text/html": [
       "<center>This is life before you know who you're gonna be</center>"
      ],
      "text/plain": [
       "<IPython.core.display.HTML object>"
      ]
     },
     "metadata": {},
     "output_type": "display_data"
    },
    {
     "data": {
      "text/html": [
       "<center>At fifteen</center>"
      ],
      "text/plain": [
       "<IPython.core.display.HTML object>"
      ]
     },
     "metadata": {},
     "output_type": "display_data"
    },
    {
     "data": {
      "text/html": [
       "<center>'Cause when you're fifteen and somebody tells you they love you</center>"
      ],
      "text/plain": [
       "<IPython.core.display.HTML object>"
      ]
     },
     "metadata": {},
     "output_type": "display_data"
    },
    {
     "data": {
      "text/html": [
       "<center>You're gonna believe them</center>"
      ],
      "text/plain": [
       "<IPython.core.display.HTML object>"
      ]
     },
     "metadata": {},
     "output_type": "display_data"
    },
    {
     "data": {
      "text/html": [
       "<center>You're gonna believe them</center>"
      ],
      "text/plain": [
       "<IPython.core.display.HTML object>"
      ]
     },
     "metadata": {},
     "output_type": "display_data"
    },
    {
     "data": {
      "text/html": [
       "<center>And when you're fifteen and your first kiss</center>"
      ],
      "text/plain": [
       "<IPython.core.display.HTML object>"
      ]
     },
     "metadata": {},
     "output_type": "display_data"
    },
    {
     "data": {
      "text/html": [
       "<center>Makes your head spin around, well</center>"
      ],
      "text/plain": [
       "<IPython.core.display.HTML object>"
      ]
     },
     "metadata": {},
     "output_type": "display_data"
    },
    {
     "data": {
      "text/html": [
       "<center>Datin' the boy on the football team</center>"
      ],
      "text/plain": [
       "<IPython.core.display.HTML object>"
      ]
     },
     "metadata": {},
     "output_type": "display_data"
    },
    {
     "data": {
      "text/html": [
       "<center>I didn't know it at fifteen</center>"
      ],
      "text/plain": [
       "<IPython.core.display.HTML object>"
      ]
     },
     "metadata": {},
     "output_type": "display_data"
    },
    {
     "data": {
      "text/html": [
       "<center>'Cause when you're fifteen and somebody tells you they love you</center>"
      ],
      "text/plain": [
       "<IPython.core.display.HTML object>"
      ]
     },
     "metadata": {},
     "output_type": "display_data"
    },
    {
     "data": {
      "text/html": [
       "<center>You're gonna believe them</center>"
      ],
      "text/plain": [
       "<IPython.core.display.HTML object>"
      ]
     },
     "metadata": {},
     "output_type": "display_data"
    },
    {
     "data": {
      "text/html": [
       "<center>You're gonna believe them</center>"
      ],
      "text/plain": [
       "<IPython.core.display.HTML object>"
      ]
     },
     "metadata": {},
     "output_type": "display_data"
    },
    {
     "data": {
      "text/html": [
       "<center>And when you're fifteen, don't forget to look before you fall</center>"
      ],
      "text/plain": [
       "<IPython.core.display.HTML object>"
      ]
     },
     "metadata": {},
     "output_type": "display_data"
    },
    {
     "data": {
      "text/html": [
       "<center>But I've found time can heal most anything</center>"
      ],
      "text/plain": [
       "<IPython.core.display.HTML object>"
      ]
     },
     "metadata": {},
     "output_type": "display_data"
    },
    {
     "data": {
      "text/html": [
       "<center>I didn't know who I was supposed to be</center>"
      ],
      "text/plain": [
       "<IPython.core.display.HTML object>"
      ]
     },
     "metadata": {},
     "output_type": "display_data"
    },
    {
     "data": {
      "text/html": [
       "<center>At fifteen</center>"
      ],
      "text/plain": [
       "<IPython.core.display.HTML object>"
      ]
     },
     "metadata": {},
     "output_type": "display_data"
    },
    {
     "data": {
      "text/html": [
       "<center><b><i>Fifteen, Fearless</i></b></center>"
      ],
      "text/plain": [
       "<IPython.core.display.HTML object>"
      ]
     },
     "metadata": {},
     "output_type": "display_data"
    },
    {
     "data": {
      "text/markdown": [
       "___"
      ],
      "text/plain": [
       "<IPython.core.display.Markdown object>"
      ]
     },
     "metadata": {},
     "output_type": "display_data"
    },
    {
     "data": {
      "text/html": [
       "<h3><center><span style=\"color:#888\">Found 16 usages of \"fifteen\" across 5 songs.</span></center></h3>"
      ],
      "text/plain": [
       "<IPython.core.display.HTML object>"
      ]
     },
     "metadata": {},
     "output_type": "display_data"
    }
   ],
   "source": [
    "def search_and_display(phrase, to_display=True):\n",
    "    # Ignore the optional to_display argument.\n",
    "    # By default, we will display all of the lyrics as done in search_for.\n",
    "    \n",
    "    match_array = search_for(phrase)   \n",
    "    \n",
    "    num_usages = 0\n",
    "    matching_songs = np.array([])\n",
    "    \n",
    "    for line in match_array:\n",
    "        \n",
    "        # If the line represents a song name and album name, display it nicely.\n",
    "        if line in np.array(lyrics.reset_index().get('Song') + \", \" + lyrics.reset_index().get('Album')):\n",
    "            if to_display:\n",
    "                display(HTML(f'<center><b><i>{line}</i></b></center>')) # Display song and album names in bold italics.\n",
    "                display(Markdown('___')) # Add horizontal line between matches.\n",
    "            \n",
    "            # TODO: Update matching_songs.\n",
    "            matching_songs = np.append(matching_songs, line)\n",
    "        \n",
    "        # Otherwise, if the line is not blank, print it.\n",
    "        elif len(line) > 0:\n",
    "            if to_display:\n",
    "                display(HTML(f'<center>{line}</center>'))\n",
    "            \n",
    "            # TODO: Update num_usages.\n",
    "            if phrase.lower() in line.lower():\n",
    "                num_usages = num_usages + line.lower().count(phrase)\n",
    "            \n",
    "    # TODO: Create a list of two elements to output.\n",
    "    output_list = [num_usages, len(matching_songs)]\n",
    "    \n",
    "    if to_display:\n",
    "        display(HTML('<h3><center><span style=\"color:#888\">Found ' + str(output_list[0]) + ' usages of \\\"' + phrase + '\\\" across ' + str(output_list[1]) + ' songs.</span></center></h3>'))\n",
    "    return output_list \n",
    "\n",
    "# An example function call. Feel free to change it.\n",
    "fifteen_stats = search_and_display('fifteen')"
   ]
  },
  {
   "cell_type": "markdown",
   "id": "f647aeae",
   "metadata": {},
   "source": [
    "We now have a search tool that can search Taylor Swift's body of work for any phrase and display the results in much the same format as the online search tool we tried to replicate. Well done!\n",
    "\n",
    "Run the cell below to play around with an interactive version of `search_and_display`. It'll show you a text box; type a phrase and hit \"enter\" to see the value of `search_and_display` when called on your input."
   ]
  },
  {
   "cell_type": "code",
   "execution_count": 95,
   "id": "2f281847",
   "metadata": {
    "scrolled": false
   },
   "outputs": [
    {
     "data": {
      "application/vnd.jupyter.widget-view+json": {
       "model_id": "994b73187fb74ccf95730e31ab66dc66",
       "version_major": 2,
       "version_minor": 0
      },
      "text/plain": [
       "Text(value='casually cruel', description='Phrase:', layout=Layout(width='525px'), placeholder='Type a phrase h…"
      ]
     },
     "metadata": {},
     "output_type": "display_data"
    },
    {
     "data": {
      "text/html": [
       "<center>And you call me up again just to break me like a promise</center>"
      ],
      "text/plain": [
       "<IPython.core.display.HTML object>"
      ]
     },
     "metadata": {},
     "output_type": "display_data"
    },
    {
     "data": {
      "text/html": [
       "<center>So casually cruel in the name of bein' honest</center>"
      ],
      "text/plain": [
       "<IPython.core.display.HTML object>"
      ]
     },
     "metadata": {},
     "output_type": "display_data"
    },
    {
     "data": {
      "text/html": [
       "<center>I'm a crumpled-up piece of paper lyin' here</center>"
      ],
      "text/plain": [
       "<IPython.core.display.HTML object>"
      ]
     },
     "metadata": {},
     "output_type": "display_data"
    },
    {
     "data": {
      "text/html": [
       "<center><b><i>All Too Well (10 Minute Version), Red</i></b></center>"
      ],
      "text/plain": [
       "<IPython.core.display.HTML object>"
      ]
     },
     "metadata": {},
     "output_type": "display_data"
    },
    {
     "data": {
      "text/markdown": [
       "___"
      ],
      "text/plain": [
       "<IPython.core.display.Markdown object>"
      ]
     },
     "metadata": {},
     "output_type": "display_data"
    },
    {
     "data": {
      "text/html": [
       "<center>Mr. \"Always at the right place at the right time,\" baby</center>"
      ],
      "text/plain": [
       "<IPython.core.display.HTML object>"
      ]
     },
     "metadata": {},
     "output_type": "display_data"
    },
    {
     "data": {
      "text/html": [
       "<center>Hello, Mr. \"Casually cruel\"</center>"
      ],
      "text/plain": [
       "<IPython.core.display.HTML object>"
      ]
     },
     "metadata": {},
     "output_type": "display_data"
    },
    {
     "data": {
      "text/html": [
       "<center>Mr. \"Everything revolves around you\"</center>"
      ],
      "text/plain": [
       "<IPython.core.display.HTML object>"
      ]
     },
     "metadata": {},
     "output_type": "display_data"
    },
    {
     "data": {
      "text/html": [
       "<center>Mr. \"Always at the right place at the right time,\" baby</center>"
      ],
      "text/plain": [
       "<IPython.core.display.HTML object>"
      ]
     },
     "metadata": {},
     "output_type": "display_data"
    },
    {
     "data": {
      "text/html": [
       "<center>Hello, Mr. \"Casually cruel\"</center>"
      ],
      "text/plain": [
       "<IPython.core.display.HTML object>"
      ]
     },
     "metadata": {},
     "output_type": "display_data"
    },
    {
     "data": {
      "text/html": [
       "<center>Mr. \"Everything revolves around you\"</center>"
      ],
      "text/plain": [
       "<IPython.core.display.HTML object>"
      ]
     },
     "metadata": {},
     "output_type": "display_data"
    },
    {
     "data": {
      "text/html": [
       "<center>Mr. \"Always at the right place at the right time,\" baby</center>"
      ],
      "text/plain": [
       "<IPython.core.display.HTML object>"
      ]
     },
     "metadata": {},
     "output_type": "display_data"
    },
    {
     "data": {
      "text/html": [
       "<center>Goodbye, Mr. \"Casually cruel\"</center>"
      ],
      "text/plain": [
       "<IPython.core.display.HTML object>"
      ]
     },
     "metadata": {},
     "output_type": "display_data"
    },
    {
     "data": {
      "text/html": [
       "<center>Mr. \"Everything revolves around you\"</center>"
      ],
      "text/plain": [
       "<IPython.core.display.HTML object>"
      ]
     },
     "metadata": {},
     "output_type": "display_data"
    },
    {
     "data": {
      "text/html": [
       "<center><b><i>Mr. Perfectly Fine, Fearless</i></b></center>"
      ],
      "text/plain": [
       "<IPython.core.display.HTML object>"
      ]
     },
     "metadata": {},
     "output_type": "display_data"
    },
    {
     "data": {
      "text/markdown": [
       "___"
      ],
      "text/plain": [
       "<IPython.core.display.Markdown object>"
      ]
     },
     "metadata": {},
     "output_type": "display_data"
    },
    {
     "data": {
      "text/html": [
       "<h3><center><span style=\"color:#888\">Found 4 usages of \"casually cruel\" across 2 songs.</span></center></h3>"
      ],
      "text/plain": [
       "<IPython.core.display.HTML object>"
      ]
     },
     "metadata": {},
     "output_type": "display_data"
    }
   ],
   "source": [
    "# Run this cell. Don't change any of the code.\n",
    "default_lyric = 'casually cruel'\n",
    "\n",
    "lyric_box = widgets.Text(\n",
    "    value=default_lyric,\n",
    "    placeholder='Type a phrase here and hit enter.',\n",
    "    description='Phrase:',\n",
    "    layout={'width': '525px'},\n",
    "    disabled=False   \n",
    ")\n",
    "\n",
    "def change_matches(change):\n",
    "    clear_output()\n",
    "    display(lyric_box)\n",
    "    search_and_display(lyric_box.value)\n",
    "\n",
    "display(lyric_box)\n",
    "search_and_display(default_lyric)\n",
    "lyric_box.on_submit(change_matches)"
   ]
  },
  {
   "cell_type": "markdown",
   "id": "d844f624",
   "metadata": {},
   "source": [
    "In this section, we'll identify keywords that summarize each song in Taylor Swift's album `'Lover'` 💕."
   ]
  },
  {
   "cell_type": "code",
   "execution_count": 96,
   "id": "6cde2e3c",
   "metadata": {},
   "outputs": [
    {
     "data": {
      "text/html": [
       "\n",
       "        <iframe\n",
       "            width=\"400\"\n",
       "            height=\"75\"\n",
       "            src=\"https://open.spotify.com/embed/track/1LLXZFeAHK9R4xUramtUKw\"\n",
       "            frameborder=\"0\"\n",
       "            allowfullscreen\n",
       "        ></iframe>\n",
       "        "
      ],
      "text/plain": [
       "<IPython.lib.display.IFrame at 0x7f7554674190>"
      ]
     },
     "metadata": {},
     "output_type": "display_data"
    }
   ],
   "source": [
    "play_spotify('1LLXZFeAHK9R4xUramtUKw')"
   ]
  },
  {
   "cell_type": "markdown",
   "id": "34b9bc40",
   "metadata": {},
   "source": [
    "DataFrame called `lover_df` with the same columns as `lyrics`, but with only the songs from the `'Lover'` album."
   ]
  },
  {
   "cell_type": "code",
   "execution_count": 97,
   "id": "641124ef",
   "metadata": {},
   "outputs": [
    {
     "data": {
      "text/html": [
       "<div>\n",
       "<style scoped>\n",
       "    .dataframe tbody tr th:only-of-type {\n",
       "        vertical-align: middle;\n",
       "    }\n",
       "\n",
       "    .dataframe tbody tr th {\n",
       "        vertical-align: top;\n",
       "    }\n",
       "\n",
       "    .dataframe thead th {\n",
       "        text-align: right;\n",
       "    }\n",
       "</style>\n",
       "<table border=\"1\" class=\"dataframe\">\n",
       "  <thead>\n",
       "    <tr style=\"text-align: right;\">\n",
       "      <th></th>\n",
       "      <th>Album</th>\n",
       "      <th>Lyrics</th>\n",
       "    </tr>\n",
       "    <tr>\n",
       "      <th>Song</th>\n",
       "      <th></th>\n",
       "      <th></th>\n",
       "    </tr>\n",
       "  </thead>\n",
       "  <tbody>\n",
       "    <tr>\n",
       "      <th>Anti-Hero</th>\n",
       "      <td>Midnights</td>\n",
       "      <td>I have this thing where I get older, but just ...</td>\n",
       "    </tr>\n",
       "    <tr>\n",
       "      <th>Bejeweled</th>\n",
       "      <td>Midnights</td>\n",
       "      <td>Baby love, I think I've been a little too kind...</td>\n",
       "    </tr>\n",
       "    <tr>\n",
       "      <th>Bigger Than The Whole Sky</th>\n",
       "      <td>Midnights</td>\n",
       "      <td>No words appear before me in the aftermath\\nSa...</td>\n",
       "    </tr>\n",
       "    <tr>\n",
       "      <th>Dear Reader</th>\n",
       "      <td>Midnights</td>\n",
       "      <td>Dear reader, if it feels like a trap\\nYou're a...</td>\n",
       "    </tr>\n",
       "    <tr>\n",
       "      <th>Glitch</th>\n",
       "      <td>Midnights</td>\n",
       "      <td>We were supposed to be just friends\\nYou don't...</td>\n",
       "    </tr>\n",
       "    <tr>\n",
       "      <th>...</th>\n",
       "      <td>...</td>\n",
       "      <td>...</td>\n",
       "    </tr>\n",
       "    <tr>\n",
       "      <th>Stay Beautiful</th>\n",
       "      <td>Taylor Swift</td>\n",
       "      <td>Cory's eyes are like a jungle\\nHe smiles, it's...</td>\n",
       "    </tr>\n",
       "    <tr>\n",
       "      <th>Teardrops On My Guitar</th>\n",
       "      <td>Taylor Swift</td>\n",
       "      <td>Drew looks at me\\nI fake a smile so he won't s...</td>\n",
       "    </tr>\n",
       "    <tr>\n",
       "      <th>The Outside</th>\n",
       "      <td>Taylor Swift</td>\n",
       "      <td>I didn't know what I would find\\nWhen I went l...</td>\n",
       "    </tr>\n",
       "    <tr>\n",
       "      <th>Tied Together With A Smile</th>\n",
       "      <td>Taylor Swift</td>\n",
       "      <td>Seems the only one who doesn't see your beauty...</td>\n",
       "    </tr>\n",
       "    <tr>\n",
       "      <th>Tim McGraw</th>\n",
       "      <td>Taylor Swift</td>\n",
       "      <td>He said the way my blue eyes shined\\nPut those...</td>\n",
       "    </tr>\n",
       "  </tbody>\n",
       "</table>\n",
       "<p>193 rows × 2 columns</p>\n",
       "</div>"
      ],
      "text/plain": [
       "                                   Album  \\\n",
       "Song                                       \n",
       "Anti-Hero                      Midnights   \n",
       "Bejeweled                      Midnights   \n",
       "Bigger Than The Whole Sky      Midnights   \n",
       "Dear Reader                    Midnights   \n",
       "Glitch                         Midnights   \n",
       "...                                  ...   \n",
       "Stay Beautiful              Taylor Swift   \n",
       "Teardrops On My Guitar      Taylor Swift   \n",
       "The Outside                 Taylor Swift   \n",
       "Tied Together With A Smile  Taylor Swift   \n",
       "Tim McGraw                  Taylor Swift   \n",
       "\n",
       "                                                                       Lyrics  \n",
       "Song                                                                           \n",
       "Anti-Hero                   I have this thing where I get older, but just ...  \n",
       "Bejeweled                   Baby love, I think I've been a little too kind...  \n",
       "Bigger Than The Whole Sky   No words appear before me in the aftermath\\nSa...  \n",
       "Dear Reader                 Dear reader, if it feels like a trap\\nYou're a...  \n",
       "Glitch                      We were supposed to be just friends\\nYou don't...  \n",
       "...                                                                       ...  \n",
       "Stay Beautiful              Cory's eyes are like a jungle\\nHe smiles, it's...  \n",
       "Teardrops On My Guitar      Drew looks at me\\nI fake a smile so he won't s...  \n",
       "The Outside                 I didn't know what I would find\\nWhen I went l...  \n",
       "Tied Together With A Smile  Seems the only one who doesn't see your beauty...  \n",
       "Tim McGraw                  He said the way my blue eyes shined\\nPut those...  \n",
       "\n",
       "[193 rows x 2 columns]"
      ]
     },
     "execution_count": 97,
     "metadata": {},
     "output_type": "execute_result"
    }
   ],
   "source": [
    "lyrics"
   ]
  },
  {
   "cell_type": "code",
   "execution_count": 98,
   "id": "6280dc15",
   "metadata": {
    "scrolled": false
   },
   "outputs": [
    {
     "data": {
      "text/html": [
       "<div>\n",
       "<style scoped>\n",
       "    .dataframe tbody tr th:only-of-type {\n",
       "        vertical-align: middle;\n",
       "    }\n",
       "\n",
       "    .dataframe tbody tr th {\n",
       "        vertical-align: top;\n",
       "    }\n",
       "\n",
       "    .dataframe thead th {\n",
       "        text-align: right;\n",
       "    }\n",
       "</style>\n",
       "<table border=\"1\" class=\"dataframe\">\n",
       "  <thead>\n",
       "    <tr style=\"text-align: right;\">\n",
       "      <th></th>\n",
       "      <th>Album</th>\n",
       "      <th>Lyrics</th>\n",
       "    </tr>\n",
       "    <tr>\n",
       "      <th>Song</th>\n",
       "      <th></th>\n",
       "      <th></th>\n",
       "    </tr>\n",
       "  </thead>\n",
       "  <tbody>\n",
       "    <tr>\n",
       "      <th>Afterglow</th>\n",
       "      <td>Lover</td>\n",
       "      <td>I blew things out of proportion, now you're bl...</td>\n",
       "    </tr>\n",
       "    <tr>\n",
       "      <th>Cornelia Street</th>\n",
       "      <td>Lover</td>\n",
       "      <td>We were in the backseat\\nDrunk on something st...</td>\n",
       "    </tr>\n",
       "    <tr>\n",
       "      <th>Cruel Summer</th>\n",
       "      <td>Lover</td>\n",
       "      <td>(Yeah, yeah, yeah, yeah)\\n\\nFever dream high i...</td>\n",
       "    </tr>\n",
       "    <tr>\n",
       "      <th>Daylight</th>\n",
       "      <td>Lover</td>\n",
       "      <td>My love was as cruel as the cities I lived in\\...</td>\n",
       "    </tr>\n",
       "    <tr>\n",
       "      <th>Death By A Thousand Cuts</th>\n",
       "      <td>Lover</td>\n",
       "      <td>My, my, my, my\\nMy, my, my, my\\nMy, my, my, my...</td>\n",
       "    </tr>\n",
       "    <tr>\n",
       "      <th>...</th>\n",
       "      <td>...</td>\n",
       "      <td>...</td>\n",
       "    </tr>\n",
       "    <tr>\n",
       "      <th>Paper Rings</th>\n",
       "      <td>Lover</td>\n",
       "      <td>The moon is high\\nLike your friends were the n...</td>\n",
       "    </tr>\n",
       "    <tr>\n",
       "      <th>Soon You'll Get Better (Ft. The Chicks)</th>\n",
       "      <td>Lover</td>\n",
       "      <td>The buttons of my coat were tangled in my hair...</td>\n",
       "    </tr>\n",
       "    <tr>\n",
       "      <th>The Archer</th>\n",
       "      <td>Lover</td>\n",
       "      <td>Combat, I'm ready for combat\\nI say I don't wa...</td>\n",
       "    </tr>\n",
       "    <tr>\n",
       "      <th>The Man</th>\n",
       "      <td>Lover</td>\n",
       "      <td>I would be complex, I would be cool\\nThey'd sa...</td>\n",
       "    </tr>\n",
       "    <tr>\n",
       "      <th>You Need To Calm Down</th>\n",
       "      <td>Lover</td>\n",
       "      <td>You are somebody that I don't know\\nBut you're...</td>\n",
       "    </tr>\n",
       "  </tbody>\n",
       "</table>\n",
       "<p>18 rows × 2 columns</p>\n",
       "</div>"
      ],
      "text/plain": [
       "                                         Album  \\\n",
       "Song                                             \n",
       "Afterglow                                Lover   \n",
       "Cornelia Street                          Lover   \n",
       "Cruel Summer                             Lover   \n",
       "Daylight                                 Lover   \n",
       "Death By A Thousand Cuts                 Lover   \n",
       "...                                        ...   \n",
       "Paper Rings                              Lover   \n",
       "Soon You'll Get Better (Ft. The Chicks)  Lover   \n",
       "The Archer                               Lover   \n",
       "The Man                                  Lover   \n",
       "You Need To Calm Down                    Lover   \n",
       "\n",
       "                                                                                    Lyrics  \n",
       "Song                                                                                        \n",
       "Afterglow                                I blew things out of proportion, now you're bl...  \n",
       "Cornelia Street                          We were in the backseat\\nDrunk on something st...  \n",
       "Cruel Summer                             (Yeah, yeah, yeah, yeah)\\n\\nFever dream high i...  \n",
       "Daylight                                 My love was as cruel as the cities I lived in\\...  \n",
       "Death By A Thousand Cuts                 My, my, my, my\\nMy, my, my, my\\nMy, my, my, my...  \n",
       "...                                                                                    ...  \n",
       "Paper Rings                              The moon is high\\nLike your friends were the n...  \n",
       "Soon You'll Get Better (Ft. The Chicks)  The buttons of my coat were tangled in my hair...  \n",
       "The Archer                               Combat, I'm ready for combat\\nI say I don't wa...  \n",
       "The Man                                  I would be complex, I would be cool\\nThey'd sa...  \n",
       "You Need To Calm Down                    You are somebody that I don't know\\nBut you're...  \n",
       "\n",
       "[18 rows x 2 columns]"
      ]
     },
     "execution_count": 98,
     "metadata": {},
     "output_type": "execute_result"
    }
   ],
   "source": [
    "lover_df = lyrics[lyrics.get('Album') == 'Lover']\n",
    "lover_df"
   ]
  },
  {
   "cell_type": "markdown",
   "id": "c87fbb45",
   "metadata": {},
   "source": [
    "Now, we want to determine the words used in all the lyrics in `lover_df`. Store all such unique words in an array called `unique_words_raw`. Deal with capitalization and punctuation as follows:\n",
    "- Words with the same letters that are capitalized differently are considered the same. For example, `'talk'`, `'Talk'`, and `'talK'` should all be counted as the same word. All words in `unique_words_raw` should be in lowercase, so all of these words should be counted as `'talk'`.\n",
    "- Words that use the same letters but have different punctuation are considered different. For example, `'\"for'` and `'for'` will both be words in `unique_words_raw`, as they're not considered the same word. \n",
    "\n",
    "- Words may be separated by spaces or by newline characters, `\\n`. The string method `.split()` when called with no arguments will separate on both of these; this is what you want!\n"
   ]
  },
  {
   "cell_type": "code",
   "execution_count": 100,
   "id": "4ffcf900",
   "metadata": {
    "scrolled": true
   },
   "outputs": [
    {
     "data": {
      "text/plain": [
       "array(['\"awesome\"', '\"babe\"', '\"for', ..., 'you?', 'your', 'yours'],\n",
       "      dtype='<U17')"
      ]
     },
     "execution_count": 100,
     "metadata": {},
     "output_type": "execute_result"
    }
   ],
   "source": [
    "unique_words_raw = np.unique(lover_df.get('Lyrics').str.lower().str.split().sum())\n",
    "unique_words_raw"
   ]
  },
  {
   "cell_type": "markdown",
   "id": "b2427e0b",
   "metadata": {},
   "source": [
    "As mentioned above, some of the words in `unique_words_raw` contain punctuation.  For example, both `'\"for'` and `'for'` are in `unique_words_raw`, although they correspond to the same English word."
   ]
  },
  {
   "cell_type": "code",
   "execution_count": 102,
   "id": "12579434",
   "metadata": {},
   "outputs": [
    {
     "data": {
      "text/plain": [
       "True"
      ]
     },
     "execution_count": 102,
     "metadata": {},
     "output_type": "execute_result"
    }
   ],
   "source": [
    "'for' in unique_words_raw and '\"for' in unique_words_raw"
   ]
  },
  {
   "cell_type": "markdown",
   "id": "c29fba0a",
   "metadata": {},
   "source": [
    "Let's reconcile this by removing punctuation from the words in `unique_words_raw` and then keeping only the unique words that remain."
   ]
  },
  {
   "cell_type": "markdown",
   "id": "db7af113",
   "metadata": {},
   "source": [
    "Function `drop_punctuation`, which takes in a string `word` and performs the actions below to address the aforementioned issues (there may be other issues with the data, but don't worry about them).\n",
    "\n",
    "1. Remove quotations (`'` and `\"`) at the beginning and end of strings. \n",
    "1. Replace all double quotes (`\"`) with single quotes (`'`).\n",
    "1. Remove the following punctuation symbols: `(`, `)`, `?`, `.`, `,`, `;`, `-`, `_`, `\\`.\n",
    "\n",
    "\n"
   ]
  },
  {
   "cell_type": "code",
   "execution_count": 103,
   "id": "2d4bd87e",
   "metadata": {},
   "outputs": [],
   "source": [
    "def drop_punctuation(word):\n",
    "    return (word.strip(\"'\").strip('\"').replace(\"(\",'').replace(\")\", '').replace(\"?\", '')\n",
    "            .replace(\".\", '').replace(\",\", '').replace(\";\", '').replace(\"-\", '').replace(\"_\", '')\n",
    "            .replace(\"\\\\\", '').replace('\"', ''))"
   ]
  },
  {
   "cell_type": "markdown",
   "id": "12bb1071",
   "metadata": {},
   "source": [
    "The `drop_punctuation` function to create an array of all the unique words used in the `'Lover'` album, without punctuation. Store that array in `unique_words`. Notice that after removing punctuation, there may be duplicate words (for example, `'for'` and `'\"for'` become the same word after punctuation is dropped), but make sure there are no duplicates in `unique_words`."
   ]
  },
  {
   "cell_type": "code",
   "execution_count": 105,
   "id": "ceeee5a7",
   "metadata": {
    "scrolled": true
   },
   "outputs": [
    {
     "data": {
      "text/plain": [
       "array(['16th', '17', '7', ..., \"you've\", 'your', 'yours'], dtype='<U32')"
      ]
     },
     "execution_count": 105,
     "metadata": {},
     "output_type": "execute_result"
    }
   ],
   "source": [
    "unique_words = np.array([])\n",
    "for i in range(len(unique_words_raw)):\n",
    "    no_punctuation_array = drop_punctuation(unique_words_raw[i])\n",
    "    unique_words = np.unique(np.append(unique_words, no_punctuation_array))\n",
    "    \n",
    "unique_words"
   ]
  },
  {
   "cell_type": "markdown",
   "id": "820865c0",
   "metadata": {},
   "source": [
    "Now that we've determined which words appear in the `'Lover'` album, we'll attempt to describe how important each word is to each song. To do this, we'll use a method from natural language processing called the **term frequency-inverse document frequency (TF-IDF)**. \n",
    "\n",
    "The purpose of TF-IDF is to measure how important a term is in a document relative to a collection of documents. In our case, terms are words, documents are songs, and the collection of documents we're interested in is the collection of songs on the album `'Lover'`.\n",
    "\n",
    "Given a word,  $\\textbf{term}$,  in a document,  $\\textbf{doc}$, the TF-IDF of the word in the document is the product:\n",
    "\n",
    "$$\n",
    "\\begin{align*}\\text{TF-IDF}(\\textbf{term}, \\textbf{doc}) &= \\text{TF}(\\textbf{term}, \\textbf{doc}) \\cdot \\text{IDF}(\\textbf{term}) \\\\\\ &= \\frac{\\text{number of occurrences of $\\textbf{term}$ in $\\textbf{doc}$}}{\\text{total number of words in $\\textbf{doc}$}} \\cdot \\ln \\left(\\frac{\\text{total number of documents}}{\\text{number of documents in which $\\textbf{term}$ appears}} \\right) \\end{align*} $$\n"
   ]
  },
  {
   "cell_type": "markdown",
   "id": "02585bf5",
   "metadata": {},
   "source": [
    "Run the cell below to load in a DataFrame named `counts_df` that has a row for each word in the `'Lover'` album and a column for each song on the album.  Each entry counts the number of instances of a word in a song. "
   ]
  },
  {
   "cell_type": "code",
   "execution_count": 107,
   "id": "9566e000",
   "metadata": {},
   "outputs": [
    {
     "data": {
      "text/html": [
       "<div>\n",
       "<style scoped>\n",
       "    .dataframe tbody tr th:only-of-type {\n",
       "        vertical-align: middle;\n",
       "    }\n",
       "\n",
       "    .dataframe tbody tr th {\n",
       "        vertical-align: top;\n",
       "    }\n",
       "\n",
       "    .dataframe thead th {\n",
       "        text-align: right;\n",
       "    }\n",
       "</style>\n",
       "<table border=\"1\" class=\"dataframe\">\n",
       "  <thead>\n",
       "    <tr style=\"text-align: right;\">\n",
       "      <th></th>\n",
       "      <th>Afterglow</th>\n",
       "      <th>Cornelia Street</th>\n",
       "      <th>Cruel Summer</th>\n",
       "      <th>Daylight</th>\n",
       "      <th>Death By A Thousand Cuts</th>\n",
       "      <th>False God</th>\n",
       "      <th>I Forgot That You Existed</th>\n",
       "      <th>I Think He Knows</th>\n",
       "      <th>It's Nice To Have A Friend</th>\n",
       "      <th>London Boy</th>\n",
       "      <th>Lover</th>\n",
       "      <th>ME! (Ft. Brendon Urie of Panic! At The Disco)</th>\n",
       "      <th>Miss Americana &amp; The Heartbreak Prince</th>\n",
       "      <th>Paper Rings</th>\n",
       "      <th>Soon You'll Get Better (Ft. The Chicks)</th>\n",
       "      <th>The Archer</th>\n",
       "      <th>The Man</th>\n",
       "      <th>You Need To Calm Down</th>\n",
       "    </tr>\n",
       "    <tr>\n",
       "      <th>word</th>\n",
       "      <th></th>\n",
       "      <th></th>\n",
       "      <th></th>\n",
       "      <th></th>\n",
       "      <th></th>\n",
       "      <th></th>\n",
       "      <th></th>\n",
       "      <th></th>\n",
       "      <th></th>\n",
       "      <th></th>\n",
       "      <th></th>\n",
       "      <th></th>\n",
       "      <th></th>\n",
       "      <th></th>\n",
       "      <th></th>\n",
       "      <th></th>\n",
       "      <th></th>\n",
       "      <th></th>\n",
       "    </tr>\n",
       "  </thead>\n",
       "  <tbody>\n",
       "    <tr>\n",
       "      <th>16th</th>\n",
       "      <td>0</td>\n",
       "      <td>0</td>\n",
       "      <td>0</td>\n",
       "      <td>0</td>\n",
       "      <td>0</td>\n",
       "      <td>0</td>\n",
       "      <td>0</td>\n",
       "      <td>4</td>\n",
       "      <td>0</td>\n",
       "      <td>0</td>\n",
       "      <td>0</td>\n",
       "      <td>0</td>\n",
       "      <td>0</td>\n",
       "      <td>0</td>\n",
       "      <td>0</td>\n",
       "      <td>0</td>\n",
       "      <td>0</td>\n",
       "      <td>0</td>\n",
       "    </tr>\n",
       "    <tr>\n",
       "      <th>17</th>\n",
       "      <td>0</td>\n",
       "      <td>0</td>\n",
       "      <td>0</td>\n",
       "      <td>0</td>\n",
       "      <td>0</td>\n",
       "      <td>0</td>\n",
       "      <td>0</td>\n",
       "      <td>1</td>\n",
       "      <td>0</td>\n",
       "      <td>0</td>\n",
       "      <td>0</td>\n",
       "      <td>0</td>\n",
       "      <td>0</td>\n",
       "      <td>0</td>\n",
       "      <td>0</td>\n",
       "      <td>0</td>\n",
       "      <td>0</td>\n",
       "      <td>0</td>\n",
       "    </tr>\n",
       "    <tr>\n",
       "      <th>7</th>\n",
       "      <td>0</td>\n",
       "      <td>0</td>\n",
       "      <td>0</td>\n",
       "      <td>0</td>\n",
       "      <td>0</td>\n",
       "      <td>0</td>\n",
       "      <td>0</td>\n",
       "      <td>0</td>\n",
       "      <td>0</td>\n",
       "      <td>0</td>\n",
       "      <td>0</td>\n",
       "      <td>0</td>\n",
       "      <td>0</td>\n",
       "      <td>0</td>\n",
       "      <td>0</td>\n",
       "      <td>0</td>\n",
       "      <td>0</td>\n",
       "      <td>1</td>\n",
       "    </tr>\n",
       "    <tr>\n",
       "      <th>a</th>\n",
       "      <td>1</td>\n",
       "      <td>3</td>\n",
       "      <td>11</td>\n",
       "      <td>3</td>\n",
       "      <td>14</td>\n",
       "      <td>7</td>\n",
       "      <td>2</td>\n",
       "      <td>3</td>\n",
       "      <td>8</td>\n",
       "      <td>14</td>\n",
       "      <td>4</td>\n",
       "      <td>11</td>\n",
       "      <td>9</td>\n",
       "      <td>3</td>\n",
       "      <td>2</td>\n",
       "      <td>2</td>\n",
       "      <td>15</td>\n",
       "      <td>5</td>\n",
       "    </tr>\n",
       "    <tr>\n",
       "      <th>about</th>\n",
       "      <td>0</td>\n",
       "      <td>0</td>\n",
       "      <td>0</td>\n",
       "      <td>0</td>\n",
       "      <td>0</td>\n",
       "      <td>2</td>\n",
       "      <td>0</td>\n",
       "      <td>0</td>\n",
       "      <td>0</td>\n",
       "      <td>0</td>\n",
       "      <td>1</td>\n",
       "      <td>1</td>\n",
       "      <td>0</td>\n",
       "      <td>0</td>\n",
       "      <td>1</td>\n",
       "      <td>0</td>\n",
       "      <td>1</td>\n",
       "      <td>1</td>\n",
       "    </tr>\n",
       "    <tr>\n",
       "      <th>...</th>\n",
       "      <td>...</td>\n",
       "      <td>...</td>\n",
       "      <td>...</td>\n",
       "      <td>...</td>\n",
       "      <td>...</td>\n",
       "      <td>...</td>\n",
       "      <td>...</td>\n",
       "      <td>...</td>\n",
       "      <td>...</td>\n",
       "      <td>...</td>\n",
       "      <td>...</td>\n",
       "      <td>...</td>\n",
       "      <td>...</td>\n",
       "      <td>...</td>\n",
       "      <td>...</td>\n",
       "      <td>...</td>\n",
       "      <td>...</td>\n",
       "      <td>...</td>\n",
       "    </tr>\n",
       "    <tr>\n",
       "      <th>you'll</th>\n",
       "      <td>0</td>\n",
       "      <td>0</td>\n",
       "      <td>1</td>\n",
       "      <td>0</td>\n",
       "      <td>0</td>\n",
       "      <td>0</td>\n",
       "      <td>0</td>\n",
       "      <td>0</td>\n",
       "      <td>0</td>\n",
       "      <td>0</td>\n",
       "      <td>1</td>\n",
       "      <td>5</td>\n",
       "      <td>0</td>\n",
       "      <td>0</td>\n",
       "      <td>12</td>\n",
       "      <td>0</td>\n",
       "      <td>0</td>\n",
       "      <td>0</td>\n",
       "    </tr>\n",
       "    <tr>\n",
       "      <th>you're</th>\n",
       "      <td>2</td>\n",
       "      <td>0</td>\n",
       "      <td>4</td>\n",
       "      <td>0</td>\n",
       "      <td>3</td>\n",
       "      <td>4</td>\n",
       "      <td>0</td>\n",
       "      <td>0</td>\n",
       "      <td>0</td>\n",
       "      <td>0</td>\n",
       "      <td>5</td>\n",
       "      <td>5</td>\n",
       "      <td>0</td>\n",
       "      <td>14</td>\n",
       "      <td>0</td>\n",
       "      <td>0</td>\n",
       "      <td>2</td>\n",
       "      <td>6</td>\n",
       "    </tr>\n",
       "    <tr>\n",
       "      <th>you've</th>\n",
       "      <td>0</td>\n",
       "      <td>0</td>\n",
       "      <td>0</td>\n",
       "      <td>0</td>\n",
       "      <td>0</td>\n",
       "      <td>0</td>\n",
       "      <td>0</td>\n",
       "      <td>0</td>\n",
       "      <td>1</td>\n",
       "      <td>0</td>\n",
       "      <td>0</td>\n",
       "      <td>0</td>\n",
       "      <td>0</td>\n",
       "      <td>0</td>\n",
       "      <td>0</td>\n",
       "      <td>0</td>\n",
       "      <td>0</td>\n",
       "      <td>0</td>\n",
       "    </tr>\n",
       "    <tr>\n",
       "      <th>your</th>\n",
       "      <td>5</td>\n",
       "      <td>6</td>\n",
       "      <td>4</td>\n",
       "      <td>1</td>\n",
       "      <td>1</td>\n",
       "      <td>3</td>\n",
       "      <td>2</td>\n",
       "      <td>0</td>\n",
       "      <td>0</td>\n",
       "      <td>2</td>\n",
       "      <td>1</td>\n",
       "      <td>1</td>\n",
       "      <td>0</td>\n",
       "      <td>10</td>\n",
       "      <td>0</td>\n",
       "      <td>1</td>\n",
       "      <td>0</td>\n",
       "      <td>2</td>\n",
       "    </tr>\n",
       "    <tr>\n",
       "      <th>yours</th>\n",
       "      <td>0</td>\n",
       "      <td>1</td>\n",
       "      <td>0</td>\n",
       "      <td>0</td>\n",
       "      <td>0</td>\n",
       "      <td>0</td>\n",
       "      <td>0</td>\n",
       "      <td>0</td>\n",
       "      <td>0</td>\n",
       "      <td>0</td>\n",
       "      <td>1</td>\n",
       "      <td>0</td>\n",
       "      <td>0</td>\n",
       "      <td>0</td>\n",
       "      <td>0</td>\n",
       "      <td>0</td>\n",
       "      <td>0</td>\n",
       "      <td>0</td>\n",
       "    </tr>\n",
       "  </tbody>\n",
       "</table>\n",
       "<p>1026 rows × 18 columns</p>\n",
       "</div>"
      ],
      "text/plain": [
       "        Afterglow  Cornelia Street  Cruel Summer  Daylight  \\\n",
       "word                                                         \n",
       "16th            0                0             0         0   \n",
       "17              0                0             0         0   \n",
       "7               0                0             0         0   \n",
       "a               1                3            11         3   \n",
       "about           0                0             0         0   \n",
       "...           ...              ...           ...       ...   \n",
       "you'll          0                0             1         0   \n",
       "you're          2                0             4         0   \n",
       "you've          0                0             0         0   \n",
       "your            5                6             4         1   \n",
       "yours           0                1             0         0   \n",
       "\n",
       "        Death By A Thousand Cuts  False God  I Forgot That You Existed  \\\n",
       "word                                                                     \n",
       "16th                           0          0                          0   \n",
       "17                             0          0                          0   \n",
       "7                              0          0                          0   \n",
       "a                             14          7                          2   \n",
       "about                          0          2                          0   \n",
       "...                          ...        ...                        ...   \n",
       "you'll                         0          0                          0   \n",
       "you're                         3          4                          0   \n",
       "you've                         0          0                          0   \n",
       "your                           1          3                          2   \n",
       "yours                          0          0                          0   \n",
       "\n",
       "        I Think He Knows  It's Nice To Have A Friend  London Boy  Lover  \\\n",
       "word                                                                      \n",
       "16th                   4                           0           0      0   \n",
       "17                     1                           0           0      0   \n",
       "7                      0                           0           0      0   \n",
       "a                      3                           8          14      4   \n",
       "about                  0                           0           0      1   \n",
       "...                  ...                         ...         ...    ...   \n",
       "you'll                 0                           0           0      1   \n",
       "you're                 0                           0           0      5   \n",
       "you've                 0                           1           0      0   \n",
       "your                   0                           0           2      1   \n",
       "yours                  0                           0           0      1   \n",
       "\n",
       "        ME! (Ft. Brendon Urie of Panic! At The Disco)  \\\n",
       "word                                                    \n",
       "16th                                                0   \n",
       "17                                                  0   \n",
       "7                                                   0   \n",
       "a                                                  11   \n",
       "about                                               1   \n",
       "...                                               ...   \n",
       "you'll                                              5   \n",
       "you're                                              5   \n",
       "you've                                              0   \n",
       "your                                                1   \n",
       "yours                                               0   \n",
       "\n",
       "        Miss Americana & The Heartbreak Prince  Paper Rings  \\\n",
       "word                                                          \n",
       "16th                                         0            0   \n",
       "17                                           0            0   \n",
       "7                                            0            0   \n",
       "a                                            9            3   \n",
       "about                                        0            0   \n",
       "...                                        ...          ...   \n",
       "you'll                                       0            0   \n",
       "you're                                       0           14   \n",
       "you've                                       0            0   \n",
       "your                                         0           10   \n",
       "yours                                        0            0   \n",
       "\n",
       "        Soon You'll Get Better (Ft. The Chicks)  The Archer  The Man  \\\n",
       "word                                                                   \n",
       "16th                                          0           0        0   \n",
       "17                                            0           0        0   \n",
       "7                                             0           0        0   \n",
       "a                                             2           2       15   \n",
       "about                                         1           0        1   \n",
       "...                                         ...         ...      ...   \n",
       "you'll                                       12           0        0   \n",
       "you're                                        0           0        2   \n",
       "you've                                        0           0        0   \n",
       "your                                          0           1        0   \n",
       "yours                                         0           0        0   \n",
       "\n",
       "        You Need To Calm Down  \n",
       "word                           \n",
       "16th                        0  \n",
       "17                          0  \n",
       "7                           1  \n",
       "a                           5  \n",
       "about                       1  \n",
       "...                       ...  \n",
       "you'll                      0  \n",
       "you're                      6  \n",
       "you've                      0  \n",
       "your                        2  \n",
       "yours                       0  \n",
       "\n",
       "[1026 rows x 18 columns]"
      ]
     },
     "execution_count": 107,
     "metadata": {},
     "output_type": "execute_result"
    }
   ],
   "source": [
    "counts_df = bpd.read_csv('data/word_counts.csv').set_index('word')\n",
    "counts_df"
   ]
  },
  {
   "cell_type": "markdown",
   "id": "b06b5050",
   "metadata": {},
   "source": [
    "For instance, the preview above tells us that the word `\"you're\"` appears 4 times in `'Cruel Summer'`.\n",
    "\n"
   ]
  },
  {
   "cell_type": "markdown",
   "id": "20881ec6",
   "metadata": {},
   "source": [
    "Now, it's time for some calculations 🧮. Let's begin by computing the TF-IDF for the word `'about'` in the song `'You Need To Calm Down'`. To start, make sure you understand the \"Taylor\" TF-IDF example given above, and consider how you will use the data available in `counts_df`.\n",
    "\n",
    "We've provided four variables for you to fill in: `tf_numerator`, `tf_denominator`, `idf_numerator`, and `idf_denominator`. We then compute the TF-IDF from those four variables and store the result in `tfidf_of_about`."
   ]
  },
  {
   "cell_type": "code",
   "execution_count": 108,
   "id": "43effcdc",
   "metadata": {
    "scrolled": true
   },
   "outputs": [
    {
     "data": {
      "text/plain": [
       "0.0030517008018558604"
      ]
     },
     "execution_count": 108,
     "metadata": {},
     "output_type": "execute_result"
    }
   ],
   "source": [
    "tf_numerator = counts_df.loc['about'].get('You Need To Calm Down')\n",
    "tf_denominator = np.sum(np.array(counts_df.get('You Need To Calm Down')))\n",
    "idf_numerator = counts_df.shape[1]\n",
    "idf_denominator = np.count_nonzero(np.array(counts_df.loc['about']))\n",
    "tfidf_of_about = (tf_numerator / tf_denominator) * np.log(idf_numerator / idf_denominator) \n",
    "tfidf_of_about"
   ]
  },
  {
   "cell_type": "code",
   "execution_count": 110,
   "id": "c6e570c8",
   "metadata": {},
   "outputs": [
    {
     "data": {
      "text/plain": [
       "array([2.89037176, 2.89037176, 2.89037176, ..., 2.89037176, 0.3254224 ,\n",
       "       2.19722458])"
      ]
     },
     "execution_count": 110,
     "metadata": {},
     "output_type": "execute_result"
    }
   ],
   "source": [
    "idf_array = np.array([])\n",
    "word_array = np.array(counts_df.index)\n",
    "# Loop through each word and compute the IDF of that word.\n",
    "for word in word_array:\n",
    "    idf_numerator = counts_df.shape[1]\n",
    "    idf_denominator = np.count_nonzero(np.array(counts_df.loc[word]))\n",
    "    idf = np.log(idf_numerator / idf_denominator)\n",
    "    \n",
    "    idf_array = np.append(idf_array, idf)\n",
    "    \n",
    "# Display the resulting array of IDF values.\n",
    "idf_array"
   ]
  },
  {
   "cell_type": "markdown",
   "id": "a6c1f288",
   "metadata": {},
   "source": [
    "Now, we are ready to calculate the TF-IDF for each word in each song. We've already calculated the IDF values and stored them in `idf_array`, so we'll want to make use of them here! \n",
    "\n"
   ]
  },
  {
   "cell_type": "code",
   "execution_count": 112,
   "id": "c50b3976",
   "metadata": {
    "scrolled": false
   },
   "outputs": [
    {
     "data": {
      "text/html": [
       "<div>\n",
       "<style scoped>\n",
       "    .dataframe tbody tr th:only-of-type {\n",
       "        vertical-align: middle;\n",
       "    }\n",
       "\n",
       "    .dataframe tbody tr th {\n",
       "        vertical-align: top;\n",
       "    }\n",
       "\n",
       "    .dataframe thead th {\n",
       "        text-align: right;\n",
       "    }\n",
       "</style>\n",
       "<table border=\"1\" class=\"dataframe\">\n",
       "  <thead>\n",
       "    <tr style=\"text-align: right;\">\n",
       "      <th></th>\n",
       "      <th>Afterglow</th>\n",
       "      <th>Cornelia Street</th>\n",
       "      <th>Cruel Summer</th>\n",
       "      <th>Daylight</th>\n",
       "      <th>Death By A Thousand Cuts</th>\n",
       "      <th>False God</th>\n",
       "      <th>I Forgot That You Existed</th>\n",
       "      <th>I Think He Knows</th>\n",
       "      <th>It's Nice To Have A Friend</th>\n",
       "      <th>London Boy</th>\n",
       "      <th>Lover</th>\n",
       "      <th>ME! (Ft. Brendon Urie of Panic! At The Disco)</th>\n",
       "      <th>Miss Americana &amp; The Heartbreak Prince</th>\n",
       "      <th>Paper Rings</th>\n",
       "      <th>Soon You'll Get Better (Ft. The Chicks)</th>\n",
       "      <th>The Archer</th>\n",
       "      <th>The Man</th>\n",
       "      <th>You Need To Calm Down</th>\n",
       "    </tr>\n",
       "    <tr>\n",
       "      <th>word</th>\n",
       "      <th></th>\n",
       "      <th></th>\n",
       "      <th></th>\n",
       "      <th></th>\n",
       "      <th></th>\n",
       "      <th></th>\n",
       "      <th></th>\n",
       "      <th></th>\n",
       "      <th></th>\n",
       "      <th></th>\n",
       "      <th></th>\n",
       "      <th></th>\n",
       "      <th></th>\n",
       "      <th></th>\n",
       "      <th></th>\n",
       "      <th></th>\n",
       "      <th></th>\n",
       "      <th></th>\n",
       "    </tr>\n",
       "  </thead>\n",
       "  <tbody>\n",
       "    <tr>\n",
       "      <th>16th</th>\n",
       "      <td>0.000000</td>\n",
       "      <td>0.000000</td>\n",
       "      <td>0.000000</td>\n",
       "      <td>0.000000</td>\n",
       "      <td>0.000000</td>\n",
       "      <td>0.000000</td>\n",
       "      <td>0.000000</td>\n",
       "      <td>0.028268</td>\n",
       "      <td>0.000000</td>\n",
       "      <td>0.000000</td>\n",
       "      <td>0.000000</td>\n",
       "      <td>0.000000</td>\n",
       "      <td>0.0</td>\n",
       "      <td>0.000000</td>\n",
       "      <td>0.000000</td>\n",
       "      <td>0.000000</td>\n",
       "      <td>0.000000</td>\n",
       "      <td>0.000000</td>\n",
       "    </tr>\n",
       "    <tr>\n",
       "      <th>17</th>\n",
       "      <td>0.000000</td>\n",
       "      <td>0.000000</td>\n",
       "      <td>0.000000</td>\n",
       "      <td>0.000000</td>\n",
       "      <td>0.000000</td>\n",
       "      <td>0.000000</td>\n",
       "      <td>0.000000</td>\n",
       "      <td>0.007067</td>\n",
       "      <td>0.000000</td>\n",
       "      <td>0.000000</td>\n",
       "      <td>0.000000</td>\n",
       "      <td>0.000000</td>\n",
       "      <td>0.0</td>\n",
       "      <td>0.000000</td>\n",
       "      <td>0.000000</td>\n",
       "      <td>0.000000</td>\n",
       "      <td>0.000000</td>\n",
       "      <td>0.000000</td>\n",
       "    </tr>\n",
       "    <tr>\n",
       "      <th>7</th>\n",
       "      <td>0.000000</td>\n",
       "      <td>0.000000</td>\n",
       "      <td>0.000000</td>\n",
       "      <td>0.000000</td>\n",
       "      <td>0.000000</td>\n",
       "      <td>0.000000</td>\n",
       "      <td>0.000000</td>\n",
       "      <td>0.000000</td>\n",
       "      <td>0.000000</td>\n",
       "      <td>0.000000</td>\n",
       "      <td>0.000000</td>\n",
       "      <td>0.000000</td>\n",
       "      <td>0.0</td>\n",
       "      <td>0.000000</td>\n",
       "      <td>0.000000</td>\n",
       "      <td>0.000000</td>\n",
       "      <td>0.000000</td>\n",
       "      <td>0.008029</td>\n",
       "    </tr>\n",
       "    <tr>\n",
       "      <th>a</th>\n",
       "      <td>0.000000</td>\n",
       "      <td>0.000000</td>\n",
       "      <td>0.000000</td>\n",
       "      <td>0.000000</td>\n",
       "      <td>0.000000</td>\n",
       "      <td>0.000000</td>\n",
       "      <td>0.000000</td>\n",
       "      <td>0.000000</td>\n",
       "      <td>0.000000</td>\n",
       "      <td>0.000000</td>\n",
       "      <td>0.000000</td>\n",
       "      <td>0.000000</td>\n",
       "      <td>0.0</td>\n",
       "      <td>0.000000</td>\n",
       "      <td>0.000000</td>\n",
       "      <td>0.000000</td>\n",
       "      <td>0.000000</td>\n",
       "      <td>0.000000</td>\n",
       "    </tr>\n",
       "    <tr>\n",
       "      <th>about</th>\n",
       "      <td>0.000000</td>\n",
       "      <td>0.000000</td>\n",
       "      <td>0.000000</td>\n",
       "      <td>0.000000</td>\n",
       "      <td>0.000000</td>\n",
       "      <td>0.006278</td>\n",
       "      <td>0.000000</td>\n",
       "      <td>0.000000</td>\n",
       "      <td>0.000000</td>\n",
       "      <td>0.000000</td>\n",
       "      <td>0.004069</td>\n",
       "      <td>0.002210</td>\n",
       "      <td>0.0</td>\n",
       "      <td>0.000000</td>\n",
       "      <td>0.004342</td>\n",
       "      <td>0.000000</td>\n",
       "      <td>0.002328</td>\n",
       "      <td>0.003052</td>\n",
       "    </tr>\n",
       "    <tr>\n",
       "      <th>...</th>\n",
       "      <td>...</td>\n",
       "      <td>...</td>\n",
       "      <td>...</td>\n",
       "      <td>...</td>\n",
       "      <td>...</td>\n",
       "      <td>...</td>\n",
       "      <td>...</td>\n",
       "      <td>...</td>\n",
       "      <td>...</td>\n",
       "      <td>...</td>\n",
       "      <td>...</td>\n",
       "      <td>...</td>\n",
       "      <td>...</td>\n",
       "      <td>...</td>\n",
       "      <td>...</td>\n",
       "      <td>...</td>\n",
       "      <td>...</td>\n",
       "      <td>...</td>\n",
       "    </tr>\n",
       "    <tr>\n",
       "      <th>you'll</th>\n",
       "      <td>0.000000</td>\n",
       "      <td>0.000000</td>\n",
       "      <td>0.003120</td>\n",
       "      <td>0.000000</td>\n",
       "      <td>0.000000</td>\n",
       "      <td>0.000000</td>\n",
       "      <td>0.000000</td>\n",
       "      <td>0.000000</td>\n",
       "      <td>0.000000</td>\n",
       "      <td>0.000000</td>\n",
       "      <td>0.005571</td>\n",
       "      <td>0.015132</td>\n",
       "      <td>0.0</td>\n",
       "      <td>0.000000</td>\n",
       "      <td>0.071340</td>\n",
       "      <td>0.000000</td>\n",
       "      <td>0.000000</td>\n",
       "      <td>0.000000</td>\n",
       "    </tr>\n",
       "    <tr>\n",
       "      <th>you're</th>\n",
       "      <td>0.003381</td>\n",
       "      <td>0.000000</td>\n",
       "      <td>0.005752</td>\n",
       "      <td>0.000000</td>\n",
       "      <td>0.004560</td>\n",
       "      <td>0.007922</td>\n",
       "      <td>0.000000</td>\n",
       "      <td>0.000000</td>\n",
       "      <td>0.000000</td>\n",
       "      <td>0.000000</td>\n",
       "      <td>0.012836</td>\n",
       "      <td>0.006973</td>\n",
       "      <td>0.0</td>\n",
       "      <td>0.018953</td>\n",
       "      <td>0.000000</td>\n",
       "      <td>0.000000</td>\n",
       "      <td>0.002937</td>\n",
       "      <td>0.011552</td>\n",
       "    </tr>\n",
       "    <tr>\n",
       "      <th>you've</th>\n",
       "      <td>0.000000</td>\n",
       "      <td>0.000000</td>\n",
       "      <td>0.000000</td>\n",
       "      <td>0.000000</td>\n",
       "      <td>0.000000</td>\n",
       "      <td>0.000000</td>\n",
       "      <td>0.000000</td>\n",
       "      <td>0.000000</td>\n",
       "      <td>0.017624</td>\n",
       "      <td>0.000000</td>\n",
       "      <td>0.000000</td>\n",
       "      <td>0.000000</td>\n",
       "      <td>0.0</td>\n",
       "      <td>0.000000</td>\n",
       "      <td>0.000000</td>\n",
       "      <td>0.000000</td>\n",
       "      <td>0.000000</td>\n",
       "      <td>0.000000</td>\n",
       "    </tr>\n",
       "    <tr>\n",
       "      <th>your</th>\n",
       "      <td>0.003969</td>\n",
       "      <td>0.004845</td>\n",
       "      <td>0.002701</td>\n",
       "      <td>0.000655</td>\n",
       "      <td>0.000714</td>\n",
       "      <td>0.002789</td>\n",
       "      <td>0.002162</td>\n",
       "      <td>0.000000</td>\n",
       "      <td>0.000000</td>\n",
       "      <td>0.001469</td>\n",
       "      <td>0.001205</td>\n",
       "      <td>0.000655</td>\n",
       "      <td>0.0</td>\n",
       "      <td>0.006356</td>\n",
       "      <td>0.000000</td>\n",
       "      <td>0.001074</td>\n",
       "      <td>0.000000</td>\n",
       "      <td>0.001808</td>\n",
       "    </tr>\n",
       "    <tr>\n",
       "      <th>yours</th>\n",
       "      <td>0.000000</td>\n",
       "      <td>0.005452</td>\n",
       "      <td>0.000000</td>\n",
       "      <td>0.000000</td>\n",
       "      <td>0.000000</td>\n",
       "      <td>0.000000</td>\n",
       "      <td>0.000000</td>\n",
       "      <td>0.000000</td>\n",
       "      <td>0.000000</td>\n",
       "      <td>0.000000</td>\n",
       "      <td>0.008138</td>\n",
       "      <td>0.000000</td>\n",
       "      <td>0.0</td>\n",
       "      <td>0.000000</td>\n",
       "      <td>0.000000</td>\n",
       "      <td>0.000000</td>\n",
       "      <td>0.000000</td>\n",
       "      <td>0.000000</td>\n",
       "    </tr>\n",
       "  </tbody>\n",
       "</table>\n",
       "<p>1026 rows × 18 columns</p>\n",
       "</div>"
      ],
      "text/plain": [
       "        Afterglow  Cornelia Street  Cruel Summer  Daylight  \\\n",
       "word                                                         \n",
       "16th     0.000000         0.000000      0.000000  0.000000   \n",
       "17       0.000000         0.000000      0.000000  0.000000   \n",
       "7        0.000000         0.000000      0.000000  0.000000   \n",
       "a        0.000000         0.000000      0.000000  0.000000   \n",
       "about    0.000000         0.000000      0.000000  0.000000   \n",
       "...           ...              ...           ...       ...   \n",
       "you'll   0.000000         0.000000      0.003120  0.000000   \n",
       "you're   0.003381         0.000000      0.005752  0.000000   \n",
       "you've   0.000000         0.000000      0.000000  0.000000   \n",
       "your     0.003969         0.004845      0.002701  0.000655   \n",
       "yours    0.000000         0.005452      0.000000  0.000000   \n",
       "\n",
       "        Death By A Thousand Cuts  False God  I Forgot That You Existed  \\\n",
       "word                                                                     \n",
       "16th                    0.000000   0.000000                   0.000000   \n",
       "17                      0.000000   0.000000                   0.000000   \n",
       "7                       0.000000   0.000000                   0.000000   \n",
       "a                       0.000000   0.000000                   0.000000   \n",
       "about                   0.000000   0.006278                   0.000000   \n",
       "...                          ...        ...                        ...   \n",
       "you'll                  0.000000   0.000000                   0.000000   \n",
       "you're                  0.004560   0.007922                   0.000000   \n",
       "you've                  0.000000   0.000000                   0.000000   \n",
       "your                    0.000714   0.002789                   0.002162   \n",
       "yours                   0.000000   0.000000                   0.000000   \n",
       "\n",
       "        I Think He Knows  It's Nice To Have A Friend  London Boy     Lover  \\\n",
       "word                                                                         \n",
       "16th            0.028268                    0.000000    0.000000  0.000000   \n",
       "17              0.007067                    0.000000    0.000000  0.000000   \n",
       "7               0.000000                    0.000000    0.000000  0.000000   \n",
       "a               0.000000                    0.000000    0.000000  0.000000   \n",
       "about           0.000000                    0.000000    0.000000  0.004069   \n",
       "...                  ...                         ...         ...       ...   \n",
       "you'll          0.000000                    0.000000    0.000000  0.005571   \n",
       "you're          0.000000                    0.000000    0.000000  0.012836   \n",
       "you've          0.000000                    0.017624    0.000000  0.000000   \n",
       "your            0.000000                    0.000000    0.001469  0.001205   \n",
       "yours           0.000000                    0.000000    0.000000  0.008138   \n",
       "\n",
       "        ME! (Ft. Brendon Urie of Panic! At The Disco)  \\\n",
       "word                                                    \n",
       "16th                                         0.000000   \n",
       "17                                           0.000000   \n",
       "7                                            0.000000   \n",
       "a                                            0.000000   \n",
       "about                                        0.002210   \n",
       "...                                               ...   \n",
       "you'll                                       0.015132   \n",
       "you're                                       0.006973   \n",
       "you've                                       0.000000   \n",
       "your                                         0.000655   \n",
       "yours                                        0.000000   \n",
       "\n",
       "        Miss Americana & The Heartbreak Prince  Paper Rings  \\\n",
       "word                                                          \n",
       "16th                                       0.0     0.000000   \n",
       "17                                         0.0     0.000000   \n",
       "7                                          0.0     0.000000   \n",
       "a                                          0.0     0.000000   \n",
       "about                                      0.0     0.000000   \n",
       "...                                        ...          ...   \n",
       "you'll                                     0.0     0.000000   \n",
       "you're                                     0.0     0.018953   \n",
       "you've                                     0.0     0.000000   \n",
       "your                                       0.0     0.006356   \n",
       "yours                                      0.0     0.000000   \n",
       "\n",
       "        Soon You'll Get Better (Ft. The Chicks)  The Archer   The Man  \\\n",
       "word                                                                    \n",
       "16th                                   0.000000    0.000000  0.000000   \n",
       "17                                     0.000000    0.000000  0.000000   \n",
       "7                                      0.000000    0.000000  0.000000   \n",
       "a                                      0.000000    0.000000  0.000000   \n",
       "about                                  0.004342    0.000000  0.002328   \n",
       "...                                         ...         ...       ...   \n",
       "you'll                                 0.071340    0.000000  0.000000   \n",
       "you're                                 0.000000    0.000000  0.002937   \n",
       "you've                                 0.000000    0.000000  0.000000   \n",
       "your                                   0.000000    0.001074  0.000000   \n",
       "yours                                  0.000000    0.000000  0.000000   \n",
       "\n",
       "        You Need To Calm Down  \n",
       "word                           \n",
       "16th                 0.000000  \n",
       "17                   0.000000  \n",
       "7                    0.008029  \n",
       "a                    0.000000  \n",
       "about                0.003052  \n",
       "...                       ...  \n",
       "you'll               0.000000  \n",
       "you're               0.011552  \n",
       "you've               0.000000  \n",
       "your                 0.001808  \n",
       "yours                0.000000  \n",
       "\n",
       "[1026 rows x 18 columns]"
      ]
     },
     "execution_count": 112,
     "metadata": {},
     "output_type": "execute_result"
    }
   ],
   "source": [
    "# Create a new empty DataFrame to store TF-IDF values.\n",
    "every_tfidf = bpd.DataFrame()\n",
    "\n",
    "# Create an array with the names of all songs on the Lover album.\n",
    "songs_array = np.array(lover_df.index)\n",
    "\n",
    "# Loop through the songs, and for each song, compute a Series of TF-IDF values for each word.\n",
    "for song in songs_array:\n",
    "    # Assign tf_numerators to a Series of the numerators of the TF values of each word, for this song.\n",
    "    tf_numerators = counts_df.get(song)\n",
    "    \n",
    "    # Assign tf_denominator to the denominator of all TF values, for this song. \n",
    "    # Note that this is a single number, not a Series or array.\n",
    "    # We use the same denominator when calculating the TF of each word, for this song.\n",
    "    tf_denominator = np.sum(np.array(counts_df.get(song)))\n",
    "    \n",
    "    # Assign tfs to a Series of the TF values of each word, for this song.\n",
    "    tfs = tf_numerators / tf_denominator\n",
    "    \n",
    "    # Assign tfidfs to a Series of the TF-IDF values of each word, for this song.\n",
    "    # Remember that you've already calculated the IDF of each word, so use those values here.\n",
    "    tfidfs = tfs * (idf_array)\n",
    "    \n",
    "    # Add a new column to the DataFrame every_tfidf.\n",
    "    # The column name is the song title and the contents are the values in tfidfs.\n",
    "    # Don't worry about how the line of code below works.\n",
    "    every_tfidf = every_tfidf.assign(**{song: tfidfs})\n",
    "\n",
    "every_tfidf"
   ]
  },
  {
   "cell_type": "code",
   "execution_count": 114,
   "id": "af1b79eb",
   "metadata": {},
   "outputs": [
    {
     "data": {
      "text/plain": [
       "True"
      ]
     },
     "execution_count": 114,
     "metadata": {},
     "output_type": "execute_result"
    }
   ],
   "source": [
    "every_tfidf.get('You Need To Calm Down').loc['about'] == tfidf_of_about"
   ]
  },
  {
   "cell_type": "markdown",
   "id": "03bb00e2",
   "metadata": {},
   "source": [
    "Now that we've done the hard work of calculating all these TF-IDF values, it's time to reap the benefits and find our keywords!\n",
    "\n",
    "Find the 10 words with the highest TF-IDF values for the song `'Cruel Summer'`. Store these words in an array called `top_10_summer`. Sort the words in decreasing order of TF-IDF, breaking ties any way you like. These words should be a good summary for `'Cruel Summer'`. ⛱️"
   ]
  },
  {
   "cell_type": "code",
   "execution_count": 115,
   "id": "323eb1dd",
   "metadata": {
    "scrolled": true
   },
   "outputs": [
    {
     "data": {
      "text/plain": [
       "array(['summer', 'woahoh', 'cruel', 'roll', 'yeah', 'ooh', 'waiting',\n",
       "       'shape', 'breakable', 'keep'], dtype=object)"
      ]
     },
     "execution_count": 115,
     "metadata": {},
     "output_type": "execute_result"
    }
   ],
   "source": [
    "top_10_summer = np.array(every_tfidf.get('Cruel Summer').sort_values(ascending=False).take(np.arange(10)).index)\n",
    "top_10_summer"
   ]
  },
  {
   "cell_type": "markdown",
   "id": "5990d67c",
   "metadata": {},
   "source": [
    "Implementation of the function `ten_keywords`, which takes in the name of a song on the `'Lover'` album and returns an array of the 10 words with the highest TF-IDF values, sorted in decreasing order of TF-IDF. Again, ties can be broken in any way."
   ]
  },
  {
   "cell_type": "code",
   "execution_count": 117,
   "id": "0a51de6a",
   "metadata": {},
   "outputs": [
    {
     "data": {
      "text/plain": [
       "array(['fancy', 'london', 'boy', 'ooh', 'love', 'mates', 'child', 'likes',\n",
       "       'rumors', 'took'], dtype=object)"
      ]
     },
     "execution_count": 117,
     "metadata": {},
     "output_type": "execute_result"
    }
   ],
   "source": [
    "def ten_keywords(song_name):\n",
    "    return np.array(every_tfidf.get(song_name).sort_values(ascending=False).take(np.arange(10)).index)\n",
    "    \n",
    "# Here's one sample call, but try some more!\n",
    "ten_keywords('London Boy')"
   ]
  }
 ],
 "metadata": {
  "kernelspec": {
   "display_name": "Python 3 (ipykernel)",
   "language": "python",
   "name": "python3"
  },
  "language_info": {
   "codemirror_mode": {
    "name": "ipython",
    "version": 3
   },
   "file_extension": ".py",
   "mimetype": "text/x-python",
   "name": "python",
   "nbconvert_exporter": "python",
   "pygments_lexer": "ipython3",
   "version": "3.9.5"
  },
  "vscode": {
   "interpreter": {
    "hash": "aee8b7b246df8f9039afb4144a1f6fd8d2ca17a180786b69acc140d282b71a49"
   }
  }
 },
 "nbformat": 4,
 "nbformat_minor": 5
}
